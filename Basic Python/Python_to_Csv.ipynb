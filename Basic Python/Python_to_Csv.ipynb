{
 "cells": [
  {
   "cell_type": "code",
   "execution_count": 5,
   "metadata": {},
   "outputs": [],
   "source": [
    "import pandas as pd"
   ]
  },
  {
   "cell_type": "code",
   "execution_count": 6,
   "metadata": {},
   "outputs": [],
   "source": [
    "results = pd.DataFrame(columns = ['driver_id', 'lap', 'lap_time_seconds'], data = {'driver_id': [1, 1, 1, 1, 1, 2, 2, 2, 2, 2, 3, 3, 3, 3, 3],\n",
    "                                                                           'lap': [1,2,3,4,5,\n",
    "                                                                                   1,2,3,4,5,\n",
    "                                                                                   1,2,3,4,5],\n",
    "                                                                           'lap_time_seconds': [189,180,177,172,192,\n",
    "                                                                                    184,192,156,199,178,\n",
    "                                                                                    177,164,163,179,159]})\n",
    "\n",
    "\n"
   ]
  },
  {
   "cell_type": "code",
   "execution_count": 7,
   "metadata": {},
   "outputs": [],
   "source": [
    "results.to_csv('/Users/oscar/Desktop/results.csv')"
   ]
  },
  {
   "cell_type": "code",
   "execution_count": 8,
   "metadata": {},
   "outputs": [],
   "source": [
    "race_results = pd.DataFrame(columns = ['driver_id', 'circuit', 'avg_lap_time_seconds'], data = {'driver_id': [1, 1, 1, 2, 2, 2, 3, 3, 3, 4, 4, 4, 5, 5, 5],\n",
    "                                                                           'circuit': ['Monaco','Silverstone Circuit','Nurburgring Nordschleife',\n",
    "                                                                                       'Monaco','Silverstone Circuit','Nurburgring Nordschleife',\n",
    "                                                                                       'Monaco','Silverstone Circuit','Nurburgring Nordschleife',\n",
    "                                                                                       'Monaco','Silverstone Circuit','Nurburgring Nordschleife',\n",
    "                                                                                       'Monaco','Silverstone Circuit','Nurburgring Nordschleife'],\n",
    "                                                                           'avg_lap_time_seconds': [83,83,430,\n",
    "                                                                                            79,91,420,\n",
    "                                                                                            80,63,482,\n",
    "                                                                                            85,78,421,\n",
    "                                                                                            84,82,483]})"
   ]
  },
  {
   "cell_type": "code",
   "execution_count": 10,
   "metadata": {},
   "outputs": [],
   "source": [
    "race_results.to_csv('/Users/oscar/Desktop/race_results.csv')"
   ]
  },
  {
   "cell_type": "code",
   "execution_count": 11,
   "metadata": {},
   "outputs": [],
   "source": [
    "circuit_info = pd.DataFrame(columns = ['circuit', 'lap_length_meters'], data = {'circuit': ['Monaco','Silverstone Circuit','Nurburgring Nordschleife'],\n",
    "                                                                        'lap_length_meters': [3300, 5800, 20000]})\n"
   ]
  },
  {
   "cell_type": "code",
   "execution_count": null,
   "metadata": {},
   "outputs": [],
   "source": [
    "circuit_info.to_csv('/Users/oscar/Desktop/circuit_info.csv')\n"
   ]
  }
 ],
 "metadata": {
  "kernelspec": {
   "display_name": "Python 3",
   "language": "python",
   "name": "python3"
  },
  "language_info": {
   "codemirror_mode": {
    "name": "ipython",
    "version": 3
   },
   "file_extension": ".py",
   "mimetype": "text/x-python",
   "name": "python",
   "nbconvert_exporter": "python",
   "pygments_lexer": "ipython3",
   "version": "3.8.3"
  }
 },
 "nbformat": 4,
 "nbformat_minor": 4
}
