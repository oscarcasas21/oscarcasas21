{
 "cells": [
  {
   "cell_type": "markdown",
   "metadata": {},
   "source": [
    "## Unit 2 Assignment - W200 Introduction to Data Science Programming, UC Berkeley MIDS"
   ]
  },
  {
   "cell_type": "markdown",
   "metadata": {},
   "source": [
    "## Python Coding\n",
    "\n",
    "Write a script to solve each of the following problems.  Please save each problem as it's own separate .py file, named according to each problem. Please upload these **five .py scripts** to your GitHub repository in your SUBMISSIONS/week_02 folder.\n",
    "\n",
    "Assignment due date: 11:59PM PST the night before the Week 3 Live Session."
   ]
  },
  {
   "cell_type": "markdown",
   "metadata": {},
   "source": [
    "## Objectives:\n",
    "\n",
    "- Demonstrate how to obtain user input into a Python script\n",
    "- Comprehend how to save a Python script to a .py file\n",
    "- Understand how to run a Python script from the command line\n",
    "- Demonstrate outputting useful information to the user in the correct format\n",
    "- Use Python numerical and string variables to calculate values and output these to the user\n",
    "- Demonstrate use of the while loop and if statements"
   ]
  },
  {
   "cell_type": "markdown",
   "metadata": {},
   "source": [
    "## General Guidelines:\n",
    "\n",
    "- Even though your final submission must be individual .py files, it may be helpful to first solve the problems in this jupyter notebook, then translate the files into .py form.  A coding cell is provided for each problem to facilitate this.\n",
    "- Please format your input and output strings to be user friendly.  For tips on how to do this, see the python string formatting cookbook at: https://mkaz.blog/code/python-string-format-cookbook/.  For example, in the first problem below, format the tip to two decimal places like 15.25 instead of 15.25000001.\n",
    "- Limited user input validation and error checking is encouraged on this assignment. Each question below will indicate the type of input that you can expect. (for example, if the question states the input will be an integer you can expect the user to input an integer and do not need to check to ensure it is an integer versus a float or a string)\n",
    "- Adding comments in your code is strongly suggested but won't be graded.\n",
    "- The examples given are samples of how we will test/grade your code. Please ensure your scripts output the same information.\n",
    "- If you are stuck on a problem or do not understand a question - please come to office hours or ask questions to the class Google group (please don't post your code though). If it is a coding problem send a private email to all of the instructors at: mids-python-instructors@googlegroups.com.\n",
    "- We also have a TA tutor for extra help and 1 on 1 sessions!\n",
    "- Hints are given in some of the questions; these are optional so you do NOT need to use the hint (or code your answer that way) as long as your code meets the requirements of the problem.\n",
    "- You may use any libraries from the Python Standard Library for this assignment: https://docs.python.org/3/library/"
   ]
  },
  {
   "cell_type": "markdown",
   "metadata": {},
   "source": [
    "## Grading Rubric\n",
    "\n",
    "General grading rubric guidelines / philosophy:\n",
    "\n",
    "- The total possible points will be shown for each question\n",
    "- Please read each question carefully to understand the requirements\n",
    "- Points for each question are rewarded based on how well your code fulfills those requirements\n",
    "- Some problems have an example given to help show what is needed and how to format the answer\n",
    "- For the first question (2-1) below, a detailed grading rubric is given as an example.\n",
    "- For the rest of the questions, its up to you to determine the requirements and code them!\n",
    "\n",
    "More on grading:\n",
    "- If the question is blank / not attempted, no points will be given\n",
    "- Most points are given for code that runs (does not crash) and fulfills the requirements\n",
    "- Minor points are given for formatting the answer in accordance with the question"
   ]
  },
  {
   "cell_type": "markdown",
   "metadata": {},
   "source": [
    "### 2-1. Tip Calculator (20 points)\n",
    "\n",
    "Below, you can see the script we wrote to compute the tip for a meal.  Fix it so that it works correctly. Expect the input to be a **number.** Please format the output to 2 decimal places. \n",
    "\n",
    "Save your script as the file: tip.py.\n",
    "\n",
    "Example Grading Rubric:\n",
    "- 10 points: fixing the crash so the program works with numbers (for example: 10 or 4.99)\n",
    "- 5 points: formatting the output correctly to 2 decimal places\n",
    "- 5 points: naming the file correctly (tip.py)"
   ]
  },
  {
   "cell_type": "code",
   "execution_count": 3,
   "metadata": {},
   "outputs": [
    {
     "name": "stdout",
     "output_type": "stream",
     "text": [
      "Enter the price of a meal: 3.333\n",
      "A 16% tip would be: 0.53\n",
      "The total including tip would be: 3.87\n"
     ]
    }
   ],
   "source": [
    "price = float(input(\"Enter the price of a meal: \"))\n",
    "\n",
    "tip = price * 0.16\n",
    "total = price + tip\n",
    "\n",
    "print(\"A 16% tip would be:\", \"%.2f\" % tip)\n",
    "print(\"The total including tip would be:\", \"%.2f\" % total)"
   ]
  },
  {
   "cell_type": "markdown",
   "metadata": {},
   "source": [
    "### 2-2. Gas Pump Informer (20 points)\n",
    "\n",
    "Write a script that prompts the user for a **number** of gallons of gasoline. Reprint that value, along with its conversion to other measurements:\n",
    "\n",
    "- Equivalent number of liters (format to 4 decimals)\n",
    "- Number of barrels of oil required to produce it (format to 3 decimals)\n",
    "- Price in U.S. dollars (format to 2 decimals)\n",
    "\n",
    "Figures to use:\n",
    "\n",
    "- 1 gallon is equivalent to 3.7854 liters.\n",
    "- 1 barrel of oil produces 19.5 gallons of gas.\n",
    "- The average price of gas is approximately $3.65 per gallon.\n",
    "\n",
    "Save your script as: gas.py"
   ]
  },
  {
   "cell_type": "code",
   "execution_count": 7,
   "metadata": {},
   "outputs": [
    {
     "name": "stdout",
     "output_type": "stream",
     "text": [
      "Enter the number of gallons of a gasoline: 1\n",
      "The gallons of gas: 1.0\n",
      "The amount of liters of gas: 3.7854\n",
      "The amount of barrels of gas: 0.051\n",
      "The price: $ 3.65\n"
     ]
    }
   ],
   "source": [
    "gas = float(input(\"Enter the number of gallons of a gasoline: \"))\n",
    "liters = gas * 3.7854\n",
    "barrel = gas / 19.5\n",
    "price = gas * 3.65\n",
    "\n",
    "print(\"The gallons of gas:\", gas)\n",
    "print(\"The amount of liters of gas:\", \"%.4f\" % liters)\n",
    "print(\"The amount of barrels of gas:\", \"%.3f\" % barrel)\n",
    "print(\"The price: $\", \"%.2f\" % price)"
   ]
  },
  {
   "cell_type": "markdown",
   "metadata": {},
   "source": [
    "### 2-3. Number Averager (20 points)\n",
    "\n",
    "Write a script that prompts the user for **two numbers**, a and b. Then, prompt the user to enter a type of average out of the three options below. Make it so the user would just type in a **number** 1, 2 or 3 for the average (i.e. 1 for arithmetic mean, 2 for geometric mean, or 3 for root-mean-square). This numerical selection is an example of how to give the user a simple response that will get around potential spelling errors and head off user frustration. This design decision makes the user interaction more robust. No requirement to round or format numbers for this problem. Output the correct average, based on what the user selected.\n",
    "\n",
    "1. The arithmetic mean:  $(a + b) / 2 $\n",
    "2. The geometric mean:  $\\sqrt{ab}$\n",
    "3. The root-mean-square: $\\sqrt{\\frac{a^2 + b^2}{2}}$\n",
    "\n",
    "Save your script as: averages.py"
   ]
  },
  {
   "cell_type": "code",
   "execution_count": 19,
   "metadata": {},
   "outputs": [
    {
     "name": "stdout",
     "output_type": "stream",
     "text": [
      "Enter number a: 2\n",
      "Enter number b: 8\n",
      "Enter operation: (arithmetic mean = 1, geometric mean = 2, root-mean-square = 3)3\n",
      "The answer is 5.830951894845301\n"
     ]
    }
   ],
   "source": [
    "import math \n",
    "a = float(input(\"Enter number a: \"))\n",
    "b = float(input(\"Enter number b: \"))\n",
    "c = int(input(\"Enter operation: (arithmetic mean = 1, geometric mean = 2, root-mean-square = 3)\"))\n",
    "\n",
    "if c == 1:\n",
    "    result = (a+b)/2\n",
    "    print(\"The answer is \" + str(result))\n",
    "elif c == 2:\n",
    "    result = math.sqrt(a*b)\n",
    "    print(\"The answer is \" + str(result))\n",
    "elif c == 3:\n",
    "    result = math.sqrt(((a*a) + (b*b))/2)\n",
    "    print(\"The answer is \" + str(result))\n",
    "else:\n",
    "    print(\"Incorrect Input Operator\")\n",
    "    \n"
   ]
  },
  {
   "cell_type": "markdown",
   "metadata": {},
   "source": [
    "### 2-4. Income Tax (20 points)\n",
    "\n",
    "The mythical island nation of Laskoatu has a rather simple tax code.  The first 1000 dollars of income is taxed at 5%.  The next 1000 dollars is taxed at 10%.  Any income beyond the first 2000 dollars is taxed at 15%.  Complete the following script so that it asks the user for his or her income (a **number**) and outputs the amount of tax owed. Format numbers to 2 decimal places.\n",
    "\n",
    "Example:\n",
    "```\n",
    "Please enter your income: 1500\n",
    "\n",
    "The tax owed is: $100.00 \n",
    "```\n",
    "\n",
    "Save your script as: tax.py"
   ]
  },
  {
   "cell_type": "code",
   "execution_count": 27,
   "metadata": {},
   "outputs": [
    {
     "name": "stdout",
     "output_type": "stream",
     "text": [
      "Enter income: 3000\n",
      "Your total tax debt is: $300.00\n"
     ]
    }
   ],
   "source": [
    "income = float(input(\"Enter income: \"))\n",
    "\n",
    "if income <= 1000:\n",
    "    tax = income* .05\n",
    "elif income > 1000 and income <= 2000:\n",
    "    tax = 50 + .1*(income-1000)\n",
    "elif income > 2000:\n",
    "    tax = 150 + .15*(income-2000)\n",
    "    \n",
    "print(\"Your total tax debt is: $\" + \"%.2f\" % tax )"
   ]
  },
  {
   "cell_type": "markdown",
   "metadata": {},
   "source": [
    "### 2-5. Palindrome (20 points)\n",
    "\n",
    "Write a script that prompts the user for a name (this input will be a **1 word string**). Using a while loop that counts downwards, print the letters of the name reversed (hint: you can use print(var, end='') in each iteration of the loop). You cannot use the 'reverse' function or the string slicing [::-1] method for this problem! You should use s.lower() and s.upper(), as appropriate, to change the string to lowercase and print it out with only the first letter of the reversed word in uppercase. If the name is the same forward and backwards, print \"Palindrome!\" on the next line. Make sure your code prints the sample examples exactly as shown below.\n",
    "\n",
    "Hint: You can use string concatenation in place of the reverse or string slicing [::-1] methods.\n",
    "\n",
    "Examples:\n",
    "```\n",
    "Enter your name: Paul\n",
    "Luap\n",
    "\n",
    "Enter your name: ANA\n",
    "Ana\n",
    "Palindrome!\n",
    "```\n",
    "\n",
    "Save your script as: palindrome.py"
   ]
  },
  {
   "cell_type": "code",
   "execution_count": 36,
   "metadata": {},
   "outputs": [
    {
     "name": "stdout",
     "output_type": "stream",
     "text": [
      "Enter name: Yeep\n",
      "Peey\n"
     ]
    }
   ],
   "source": [
    "variable = str(input(\"Enter name: \"))\n",
    "\n",
    "\n",
    "i = len(variable)-1\n",
    "\n",
    "name = variable.lower()\n",
    "name = name[:i] + name[i].upper()\n",
    "\n",
    "reverse = \"\"\n",
    "\n",
    "while i >= 0:\n",
    "    reverse = reverse + name[i]\n",
    "    i = i-1\n",
    "print(reverse)\n",
    "if reverse == variable:\n",
    "    print(\"Palindrome!\")\n",
    "\n"
   ]
  },
  {
   "cell_type": "markdown",
   "metadata": {
    "collapsed": true
   },
   "source": [
    "## If you have feedback for this homework, please submit it using the link below:\n",
    "\n",
    "http://goo.gl/forms/74yCiQTf6k"
   ]
  },
  {
   "cell_type": "code",
   "execution_count": null,
   "metadata": {},
   "outputs": [],
   "source": []
  }
 ],
 "metadata": {
  "anaconda-cloud": {},
  "kernelspec": {
   "display_name": "Python 3",
   "language": "python",
   "name": "python3"
  },
  "language_info": {
   "codemirror_mode": {
    "name": "ipython",
    "version": 3
   },
   "file_extension": ".py",
   "mimetype": "text/x-python",
   "name": "python",
   "nbconvert_exporter": "python",
   "pygments_lexer": "ipython3",
   "version": "3.8.5"
  }
 },
 "nbformat": 4,
 "nbformat_minor": 1
}
