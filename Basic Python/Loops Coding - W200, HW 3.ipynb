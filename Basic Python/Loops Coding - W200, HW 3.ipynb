{
 "cells": [
  {
   "cell_type": "markdown",
   "metadata": {},
   "source": [
    "## Week 3 Assignment - W200 Introduction to Data Science Programming, UC Berkeley MIDS"
   ]
  },
  {
   "cell_type": "markdown",
   "metadata": {},
   "source": [
    "Write code in this jupyter Notebook to solve the following problems. Please upload this **Notebook** with your solutions to your GitHub repository in your SUBMISSIONS/week_03 folder by 11:59PM PST the night before class."
   ]
  },
  {
   "cell_type": "markdown",
   "metadata": {},
   "source": [
    "## Objectives:\n",
    "\n",
    "- More practice with while loops, if statements and gathering user inputs\n",
    "- Demonstrate use of Python data structures such as lists, tuples, and dictionaries\n",
    "- Understand how to add items to these data structures and print the contents of each to the user"
   ]
  },
  {
   "cell_type": "markdown",
   "metadata": {},
   "source": [
    "## General Guidelines:\n",
    "\n",
    "- In each code block, do NOT delete the ### comment at the top of a cell (it's needed for the auto-grading!)\n",
    "- Limited user input validation and error checking is encouraged on this assignment. Each question below will indicate the type of input that you can expect. (for example, if the question states the input will be an integer, you can expect the user to input an integer and do not need to check to ensure it is an integer versus a float or a string)\n",
    "- Adding comments in your code is strongly suggested but won't be graded.\n",
    "- The examples given are samples of how we will test/grade your code. Please ensure your code outputs the same information.\n",
    "- If you are stuck on a problem or do not understand a question - please come to office hours or ask questions to the class Google group (please don't post your code though). If it is a coding problem send a private email to all of the instructors at: mids-python-instructors@googlegroups.com\n",
    "- You may use any libraries from the Python Standard Library for this assignment: https://docs.python.org/3/library/\n",
    "- We also have a tutor if you would like a 1 on 1 session!"
   ]
  },
  {
   "cell_type": "markdown",
   "metadata": {},
   "source": [
    "## Grading Rubric\n",
    "\n",
    "General grading rubric guidelines / philosophy:\n",
    "\n",
    "- The total possible points will be shown for each question\n",
    "- Please read each question carefully to understand the requirements\n",
    "- Points for each question are rewarded based on how well your code fulfills those requirements\n",
    "- All of the problems have an example given to help show what is needed and how to format the answer\n",
    "- For the rest of the questions, its up to you to determine the requirements and code them!\n",
    "\n",
    "More on grading:\n",
    "- If the question is blank / not attempted, no points will be given\n",
    "- Most points are given for code that runs (does not crash) and fulfills the requirements\n",
    "- Minor points are given for formatting the answer in accordance with the question"
   ]
  },
  {
   "cell_type": "markdown",
   "metadata": {
    "collapsed": true
   },
   "source": [
    "### 3-1. Pig Latin Translator (20 points)\n",
    "\n",
    "Write code that translates a name into (simplified) Pig Latin. (Please do not make this a 'real' Pig Latin translator.)  Have your script ask the user for his or her name, which can comprise first, middle, and/or last parts. For each name part, move the first letter to the end of the part and append the letters \"ay\". Make sure that only the first letter of each word in your output is capitalized. You can use the ```split()``` method on the string to create a list of the name parts. Be sure that your script can handle one, two or three name parts separated by spaces. This will likely involve a loop.\n",
    "\n",
    "Your script should re-create the following example exactly:\n",
    "\n",
    "```\n",
    "Enter your name: Paul Laskowski\n",
    "\n",
    "Aulpay Askowskilay\n",
    "```"
   ]
  },
  {
   "cell_type": "code",
   "execution_count": 1,
   "metadata": {},
   "outputs": [
    {
     "name": "stdout",
     "output_type": "stream",
     "text": [
      "Enter your name: Oscar Juan Casas\n",
      "Scaroay Uanjay Asascay \n"
     ]
    }
   ],
   "source": [
    "### Q3-1 Grading Tag: Please put your entire solution in this cell. Don't edit this line.\n",
    "Name = input('Enter your name: ')\n",
    "Name = Name.split()\n",
    "Super_Name =\"\"\n",
    "for i in range(len(Name)):\n",
    "    Pig = Name[i][1::].capitalize() + Name[i][0].lower() + \"ay\"\n",
    "    Super_Name = Super_Name + Pig + \" \"\n",
    "print(Super_Name)"
   ]
  },
  {
   "cell_type": "markdown",
   "metadata": {
    "collapsed": true
   },
   "source": [
    "### 3-2. Matrix Inverter (20 points)\n",
    "\n",
    "One place where the usage of tuples is convenient is in the representation of matrices.  The values in a 2x2 matrix are labeled as follows:\n",
    "$$\n",
    "\\begin{bmatrix}\n",
    "    a       & b  \\\\\n",
    "    c       & d\n",
    "\\end{bmatrix}\n",
    "$$\n",
    "\n",
    "Write code that asks the user for a text string including the four **numbers**, a, b, c, and d, separated by spaces.  You can use the `split()` method on the string to create a list of the four values in order.\n",
    "\n",
    "Create a tuple that represents each row, then create a tuple that contains those two tuples.  It should have the form `((a, b), (c, d))`.  **Print this representation.**\n",
    "\n",
    "The inverse of the matrix above is given by the formula:\n",
    "\n",
    "$$\n",
    "\\frac{1}{ad-bc} \\begin{bmatrix}\n",
    "    d       & -b  \\\\\n",
    "    -c       & a\n",
    "\\end{bmatrix}\n",
    "$$\n",
    "\n",
    "Recall that multiplying a matrix by a number effectively multiplies each element of the matrix by that number.\n",
    "\n",
    "Compute the inverse of the given matrix, again represented as nested tuples, use fstring formatting to show each number to **4** decimal places and **print this representation**. Use the example below to make sure you understand the equation correctly:\n",
    "\n",
    "An example on fstring formatting:\n",
    "\n",
    "`print(f'matrix: (({a:.4f}, {b:.4f}), ({c:.4f}, {d:.4f}))')\"`\n",
    "\n",
    "```\n",
    "Please enter four numbers separated by spaces: 1 2 3 4\n",
    "\n",
    "matrix: ((1.0000, 2.0000), (3.0000, 4.0000))\n",
    "inverse: ((-2.0000, 1.0000), (1.5000, -0.5000))\n",
    "```"
   ]
  },
  {
   "cell_type": "code",
   "execution_count": 2,
   "metadata": {},
   "outputs": [
    {
     "name": "stdout",
     "output_type": "stream",
     "text": [
      "Please enter four numbers separated by spaces:1 2 3 4\n",
      "matrix: ((1.0000, 2.0000), (3.0000, 4.0000))\n",
      "inverse matrix: ((-2.0000, 1.0000), (1.5000, -0.5000))\n"
     ]
    }
   ],
   "source": [
    "### Q3-2 Grading Tag: Please put your entire solution in this cell. Don't edit this line.\n",
    "inputs = input('Please enter four numbers separated by spaces:')\n",
    "inputs = inputs.split(\" \")\n",
    "a = float(inputs[0])\n",
    "b = float(inputs[1])\n",
    "c = float(inputs[2])\n",
    "d = float(inputs[3])\n",
    "matrix = ((a,b),(c,d))\n",
    "det = 1/((a*d) - (b*c))\n",
    "\n",
    "\n",
    "inverse = ( (det*d, -1 * det * b), (-1 * det * c, det * a) )\n",
    "\n",
    "print(f'matrix: (({a:.4f}, {b:.4f}), ({c:.4f}, {d:.4f}))')\n",
    "print(f'inverse matrix: (({inverse[0][0]:.4f}, {inverse[0][1]:.4f}), ({inverse[1][0]:.4f}, {inverse[1][1]:.4f}))')"
   ]
  },
  {
   "cell_type": "markdown",
   "metadata": {},
   "source": [
    "### 3-3. Create a to-do list program using a dictionary of lists (20 points)\n",
    "\n",
    "Write code that stores a to-do list for each day of the week (Sunday through Saturday). Your program needs to have the following elements:\n",
    "\n",
    "- A dictionary to store information:\n",
    "  - The key in the dictionary for each day of the week\n",
    "  - Each key has a value of a list that stores the to-do list items\n",
    "- User can type \"add\" and the program will ask what day, then ask what item to add to that day. Ensure the user can add multiple items per day. (That is, ensure that this adds a new item, not replaces an existing item.)\n",
    "- User can type \"get\" and the program will ask for the day and print the values\n",
    "- The program will loop, using a while loop, until the user specifies \"quit\"\n",
    "- Some user error checking is required, specifically: upper/lowercase for the days of the week, incorrect day of the week, or an incorrect command\n",
    "- ** Hint: This task requires you to use tools you learned about in Unit 2 (\"if\" and \"loops\") along with dictionaries and lists.**\n",
    "\n",
    "Example:\n",
    "```\n",
    "Prompt: What would you like to do?\n",
    "> add\n",
    "\n",
    "Prompt: What day?\n",
    "> Friday\n",
    "\n",
    "Prompt: What would you like to add to Friday's to-do list?\n",
    "> practice clarinet\n",
    "\n",
    "Prompt: What would you like to do?\n",
    "> get\n",
    "\n",
    "Prompt: What day?\n",
    "> funday\n",
    "Invalid entry - please enter a correct day of the week (like Monday or monday).\n",
    "\n",
    "Prompt: What day?\n",
    "> friday\n",
    "\n",
    "Response: You have to practice clarinet.\n",
    "\n",
    "Prompt: What would you like to do?\n",
    "> quit\n",
    "\n",
    "Response: Ending program. Thank you for using the to-do list!\n",
    "```"
   ]
  },
  {
   "cell_type": "code",
   "execution_count": 1,
   "metadata": {},
   "outputs": [
    {
     "name": "stdout",
     "output_type": "stream",
     "text": [
      "What would you like to do?\n",
      "add\n",
      "What day?\n",
      "Friday\n",
      "What would you like to add to friday's to-do list?\n",
      "practice\n",
      "What would you like to do?\n",
      "get\n",
      "What day?\n",
      "friday\n",
      "You have to practice\n",
      "What would you like to do?\n",
      "quit\n",
      "Ending program. Thank you for using the to-do list!\n",
      "\n"
     ]
    }
   ],
   "source": [
    "### Q3-3 Grading Tag: Please put your entire solution in this cell. Don't edit this line.\n",
    "week = {\"monday\":\"do nothing\",\"tuesday\":\"do nothing\",\"wednesday\":\"do nothing\",\"thursday\":\"do nothing\",\"friday\":\"do nothing\",\"saturday\":\"do nothing\",\"sunday\":\"do nothing\"}\n",
    "i = 0\n",
    "\n",
    "while i == 0:\n",
    "    inputs = input('What would you like to do?\\n')\n",
    "    if inputs == \"add\":\n",
    "        day = input('What day?\\n')\n",
    "        day = day.lower()\n",
    "        if week[day] == \"do nothing\":\n",
    "            activity = input('What would you like to add to ' + str(day) + \"'s to-do list?\\n\")\n",
    "            week[day] = activity\n",
    "        else:\n",
    "            print('Invalid entry - please enter a correct day of the week (like Monday or monday).\\n')\n",
    "    elif inputs == 'get':\n",
    "        day = input('What day?\\n')\n",
    "        day = day.lower()\n",
    "        print('You have to ' + str(week[day]))\n",
    "    elif inputs == 'quit':\n",
    "        print('Ending program. Thank you for using the to-do list!\\n')\n",
    "        i = 1\n",
    "    else:\n",
    "        print('Invalid entry - please enter a correct action (like get, add or quit).\\n')  "
   ]
  },
  {
   "cell_type": "markdown",
   "metadata": {},
   "source": [
    "### 3-4. Fibonacci (20 points)\n",
    "\n",
    "The Fibonacci numbers begin with 1, 1.  After the first two numbers, each number is the sum of the previous two. 1 + 1 = 2, so 2 is the third number. Then 1 + 2 = 3, so 3 is the next one, and so on. Write a script that prompts the user for an integer number, then prints all the Fibonacci numbers that are less than or equal to the input, in order.\n",
    "\n",
    "Example:\n",
    "```\n",
    "Enter a number: 15\n",
    "\n",
    "1 1 2 3 5 8 13\n",
    "```"
   ]
  },
  {
   "cell_type": "code",
   "execution_count": 2,
   "metadata": {},
   "outputs": [
    {
     "name": "stdout",
     "output_type": "stream",
     "text": [
      "Please enter integer:5\n",
      " 1 2 3 5\n"
     ]
    }
   ],
   "source": [
    "### Q3-4 Grading Tag: Please put your entire solution in this cell. Don't edit this line.\n",
    "inputs = int(input('Please enter integer:'))\n",
    "i = 0\n",
    "val_1 = 0\n",
    "val_2 = 1\n",
    "sequence = \"\"\n",
    "while i <= inputs:\n",
    "    if i <= 1:\n",
    "        val_3 = i\n",
    "        i= i+1\n",
    "    else:\n",
    "        val_3 = val_1 + val_2\n",
    "        val_1 = val_2\n",
    "        val_2 = val_3\n",
    "        sequence = sequence + \" \" + str(val_3) \n",
    "        i = val_1 + val_2\n",
    "print(sequence)\n"
   ]
  },
  {
   "cell_type": "markdown",
   "metadata": {},
   "source": [
    "### 3-5. Pascal's Triangle (20 points)\n",
    "\n",
    "Pascal's triangle is a triangle of numbers that is computed as follows. The first row contains a 1.  Each row after that begins and ends with a 1, and every other number is the sum of the two numbers above it. The first six rows of Pascal's triangle are shown below.\n",
    "```\n",
    "      1\n",
    "     1 1\n",
    "    1 2 1\n",
    "  1  3 3  1\n",
    " 1 4  6  4 1\n",
    "1 5 10 10 5 1\n",
    "```\n",
    "Write a script to compute and print the *n*th row of Pascal's triangle. Do not spend time trying to print the entire triangle in the format above (it is for illustrative purposes only).  The input will be the row number as an integer starting with row 1 as the first row.\n",
    "\n",
    "** Hint: Think about the type of objects you need to solve the problem. What are you iterating over? It may help to calculate a couple of rows by hand and think about the process you take. **\n",
    "\n",
    "Example:\n",
    "```\n",
    "Enter a row number: 5\n",
    "\n",
    "1 4 6 4 1\n",
    "```\n"
   ]
  },
  {
   "cell_type": "code",
   "execution_count": 19,
   "metadata": {},
   "outputs": [
    {
     "name": "stdout",
     "output_type": "stream",
     "text": [
      "Please enter integer:5\n",
      "1 4 6 4 1 \n"
     ]
    }
   ],
   "source": [
    "### Q3-5 Grading Tag: Please put your entire solution in this cell. Don't edit this line.\n",
    "row = [[],[1],[1,1]]\n",
    "\n",
    "inputs = int(input('Please enter integer:'))\n",
    "for i in range(inputs-2):\n",
    "    var_1 = row[-1]\n",
    "    var_2 = [1] + [var_1[n] + var_1[n+1] for n in range(len(var_1)-1)] + [1]\n",
    "    row.append(var_2)\n",
    "string = ''\n",
    "for i in range(len(row[inputs])):\n",
    "    string = string + str(row[inputs][i]) + \" \"\n",
    "print(string)"
   ]
  },
  {
   "cell_type": "markdown",
   "metadata": {},
   "source": [
    "## If you have feedback for this homework, please submit it using the link below:\n",
    "\n",
    "http://goo.gl/forms/74yCiQTf6k"
   ]
  },
  {
   "cell_type": "code",
   "execution_count": null,
   "metadata": {},
   "outputs": [],
   "source": []
  }
 ],
 "metadata": {
  "anaconda-cloud": {},
  "kernelspec": {
   "display_name": "Python 3",
   "language": "python",
   "name": "python3"
  },
  "language_info": {
   "codemirror_mode": {
    "name": "ipython",
    "version": 3
   },
   "file_extension": ".py",
   "mimetype": "text/x-python",
   "name": "python",
   "nbconvert_exporter": "python",
   "pygments_lexer": "ipython3",
   "version": "3.8.8"
  }
 },
 "nbformat": 4,
 "nbformat_minor": 1
}
