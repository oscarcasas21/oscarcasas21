{
 "cells": [
  {
   "cell_type": "markdown",
   "id": "caf61851",
   "metadata": {},
   "source": [
    "# <b> Big Query Project </b>"
   ]
  },
  {
   "cell_type": "code",
   "execution_count": 247,
   "id": "ff97b9ad",
   "metadata": {},
   "outputs": [],
   "source": [
    "import pandas as pd\n",
    "import matplotlib.pyplot as plt\n",
    "import seaborn as sns\n",
    "import datetime\n",
    "import numpy as np\n",
    "from pandas.io.formats.style import Styler"
   ]
  },
  {
   "cell_type": "markdown",
   "id": "223f2322",
   "metadata": {},
   "source": [
    "Author: Oscar Casas"
   ]
  },
  {
   "cell_type": "markdown",
   "id": "cdc2c3ca",
   "metadata": {},
   "source": [
    "This projects goal is to use Google Clouds BigQuery to effectively analyze the data available for Lyft Bikeshare company in San Francisco to recommend different promotions and suggestions to increase ridership. The first part of this project is just some simple SQL queries to answer some initial queries and get some data insight. "
   ]
  },
  {
   "cell_type": "markdown",
   "id": "dd73a046",
   "metadata": {},
   "source": [
    "# Part 1: BQ SQL Initial Queries\n"
   ]
  },
  {
   "cell_type": "markdown",
   "id": "6c7f7ff8",
   "metadata": {},
   "source": [
    "- ### Question 1: What's the size of this dataset? (i.e., how many trips)"
   ]
  },
  {
   "cell_type": "markdown",
   "id": "396a1b81",
   "metadata": {},
   "source": [
    "```sql\n",
    "SELECT Count(DISTINCT trip_id)\n",
    "FROM   `bigquery-public-data.san_francisco.bikeshare_trips` \n",
    "```"
   ]
  },
  {
   "cell_type": "markdown",
   "id": "6dc1106a",
   "metadata": {},
   "source": [
    "#### Answer: 983,648 trips total"
   ]
  },
  {
   "cell_type": "markdown",
   "id": "c528aca8",
   "metadata": {},
   "source": [
    " "
   ]
  },
  {
   "cell_type": "markdown",
   "id": "4c44501e",
   "metadata": {},
   "source": [
    "- ### Question 2: What is the earliest start date and time and latest end date and time for a trip?"
   ]
  },
  {
   "cell_type": "markdown",
   "id": "34f297a2",
   "metadata": {},
   "source": [
    "```sql\n",
    "SELECT Min(start_date),\n",
    "       Max(end_date)\n",
    "FROM   `bigquery-public-data.san_francisco.bikeshare_trips` \n",
    "```"
   ]
  },
  {
   "cell_type": "markdown",
   "id": "a1ea59ca",
   "metadata": {},
   "source": [
    "#### Answer: Min: 2013-08-29 09:08:00 UTC  Max: 2016-08-31 23:48:00 UTC"
   ]
  },
  {
   "cell_type": "markdown",
   "id": "a696dbdb",
   "metadata": {},
   "source": [
    " "
   ]
  },
  {
   "cell_type": "markdown",
   "id": "935394bc",
   "metadata": {},
   "source": [
    "- ### Question 3: How many bikes are there?"
   ]
  },
  {
   "cell_type": "markdown",
   "id": "e7604e82",
   "metadata": {},
   "source": [
    "```sql\n",
    "SELECT Count(DISTINCT bike_number) AS Number_of_bikes\n",
    "FROM  `bigquery-public-data.san_francisco.bikeshare_trips`\n",
    "```"
   ]
  },
  {
   "cell_type": "markdown",
   "id": "dd6fa3fb",
   "metadata": {},
   "source": [
    "#### Answer: 700 bikes total"
   ]
  },
  {
   "cell_type": "markdown",
   "id": "2d635ede",
   "metadata": {},
   "source": [
    " "
   ]
  },
  {
   "cell_type": "markdown",
   "id": "9f1d5528",
   "metadata": {},
   "source": [
    "- ### Question 4: What were the top 5 most common routes subscribers took on workdays and commuting time?"
   ]
  },
  {
   "cell_type": "markdown",
   "id": "03d268f8",
   "metadata": {},
   "source": [
    "```sql\n",
    "SELECT start_station_id,\n",
    "       end_station_id,\n",
    "       Count(trip_id) AS num_trips\n",
    "FROM   `bigquery-public-data.san_francisco.bikeshare_trips`\n",
    "WHERE  Format_date('%A', start_date) NOT IN ( \"sat\", \"sun\" )\n",
    "       AND Format_timestamp('%H', start_date) IN ( \"07\", \"08\", \"09\", \"16\",\n",
    "                                                   \"17\", \"18\" )\n",
    "       AND subscriber_type = \"Subscriber\"\n",
    "GROUP  BY start_station_id,\n",
    "          end_station_id\n",
    "ORDER  BY num_trips DESC; \n",
    "```"
   ]
  },
  {
   "cell_type": "markdown",
   "id": "2443d677",
   "metadata": {},
   "source": [
    "#### Answer: Station ID {61->50, 69->65, 50->61,60->74,51->70}"
   ]
  },
  {
   "cell_type": "markdown",
   "id": "9e36f58c",
   "metadata": {},
   "source": [
    " "
   ]
  },
  {
   "cell_type": "markdown",
   "id": "437aa820",
   "metadata": {},
   "source": [
    "- ### Question 5: What are the most 6 common start times for trips in weekdays?"
   ]
  },
  {
   "cell_type": "markdown",
   "id": "a07b1dcd",
   "metadata": {},
   "source": [
    "```sql\n",
    "SELECT Format_timestamp('%H', start_date) AS start_time,\n",
    "       Count(trip_id)                     AS num_trips\n",
    "FROM   `bigquery-public-data.san_francisco.bikeshare_trips`\n",
    "WHERE  Format_date('%A', start_date) != \"sun\"\n",
    "        AND Format_date('%A', start_date) != \"sat\"\n",
    "GROUP  BY start_time\n",
    "ORDER  BY num_trips DESC\n",
    "LIMIT 6; \n",
    "```"
   ]
  },
  {
   "cell_type": "markdown",
   "id": "7a947ba4",
   "metadata": {},
   "source": [
    "#### Answer: 8am , 9am, 5pm , 4pm"
   ]
  },
  {
   "cell_type": "markdown",
   "id": "31e3537c",
   "metadata": {},
   "source": [
    "- ### Question 6: How many trips are taken by subsribers in commuting periods during weekdays?"
   ]
  },
  {
   "cell_type": "markdown",
   "id": "ac71d603",
   "metadata": {},
   "source": [
    "```sql\n",
    "SELECT Count(trip_id) AS num_trips  \n",
    "FROM   `bigquery-public-data.san_francisco.bikeshare_trips`\n",
    "WHERE  Format_date('%A', start_date) NOT IN ( \"sat\", \"sun\" )\n",
    "       AND Format_timestamp('%H', start_date) IN ( \"07\", \"08\", \"09\", \"16\",\n",
    "                                                   \"17\", \"18\" )\n",
    "       AND subscriber_type = \"subscriber\"\n",
    "ORDER  BY num_trips DESC; \n",
    "```"
   ]
  },
  {
   "cell_type": "markdown",
   "id": "cd2bd15e",
   "metadata": {},
   "source": [
    "#### Answer: 548,427 trips"
   ]
  },
  {
   "cell_type": "markdown",
   "id": "8ef036e6",
   "metadata": {},
   "source": [
    "# Part 2: Querying data from the BigQuery CLI "
   ]
  },
  {
   "cell_type": "markdown",
   "id": "3a6a3429",
   "metadata": {},
   "source": [
    "Rereun queries from part 1 using bq command line tool. First I will print the markdown and then I will run them, magic functions can also be used."
   ]
  },
  {
   "cell_type": "markdown",
   "id": "1545c15a",
   "metadata": {},
   "source": [
    "- ### Question 1: What's the size of this dataset? (i.e., how many trips)"
   ]
  },
  {
   "cell_type": "markdown",
   "id": "e2304da1",
   "metadata": {},
   "source": [
    "```sql\n",
    "bq query --use_legacy_sql=false '\n",
    "SELECT Count(DISTINCT trip_id)\n",
    "FROM   `bigquery-public-data.san_francisco.bikeshare_trips`'\n",
    "```"
   ]
  },
  {
   "cell_type": "code",
   "execution_count": 51,
   "id": "075bc5bc",
   "metadata": {},
   "outputs": [
    {
     "name": "stdout",
     "output_type": "stream",
     "text": [
      "Waiting on bqjob_r1e12c33855f60470_0000017c32ead16f_1 ... (0s) Current status: DONE   \n",
      "+-----------------------------------------+--------------------------------------+-----------+\n",
      "|           start_station_name            |           end_station_name           | trip_freq |\n",
      "+-----------------------------------------+--------------------------------------+-----------+\n",
      "| Harry Bridges Plaza (Ferry Building)    | Embarcadero at Sansome               |      9150 |\n",
      "| San Francisco Caltrain 2 (330 Townsend) | Townsend at 7th                      |      8508 |\n",
      "| 2nd at Townsend                         | Harry Bridges Plaza (Ferry Building) |      7620 |\n",
      "| Harry Bridges Plaza (Ferry Building)    | 2nd at Townsend                      |      6888 |\n",
      "| Embarcadero at Sansome                  | Steuart at Market                    |      6874 |\n",
      "+-----------------------------------------+--------------------------------------+-----------+\n"
     ]
    }
   ],
   "source": [
    "! bq query --use_legacy_sql=FALSE 'SELECT start_station_name, end_station_name, count(*) as trip_freq FROM `bigquery-public-data.san_francisco.bikeshare_trips` GROUP BY start_station_name, end_station_name ORDER BY trip_freq DESC LIMIT 5'"
   ]
  },
  {
   "cell_type": "markdown",
   "id": "f81e304c",
   "metadata": {},
   "source": [
    "- ### Question 2: What is the earliest start date and time and latest end date and time for a trip?"
   ]
  },
  {
   "cell_type": "markdown",
   "id": "0ec65845",
   "metadata": {},
   "source": [
    "```sql\n",
    "bq query --use_legacy_sql=false '\n",
    "SELECT Min(start_date) AS Min_Start_Date,\n",
    "       Max(end_date) AS Max_Start_Date\n",
    "FROM   `bigquery-public-data.san_francisco.bikeshare_trips` '\n",
    "```"
   ]
  },
  {
   "cell_type": "code",
   "execution_count": 55,
   "id": "0bde99c8",
   "metadata": {},
   "outputs": [
    {
     "name": "stdout",
     "output_type": "stream",
     "text": [
      "Waiting on bqjob_r27cfed6c3a81444f_0000017c32f01370_1 ... (0s) Current status: DONE   \n",
      "+---------------------+---------------------+\n",
      "|   Min_Start_Date    |   Max_Start_Date    |\n",
      "+---------------------+---------------------+\n",
      "| 2013-08-29 09:08:00 | 2016-08-31 23:48:00 |\n",
      "+---------------------+---------------------+\n"
     ]
    }
   ],
   "source": [
    "! bq query --use_legacy_sql=false 'SELECT Min(start_date) AS Min_Start_Date,Max(end_date) AS Max_Start_Date FROM   `bigquery-public-data.san_francisco.bikeshare_trips`'"
   ]
  },
  {
   "cell_type": "markdown",
   "id": "f1559e90",
   "metadata": {},
   "source": [
    "- ### Question 3: How many bikes are there?"
   ]
  },
  {
   "cell_type": "markdown",
   "id": "9c9e5141",
   "metadata": {},
   "source": [
    "```sql\n",
    "bq query --use_legacy_sql=false '\n",
    "SELECT Count(DISTINCT bike_number) AS Number_of_bikes\n",
    "FROM   `bigquery-public-data.san_francisco.bikeshare_trips`'\n",
    "```"
   ]
  },
  {
   "cell_type": "code",
   "execution_count": 58,
   "id": "15f2e228",
   "metadata": {},
   "outputs": [
    {
     "name": "stdout",
     "output_type": "stream",
     "text": [
      "Waiting on bqjob_r1f87aeb0aea1f9ea_0000017c32f15743_1 ... (0s) Current status: DONE   \n",
      "+-----------------+\n",
      "| Number_of_Bikes |\n",
      "+-----------------+\n",
      "|             700 |\n",
      "+-----------------+\n"
     ]
    }
   ],
   "source": [
    "! bq query --use_legacy_sql=false 'SELECT Count(DISTINCT bike_number) AS Number_of_Bikes FROM   `bigquery-public-data.san_francisco.bikeshare_trips`'"
   ]
  },
  {
   "cell_type": "markdown",
   "id": "15ae0b39",
   "metadata": {},
   "source": [
    "- ### Question 4: How many trips are in the morning vs in the afternoon?"
   ]
  },
  {
   "cell_type": "markdown",
   "id": "e25249e8",
   "metadata": {},
   "source": [
    "Morning (6:00am - 11:59am):\n",
    "```sql\n",
    "  bq query --use_legacy_sql=false '\n",
    "  SELECT Count(trip_id) AS morning_num_trips  \n",
    "  FROM   `bigquery-public-data.san_francisco.bikeshare_trips`\n",
    "  WHERE  Format_timestamp(\"%H\", start_date) IN ( \"06\",\"07\", \"08\", \n",
    "                                                \"09\", \"10\",\"11\");'\n",
    "```\n",
    "Afternoon (12:00pm - 5:59pm):\n",
    "```sql\n",
    "  bq query --use_legacy_sql=false '\n",
    "  SELECT Count(trip_id) AS afternoon_num_trips  \n",
    "  FROM   `bigquery-public-data.san_francisco.bikeshare_trips`\n",
    "  WHERE  Format_timestamp(\"%H\", start_date) IN ( \"12\",\"13\", \"14\",  \n",
    "                                                 \"15\",\"16\",\"17\" );'\n",
    "```"
   ]
  },
  {
   "cell_type": "code",
   "execution_count": 65,
   "id": "a5207034",
   "metadata": {},
   "outputs": [
    {
     "name": "stdout",
     "output_type": "stream",
     "text": [
      "Waiting on bqjob_r69f83f283bbd6d42_0000017c32fddb12_1 ... (0s) Current status: DONE   \n",
      "+-------------------+\n",
      "| morning_num_trips |\n",
      "+-------------------+\n",
      "|            399821 |\n",
      "+-------------------+\n",
      "Waiting on bqjob_r6ad59416b1d9829d_0000017c32fde217_1 ... (0s) Current status: DONE   \n",
      "+---------------------+\n",
      "| afternoon_num_trips |\n",
      "+---------------------+\n",
      "|              391199 |\n",
      "+---------------------+\n"
     ]
    }
   ],
   "source": [
    "! bq query --use_legacy_sql=false 'SELECT Count(trip_id) AS morning_num_trips FROM   `bigquery-public-data.san_francisco.bikeshare_trips` WHERE  Format_timestamp(\"%H\", start_date) IN ( \"06\",\"07\", \"08\", \"09\", \"10\",\"11\")'\n",
    "! bq query --use_legacy_sql=false 'SELECT Count(trip_id) AS afternoon_num_trips FROM   `bigquery-public-data.san_francisco.bikeshare_trips` WHERE  Format_timestamp(\"%H\", start_date) IN ( \"12\",\"13\", \"14\", \"15\",\"16\",\"17\" )'"
   ]
  },
  {
   "cell_type": "markdown",
   "id": "f18df567",
   "metadata": {},
   "source": [
    "## Exploratory Questions"
   ]
  },
  {
   "cell_type": "markdown",
   "id": "d7ec8f1c",
   "metadata": {},
   "source": [
    "Identify the main questions you'll need to answer to make recommendations (list\n",
    "below, add as many questions as you need).\n",
    "\n",
    "- Question 1: What constitutes a commuter trip?\n",
    "\n",
    "- Question 2: What routes do commuters take during commute time?\n",
    "\n",
    "- Question 3: What regions do subscribers during commute time go in the morning vs the afternoon? (These will be designated as \n",
    "morning commute regions and afternoon commute regions)\n",
    "\n",
    "- Question 4: How many trips are taken by subsribers in commuting periods during weekdays?\n",
    "\n",
    "- Question 5: What are the 6 most common start times for trips in weekdays seperated by subscriber type?\n",
    "\n",
    "- Question 6: What were the top 5 most common routes subscribers took on workdays and commuting time?\n",
    "\n",
    "- Question 7: How many trips did non-subscribers make do specified morning and afternoon commute regions? \n",
    "\n",
    "- Question 8: How do subscriber trips trends differ monthly?"
   ]
  },
  {
   "cell_type": "markdown",
   "id": "e78d8543",
   "metadata": {},
   "source": [
    "### Question 1: What percentage of all trips were taken by subsribers in commuting periods during weekdays?"
   ]
  },
  {
   "cell_type": "markdown",
   "id": "5a1fbce6",
   "metadata": {},
   "source": [
    "#### Sub Question 1: How many trips we're taken by subscripted customers during commute periods?"
   ]
  },
  {
   "cell_type": "markdown",
   "id": "934fe564",
   "metadata": {},
   "source": [
    "  ```sql\n",
    "  bq query --use_legacy_sql=false '\n",
    "  SELECT Count(trip_id) AS num_trips  \n",
    "  FROM   `bigquery-public-data.san_francisco.bikeshare_trips`\n",
    "  WHERE  Format_date(\"%A\", start_date) NOT IN ( \"sat\", \"sun\" )\n",
    "         AND Format_timestamp(\"%H\", start_date) IN ( \"07\", \"08\", \"09\", \"16\",\n",
    "                                                     \"17\", \"18\" )\n",
    "         AND subscriber_type = \"Subscriber\"\n",
    "  ORDER  BY num_trips DESC; '\n",
    "  ```"
   ]
  },
  {
   "cell_type": "code",
   "execution_count": 67,
   "id": "f197ebf8",
   "metadata": {
    "jupyter": {
     "source_hidden": true
    }
   },
   "outputs": [
    {
     "name": "stdout",
     "output_type": "stream",
     "text": [
      "Waiting on bqjob_r2138208b9391040c_0000017c33003ea2_1 ... (0s) Current status: DONE   \n",
      "+-----------+\n",
      "| num_trips |\n",
      "+-----------+\n",
      "|    548427 |\n",
      "+-----------+\n"
     ]
    }
   ],
   "source": [
    "! bq query --use_legacy_sql=false 'SELECT Count(trip_id) AS num_trips  FROM   `bigquery-public-data.san_francisco.bikeshare_trips`WHERE  Format_date(\"%A\", start_date) NOT IN ( \"sat\", \"sun\" )AND Format_timestamp(\"%H\", start_date) IN ( \"07\", \"08\", \"09\", \"16\",\"17\", \"18\") AND subscriber_type = \"Subscriber\" ORDER  BY num_trips DESC; '"
   ]
  },
  {
   "cell_type": "markdown",
   "id": "cc2e9b4e",
   "metadata": {},
   "source": [
    "#### Sub Question 2: How many trips we're taken total?"
   ]
  },
  {
   "cell_type": "markdown",
   "id": "b26f21df",
   "metadata": {},
   "source": [
    "  ```sql\n",
    "  bq query --use_legacy_sql=false '\n",
    "  SELECT Count(DISTINCT trip_id) AS total_trips\n",
    "  FROM   `bigquery-public-data.san_francisco.bikeshare_trips`'\n",
    "  ```"
   ]
  },
  {
   "cell_type": "code",
   "execution_count": 86,
   "id": "7ca615cb",
   "metadata": {
    "jupyter": {
     "source_hidden": true
    }
   },
   "outputs": [
    {
     "name": "stdout",
     "output_type": "stream",
     "text": [
      "Waiting on bqjob_r177f4d8a7d9bdd3a_0000017c33067974_1 ... (1s) Current status: DONE   \n",
      "+-------------+\n",
      "| total_trips |\n",
      "+-------------+\n",
      "|      983648 |\n",
      "+-------------+\n"
     ]
    }
   ],
   "source": [
    "! bq query --use_legacy_sql=false 'SELECT Count(DISTINCT trip_id) AS total_trips FROM `bigquery-public-data.san_francisco.bikeshare_trips` '"
   ]
  },
  {
   "cell_type": "code",
   "execution_count": 154,
   "id": "f9107bb0",
   "metadata": {},
   "outputs": [
    {
     "name": "stderr",
     "output_type": "stream",
     "text": [
      "Query complete after 0.00s: 100%|██████████| 1/1 [00:00<00:00, 722.91query/s] \n",
      "Downloading: 100%|██████████| 1/1 [00:01<00:00,  1.27s/rows]\n"
     ]
    }
   ],
   "source": [
    "%%bigquery subs_trips\n",
    "\n",
    "SELECT Count(trip_id) AS num_trips  \n",
    "FROM   `bigquery-public-data.san_francisco.bikeshare_trips`\n",
    "WHERE  Format_date(\"%A\", start_date) NOT IN ( \"sat\", \"sun\" )\n",
    "     AND Format_timestamp(\"%H\", start_date) IN ( \"07\", \"08\", \"09\", \"16\",\n",
    "                                                 \"17\", \"18\" )\n",
    "     AND subscriber_type = \"Subscriber\"\n",
    "ORDER  BY num_trips DESC; \n"
   ]
  },
  {
   "cell_type": "code",
   "execution_count": 90,
   "id": "ee819fd2",
   "metadata": {},
   "outputs": [
    {
     "name": "stderr",
     "output_type": "stream",
     "text": [
      "Query complete after 0.00s: 100%|██████████| 3/3 [00:00<00:00, 1585.75query/s]                        \n",
      "Downloading: 100%|██████████| 1/1 [00:01<00:00,  1.32s/rows]\n"
     ]
    }
   ],
   "source": [
    "%%bigquery total_trips\n",
    "\n",
    "SELECT Count(DISTINCT trip_id) AS num_trips\n",
    "FROM   `bigquery-public-data.san_francisco.bikeshare_trips`"
   ]
  },
  {
   "cell_type": "code",
   "execution_count": 131,
   "id": "13f20c0c",
   "metadata": {},
   "outputs": [
    {
     "name": "stdout",
     "output_type": "stream",
     "text": [
      "Subscribers during commute periods account for 55.75439588145353%\n"
     ]
    }
   ],
   "source": [
    "print(\"Subscribers during commute periods account for \" + str(100*float(subs_trips[\"num_trips\"][0]/total_trips[\"num_trips\"])) + \"%\")"
   ]
  },
  {
   "cell_type": "markdown",
   "id": "23bbc09b",
   "metadata": {},
   "source": [
    "### Question 2: What are the 6 most common start times for trips in weekdays seperated by subscriber type?"
   ]
  },
  {
   "cell_type": "markdown",
   "id": "f0c7341d",
   "metadata": {},
   "source": [
    "```sql\n",
    "bq query --use_legacy_sql=false '\n",
    "SELECT Format_timestamp(\"%H\", start_date) AS start_time,\n",
    "       Count(trip_id)                     AS num_trips,\n",
    "       subscriber_type,\n",
    "FROM   `bigquery-public-data.san_francisco.bikeshare_trips`\n",
    "WHERE  Format_date(\"%A\", start_date) != \"sun\"\n",
    "       AND Format_date(\"%A\", start_date) != \"sat\"\n",
    "       AND subscriber_type = \"Subscriber\"\n",
    "GROUP  BY start_time,\n",
    "ORDER  BY num_trips DESC; '\n",
    "```"
   ]
  },
  {
   "cell_type": "code",
   "execution_count": 113,
   "id": "9fead5fc",
   "metadata": {
    "jupyter": {
     "source_hidden": true
    }
   },
   "outputs": [
    {
     "name": "stdout",
     "output_type": "stream",
     "text": [
      "Waiting on bqjob_r710ad6ab001b6a56_0000017c33123de8_1 ... (2s) Current status: DONE   \n",
      "+------------+----------------------+\n",
      "| start_time | subscriber_num_trips |\n",
      "+------------+----------------------+\n",
      "| 08         |               127171 |\n",
      "| 17         |               114915 |\n",
      "| 09         |                89546 |\n",
      "| 16         |                76051 |\n",
      "| 18         |                75798 |\n",
      "| 07         |                64946 |\n",
      "+------------+----------------------+\n",
      "Waiting on bqjob_r5dbe25638e43c437_0000017c33125210_1 ... (0s) Current status: DONE   \n",
      "+------------+--------------------+\n",
      "| start_time | customer_num_trips |\n",
      "+------------+--------------------+\n",
      "| 15         |              12806 |\n",
      "| 14         |              12737 |\n",
      "| 13         |              12719 |\n",
      "| 16         |              12704 |\n",
      "| 12         |              12508 |\n",
      "| 17         |              11387 |\n",
      "+------------+--------------------+\n"
     ]
    }
   ],
   "source": [
    "! bq query --use_legacy_sql=false 'SELECT Format_timestamp(\"%H\", start_date) AS start_time,Count(trip_id)                     AS subscriber_num_trips,FROM   `bigquery-public-data.san_francisco.bikeshare_trips` WHERE  Format_date(\"%A\", start_date) != \"sun\" AND Format_date(\"%A\", start_date) != \"sat\" AND subscriber_type = \"Subscriber\" GROUP  BY start_time ORDER  BY subscriber_num_trips DESC LIMIT 6; '\n",
    "! bq query --use_legacy_sql=false 'SELECT Format_timestamp(\"%H\", start_date) AS start_time,Count(trip_id)                     AS customer_num_trips,FROM   `bigquery-public-data.san_francisco.bikeshare_trips` WHERE  Format_date(\"%A\", start_date) != \"sun\" AND Format_date(\"%A\", start_date) != \"sat\" AND subscriber_type = \"Customer\" GROUP  BY start_time ORDER  BY customer_num_trips DESC LIMIT 6; '\n"
   ]
  },
  {
   "cell_type": "markdown",
   "id": "095d8d5e",
   "metadata": {},
   "source": [
    "### Question 3: What are the top 5 regions subscribers ride from during commute time go in the morning and the afternoon?"
   ]
  },
  {
   "cell_type": "markdown",
   "id": "026c8673",
   "metadata": {},
   "source": [
    "  * SQL Morning query:\n",
    "```sql\n",
    "bq query --use_legacy_sql=false '\n",
    "SELECT start_station_name,\n",
    "Count(trip_id) AS num_trips\n",
    "FROM   `bigquery-public-data.san_francisco.bikeshare_trips`\n",
    "WHERE  Format_date(\"%A\", start_date) NOT IN ( \"sat\", \"sun\" )\n",
    "       AND Format_timestamp(\"%H\", start_date) IN ( \"07\", \"08\", \"09\" )\n",
    "       AND subscriber_type = \"Subscriber\"\n",
    "GROUP  BY start_station_name\n",
    "ORDER  BY num_trips DESC\n",
    "Limit 5; '\n",
    "```\n",
    "\n",
    "\n",
    "  * SQL Afternoon query:\n",
    "```sql\n",
    "bq query --use_legacy_sql=false '\n",
    "SELECT start_station_name,\n",
    "Count(trip_id) AS num_trips\n",
    "FROM   `bigquery-public-data.san_francisco.bikeshare_trips`\n",
    "WHERE  Format_date(\"%A\", start_date) NOT IN ( \"sat\", \"sun\" )\n",
    "       AND Format_timestamp(\"%H\", start_date) IN ( \"16\", \"17\", \"18\" )\n",
    "       AND subscriber_type = \"Subscriber\"\n",
    "GROUP  BY start_station_name\n",
    "ORDER  BY num_trips DESC\n",
    "LIMIT 5; '\n",
    "```"
   ]
  },
  {
   "cell_type": "code",
   "execution_count": 120,
   "id": "8d6e3604",
   "metadata": {
    "jupyter": {
     "source_hidden": true
    }
   },
   "outputs": [
    {
     "name": "stdout",
     "output_type": "stream",
     "text": [
      "Waiting on bqjob_r1393095853268770_0000017c3318834c_1 ... (0s) Current status: DONE   \n",
      "+-----------------------------------------------+-----------+\n",
      "|              start_station_name               | num_trips |\n",
      "+-----------------------------------------------+-----------+\n",
      "| San Francisco Caltrain (Townsend at 4th)      |     38326 |\n",
      "| San Francisco Caltrain 2 (330 Townsend)       |     30206 |\n",
      "| Harry Bridges Plaza (Ferry Building)          |     19594 |\n",
      "| Temporary Transbay Terminal (Howard at Beale) |     19021 |\n",
      "| Steuart at Market                             |     14606 |\n",
      "+-----------------------------------------------+-----------+\n",
      "Waiting on bqjob_r57cec0ed4fb5e3ee_0000017c33188a3d_1 ... (0s) Current status: DONE   \n",
      "+------------------------------------------+-----------+\n",
      "|            start_station_name            | num_trips |\n",
      "+------------------------------------------+-----------+\n",
      "| Townsend at 7th                          |     13949 |\n",
      "| 2nd at Townsend                          |     13366 |\n",
      "| San Francisco Caltrain (Townsend at 4th) |     13343 |\n",
      "| Market at Sansome                        |     10797 |\n",
      "| Embarcadero at Sansome                   |     10526 |\n",
      "+------------------------------------------+-----------+\n"
     ]
    }
   ],
   "source": [
    "! bq query --use_legacy_sql=false 'SELECT start_station_name,Count(trip_id) AS num_trips FROM   `bigquery-public-data.san_francisco.bikeshare_trips` WHERE  Format_date(\"%A\", start_date) NOT IN ( \"sat\", \"sun\" )   AND Format_timestamp(\"%H\", start_date) IN ( \"07\", \"08\", \"09\" )   AND subscriber_type = \"Subscriber\" GROUP  BY start_station_name ORDER  BY num_trips DESC Limit 5; '\n",
    "! bq query --use_legacy_sql=false 'SELECT start_station_name,Count(trip_id) AS num_trips FROM   `bigquery-public-data.san_francisco.bikeshare_trips` WHERE  Format_date(\"%A\", start_date) NOT IN ( \"sat\", \"sun\" )   AND Format_timestamp(\"%H\", start_date) IN ( \"16\", \"17\", \"18\" )   AND subscriber_type = \"Subscriber\" GROUP  BY start_station_name ORDER  BY num_trips DESC Limit 5; '"
   ]
  },
  {
   "cell_type": "markdown",
   "id": "b95c9b8f",
   "metadata": {},
   "source": [
    "### Question 4: What are the top 5 regions subscribers ride to during commute time go in the morning and the afternoon?"
   ]
  },
  {
   "cell_type": "markdown",
   "id": "f22cee35",
   "metadata": {},
   "source": [
    "  * SQL Morning query:\n",
    "```sql\n",
    "bq query --use_legacy_sql=false '\n",
    "SELECT end_station_name,\n",
    "Count(trip_id) AS num_trips\n",
    "FROM   `bigquery-public-data.san_francisco.bikeshare_trips`\n",
    "WHERE  Format_date(\"%A\", start_date) NOT IN ( \"sat\", \"sun\" )\n",
    "       AND Format_timestamp(\"%H\", start_date) IN ( \"07\", \"08\", \"09\" )\n",
    "       AND subscriber_type = \"Subscriber\"\n",
    "GROUP  BY end_station_name\n",
    "ORDER  BY num_trips DESC\n",
    "Limit 5; '\n",
    "```\n",
    "\n",
    "  * SQL Afternoon query:\n",
    "```sql\n",
    "bq query --use_legacy_sql=false '\n",
    "SELECT end_station_name,\n",
    "Count(trip_id) AS num_trips\n",
    "FROM   `bigquery-public-data.san_francisco.bikeshare_trips`\n",
    "WHERE  Format_date(\"%A\", start_date) NOT IN ( \"sat\", \"sun\" )\n",
    "       AND Format_timestamp(\"%H\", start_date) IN ( \"16\", \"17\", \"18\" )\n",
    "       AND subscriber_type = \"Subscriber\"\n",
    "GROUP  BY end_station_name\n",
    "ORDER  BY num_trips DESC\n",
    "LIMIT 5; '\n",
    "```"
   ]
  },
  {
   "cell_type": "code",
   "execution_count": 123,
   "id": "b7b4d65a",
   "metadata": {
    "jupyter": {
     "source_hidden": true
    }
   },
   "outputs": [
    {
     "name": "stdout",
     "output_type": "stream",
     "text": [
      "Waiting on bqjob_r2e0202a6364dfcbd_0000017c331be778_1 ... (0s) Current status: DONE   \n",
      "+------------------------------------------+-----------+\n",
      "|             end_station_name             | num_trips |\n",
      "+------------------------------------------+-----------+\n",
      "| San Francisco Caltrain (Townsend at 4th) |     20274 |\n",
      "| 2nd at Townsend                          |     17215 |\n",
      "| Townsend at 7th                          |     16600 |\n",
      "| Market at Sansome                        |     12978 |\n",
      "| Embarcadero at Sansome                   |     11183 |\n",
      "+------------------------------------------+-----------+\n",
      "Waiting on bqjob_r3197f84a9290f469_0000017c331bee0a_1 ... (1s) Current status: DONE   \n",
      "+-----------------------------------------------+-----------+\n",
      "|               end_station_name                | num_trips |\n",
      "+-----------------------------------------------+-----------+\n",
      "| San Francisco Caltrain (Townsend at 4th)      |     44176 |\n",
      "| San Francisco Caltrain 2 (330 Townsend)       |     30927 |\n",
      "| Harry Bridges Plaza (Ferry Building)          |     17286 |\n",
      "| Temporary Transbay Terminal (Howard at Beale) |     14783 |\n",
      "| Steuart at Market                             |     14536 |\n",
      "+-----------------------------------------------+-----------+\n"
     ]
    }
   ],
   "source": [
    "! bq query --use_legacy_sql=false 'SELECT end_station_name,Count(trip_id) AS num_trips FROM   `bigquery-public-data.san_francisco.bikeshare_trips` WHERE  Format_date(\"%A\", start_date) NOT IN ( \"sat\", \"sun\" )       AND Format_timestamp(\"%H\", start_date) IN ( \"07\", \"08\", \"09\" )       AND subscriber_type = \"Subscriber\" GROUP  BY end_station_name ORDER  BY num_trips DESC Limit 5; '\n",
    "\n",
    "! bq query --use_legacy_sql=false 'SELECT end_station_name,Count(trip_id) AS num_trips FROM   `bigquery-public-data.san_francisco.bikeshare_trips` WHERE  Format_date(\"%A\", start_date) NOT IN ( \"sat\", \"sun\" )       AND Format_timestamp(\"%H\", start_date) IN ( \"16\", \"17\", \"18\" )       AND subscriber_type = \"Subscriber\" GROUP  BY end_station_name ORDER  BY num_trips DESC Limit 5;  '"
   ]
  },
  {
   "cell_type": "markdown",
   "id": "59b71084",
   "metadata": {},
   "source": [
    "### Question 5: How many trips did non-subscribers make to top 5 specified morning and afternoon commute destinations and from the top 5 origin points?"
   ]
  },
  {
   "cell_type": "markdown",
   "id": "bb87361a",
   "metadata": {},
   "source": [
    "Destination Query:\n",
    "```sql\n",
    "bq query --use_legacy_sql=false '\n",
    "SELECT Count(trip_id) AS num_trips\n",
    "FROM   `bigquery-public-data.san_francisco.bikeshare_trips`\n",
    "WHERE  Format_date(\"%A\", start_date) NOT IN ( \"sat\", \"sun\" )\n",
    "       AND Format_timestamp(\"%H\", start_date) IN ( \"16\", \"17\", \"18\" )\n",
    "       AND subscriber_type = \"Customer\"\n",
    "       AND end_station_name IN (SELECT end_station_name,\n",
    "\t\t\t    FROM   `bigquery-public-data.san_francisco.bikeshare_trips`\n",
    "\t\t\t\t  WHERE  Format_date(\"%A\", start_date) NOT IN ( \"sat\", \"sun\" )\n",
    "       \t\t\t\tAND Format_timestamp(\"%H\", start_date) IN ( \"16\", \"17\", \"18\" )\n",
    "       \t\t\t\tAND subscriber_type = \"Subscriber\"\n",
    "\t\t\t\t  GROUP  BY end_station_name\n",
    "\t\t\t\t  ORDER  BY Count(trip_id) DESC\n",
    "\t\t\t\t  LIMIT 5)\n",
    "      OR Format_date(\"%A\", start_date) NOT IN ( \"sat\", \"sun\" )\n",
    "      AND Format_timestamp(\"%H\", start_date) IN ( \"07\", \"08\", \"09\" )\n",
    "      AND subscriber_type = \"Customer\"\n",
    "      AND end_station_name IN (SELECT end_station_name,\n",
    "\t\t\t  FROM   `bigquery-public-data.san_francisco.bikeshare_trips`\n",
    "\t\t\t\tWHERE  Format_date(\"%A\", start_date) NOT IN ( \"sat\", \"sun\" )\n",
    "      \t\t\t\tAND Format_timestamp(\"%H\", start_date) IN ( \"07\", \"08\", \"09\" )\n",
    "       \t\t\t\tAND subscriber_type = \"Subscriber\"\n",
    "\t\t\t\tGROUP  BY end_station_name\n",
    "\t\t\t\tORDER  BY Count(trip_id) DESC\n",
    "\t\t\t\tLIMIT 5); '\n",
    "```   \n",
    "Origin Query:\n",
    "```sql\n",
    "bq query --use_legacy_sql=false '\n",
    "SELECT Count(trip_id) AS num_trips\n",
    "FROM   `bigquery-public-data.san_francisco.bikeshare_trips`\n",
    "WHERE  Format_date(\"%A\", start_date) NOT IN ( \"sat\", \"sun\" )\n",
    "       AND Format_timestamp(\"%H\", start_date) IN ( \"16\", \"17\", \"18\" )\n",
    "       AND subscriber_type = \"Customer\"\n",
    "       AND start_station_name IN (SELECT start_station_name,\n",
    "\t\t\t    FROM   `bigquery-public-data.san_francisco.bikeshare_trips`\n",
    "\t\t\t\t  WHERE  Format_date(\"%A\", start_date) NOT IN ( \"sat\", \"sun\" )\n",
    "       \t\t\t\tAND Format_timestamp(\"%H\", start_date) IN ( \"16\", \"17\", \"18\" )\n",
    "       \t\t\t\tAND subscriber_type = \"Subscriber\"\n",
    "\t\t\t\t  GROUP  BY start_station_name\n",
    "\t\t\t\t  ORDER  BY Count(trip_id) DESC\n",
    "\t\t\t\t  LIMIT 5)\n",
    "      OR Format_date(\"%A\", start_date) NOT IN ( \"sat\", \"sun\" )\n",
    "      AND Format_timestamp(\"%H\", start_date) IN ( \"07\", \"08\", \"09\" )\n",
    "      AND subscriber_type = \"Customer\"\n",
    "      AND start_station_name IN (SELECT start_station_name,\n",
    "\t\t\t  FROM   `bigquery-public-data.san_francisco.bikeshare_trips`\n",
    "\t\t\t\tWHERE  Format_date(\"%A\", start_date) NOT IN ( \"sat\", \"sun\" )\n",
    "      \t\t\t\tAND Format_timestamp(\"%H\", start_date) IN ( \"07\", \"08\", \"09\" )\n",
    "       \t\t\t\tAND subscriber_type = \"Subscriber\"\n",
    "\t\t\t\tGROUP  BY start_station_name\n",
    "\t\t\t\tORDER  BY Count(trip_id) DESC\n",
    "\t\t\t\tLIMIT 5);'\n",
    "```"
   ]
  },
  {
   "cell_type": "code",
   "execution_count": 132,
   "id": "5b2c82dc",
   "metadata": {
    "jupyter": {
     "source_hidden": true
    }
   },
   "outputs": [
    {
     "name": "stderr",
     "output_type": "stream",
     "text": [
      "Query complete after 0.00s: 100%|██████████| 1/1 [00:00<00:00, 872.00query/s] \n",
      "Downloading: 100%|██████████| 1/1 [00:01<00:00,  1.71s/rows]\n"
     ]
    }
   ],
   "source": [
    "%%bigquery destination_num_trips\n",
    "\n",
    "SELECT Count(trip_id) AS destination_num_trips\n",
    "FROM   `bigquery-public-data.san_francisco.bikeshare_trips`\n",
    "WHERE  Format_date(\"%A\", start_date) NOT IN ( \"sat\", \"sun\" )\n",
    "       AND Format_timestamp(\"%H\", start_date) IN ( \"16\", \"17\", \"18\" )\n",
    "       AND subscriber_type = \"Customer\"\n",
    "       AND end_station_name IN (SELECT end_station_name,\n",
    "\t\t\t    FROM   `bigquery-public-data.san_francisco.bikeshare_trips`\n",
    "\t\t\t\t  WHERE  Format_date(\"%A\", start_date) NOT IN ( \"sat\", \"sun\" )\n",
    "       \t\t\t\tAND Format_timestamp(\"%H\", start_date) IN ( \"16\", \"17\", \"18\" )\n",
    "       \t\t\t\tAND subscriber_type = \"Subscriber\"\n",
    "\t\t\t\t  GROUP  BY end_station_name\n",
    "\t\t\t\t  ORDER  BY Count(trip_id) DESC\n",
    "\t\t\t\t  LIMIT 5)\n",
    "      OR Format_date(\"%A\", start_date) NOT IN ( \"sat\", \"sun\" )\n",
    "      AND Format_timestamp(\"%H\", start_date) IN ( \"07\", \"08\", \"09\" )\n",
    "      AND subscriber_type = \"Customer\"\n",
    "      AND end_station_name IN (SELECT end_station_name,\n",
    "\t\t\t  FROM   `bigquery-public-data.san_francisco.bikeshare_trips`\n",
    "\t\t\t\tWHERE  Format_date(\"%A\", start_date) NOT IN ( \"sat\", \"sun\" )\n",
    "      \t\t\t\tAND Format_timestamp(\"%H\", start_date) IN ( \"07\", \"08\", \"09\" )\n",
    "       \t\t\t\tAND subscriber_type = \"Subscriber\"\n",
    "\t\t\t\tGROUP  BY end_station_name\n",
    "\t\t\t\tORDER  BY Count(trip_id) DESC\n",
    "\t\t\t\tLIMIT 5);"
   ]
  },
  {
   "cell_type": "code",
   "execution_count": 130,
   "id": "1dc8aade",
   "metadata": {
    "jupyter": {
     "source_hidden": true
    }
   },
   "outputs": [
    {
     "name": "stderr",
     "output_type": "stream",
     "text": [
      "Query complete after 0.00s: 100%|██████████| 1/1 [00:00<00:00, 928.77query/s] \n",
      "Downloading: 100%|██████████| 1/1 [00:01<00:00,  1.63s/rows]\n"
     ]
    }
   ],
   "source": [
    "%%bigquery origin_num_trips\n",
    "\n",
    "SELECT Count(trip_id) AS origin_num_trips\n",
    "FROM   `bigquery-public-data.san_francisco.bikeshare_trips`\n",
    "WHERE  Format_date(\"%A\", start_date) NOT IN ( \"sat\", \"sun\" )\n",
    "       AND Format_timestamp(\"%H\", start_date) IN ( \"16\", \"17\", \"18\" )\n",
    "       AND subscriber_type = \"Customer\"\n",
    "       AND start_station_name IN (SELECT start_station_name,\n",
    "\t\t\t    FROM   `bigquery-public-data.san_francisco.bikeshare_trips`\n",
    "\t\t\t\t  WHERE  Format_date(\"%A\", start_date) NOT IN ( \"sat\", \"sun\" )\n",
    "       \t\t\t\tAND Format_timestamp(\"%H\", start_date) IN ( \"16\", \"17\", \"18\" )\n",
    "       \t\t\t\tAND subscriber_type = \"Subscriber\"\n",
    "\t\t\t\t  GROUP  BY start_station_name\n",
    "\t\t\t\t  ORDER  BY Count(trip_id) DESC\n",
    "\t\t\t\t  LIMIT 5)\n",
    "      OR Format_date(\"%A\", start_date) NOT IN ( \"sat\", \"sun\" )\n",
    "      AND Format_timestamp(\"%H\", start_date) IN ( \"07\", \"08\", \"09\" )\n",
    "      AND subscriber_type = \"Customer\"\n",
    "      AND start_station_name IN (SELECT start_station_name,\n",
    "\t\t\t  FROM   `bigquery-public-data.san_francisco.bikeshare_trips`\n",
    "\t\t\t\tWHERE  Format_date(\"%A\", start_date) NOT IN ( \"sat\", \"sun\" )\n",
    "      \t\t\t\tAND Format_timestamp(\"%H\", start_date) IN ( \"07\", \"08\", \"09\" )\n",
    "       \t\t\t\tAND subscriber_type = \"Subscriber\"\n",
    "\t\t\t\tGROUP  BY start_station_name\n",
    "\t\t\t\tORDER  BY Count(trip_id) DESC\n",
    "\t\t\t\tLIMIT 5);"
   ]
  },
  {
   "cell_type": "code",
   "execution_count": 137,
   "id": "2b2fd0f4",
   "metadata": {},
   "outputs": [
    {
     "name": "stdout",
     "output_type": "stream",
     "text": [
      "Customers came from the same origin as popular commutes 11443 times\n",
      "Customers came from the same destination as popular commutes 10243 times\n"
     ]
    }
   ],
   "source": [
    "print(\"Customers came from the same origin as popular commutes \" + str(origin_num_trips[\"origin_num_trips\"][0]) + \" times\")\n",
    "print(\"Customers came from the same destination as popular commutes \" + str(destination_num_trips[\"destination_num_trips\"][0]) + \" times\")"
   ]
  },
  {
   "cell_type": "markdown",
   "id": "6af507d7",
   "metadata": {},
   "source": [
    "### Question 5b: (Follow Up) What percentage of Customer trips during that time did it account for?"
   ]
  },
  {
   "cell_type": "markdown",
   "id": "54d8fa35",
   "metadata": {},
   "source": [
    "Get total trips during same periods and find fraction"
   ]
  },
  {
   "cell_type": "markdown",
   "id": "1ecbf72a",
   "metadata": {},
   "source": [
    "```sql\n",
    "bq query --use_legacy_sql=false '\n",
    "SELECT Count(trip_id) AS num_trips\n",
    "FROM   `bigquery-public-data.san_francisco.bikeshare_trips`\n",
    "WHERE  Format_date(\"%A\", start_date) NOT IN ( \"sat\", \"sun\" )\n",
    "       AND Format_timestamp(\"%H\", start_date) IN (\"08\",\"09\",\"07\", \"16\", \"17\", \"18\" )\n",
    "       AND subscriber_type = \"Customer\"; '\n",
    "```"
   ]
  },
  {
   "cell_type": "code",
   "execution_count": 140,
   "id": "ee38b31b",
   "metadata": {
    "jupyter": {
     "source_hidden": true
    }
   },
   "outputs": [
    {
     "name": "stderr",
     "output_type": "stream",
     "text": [
      "Query complete after 0.00s: 100%|██████████| 2/2 [00:00<00:00, 1157.37query/s]                        \n",
      "Downloading: 100%|██████████| 1/1 [00:01<00:00,  1.46s/rows]\n"
     ]
    }
   ],
   "source": [
    "%%bigquery total_num_trips\n",
    "\n",
    "SELECT Count(trip_id) AS num_trips\n",
    "FROM   `bigquery-public-data.san_francisco.bikeshare_trips`\n",
    "WHERE  Format_date(\"%A\", start_date) NOT IN ( \"sat\", \"sun\" )\n",
    "       AND Format_timestamp(\"%H\", start_date) IN (\"08\",\"09\",\"07\", \"16\", \"17\", \"18\" )\n",
    "       AND subscriber_type = \"Customer\"; "
   ]
  },
  {
   "cell_type": "code",
   "execution_count": 143,
   "id": "99319a95",
   "metadata": {},
   "outputs": [
    {
     "name": "stdout",
     "output_type": "stream",
     "text": [
      "Customers follow top 5 commuter behavior 45.83615150490362%\n"
     ]
    }
   ],
   "source": [
    "print(\"Customers follow top 5 commuter behavior \" + str(100*float((destination_num_trips[\"destination_num_trips\"][0] + origin_num_trips[\"origin_num_trips\"][0])/ (total_num_trips[\"num_trips\"][0]))) +\"%\")"
   ]
  },
  {
   "cell_type": "markdown",
   "id": "d389208c",
   "metadata": {},
   "source": [
    "# Part 3: Employ notebooks to synthesize query project results"
   ]
  },
  {
   "cell_type": "markdown",
   "id": "ca51739e",
   "metadata": {},
   "source": [
    "## 3.1 Time of Trips"
   ]
  },
  {
   "cell_type": "code",
   "execution_count": 388,
   "id": "1e06c4c6",
   "metadata": {},
   "outputs": [
    {
     "name": "stderr",
     "output_type": "stream",
     "text": [
      "Query complete after 0.00s: 100%|██████████| 1/1 [00:00<00:00, 847.16query/s] \n",
      "Downloading: 100%|██████████| 48/48 [00:01<00:00, 32.14rows/s]\n"
     ]
    }
   ],
   "source": [
    "%%bigquery Time_Trips\n",
    "\n",
    "SELECT Format_timestamp(\"%H\", start_date) AS start_time,\n",
    "       Count(trip_id)                     AS num_trips,\n",
    "       subscriber_type,\n",
    "FROM   `bigquery-public-data.san_francisco.bikeshare_trips`\n",
    "WHERE  Format_date(\"%A\", start_date) != \"sun\"\n",
    "       AND Format_date(\"%A\", start_date) != \"sat\"\n",
    "GROUP  BY start_time, subscriber_type\n",
    "ORDER  BY start_time; \n"
   ]
  },
  {
   "cell_type": "code",
   "execution_count": 389,
   "id": "024b3ad3",
   "metadata": {},
   "outputs": [
    {
     "data": {
      "image/png": "[encoded data removed]",
      "text/plain": [
       "<Figure size 432x288 with 1 Axes>"
      ]
     },
     "metadata": {
      "needs_background": "light"
     },
     "output_type": "display_data"
    }
   ],
   "source": [
    "#seperate by sub type\n",
    "subs = Time_Trips[Time_Trips['subscriber_type']=='Subscriber']\n",
    "cust = Time_Trips[Time_Trips['subscriber_type']=='Customer']\n",
    "\n",
    "#print barchart\n",
    "plt.bar(subs[\"start_time\"], subs[\"num_trips\"], color=\"BLUE\", label=\"Subscribers\")\n",
    "plt.bar(subs[\"start_time\"], cust[\"num_trips\"], color=\"RED\", label=\"Customers\")\n",
    "plt.title('Time of Trips')\n",
    "plt.xlabel('Time of Day')\n",
    "plt.ylabel('Number of Trips')\n",
    "plt.show()\n"
   ]
  },
  {
   "cell_type": "markdown",
   "id": "7001c32c",
   "metadata": {},
   "source": [
    "While Subscribers tend to travel at very specific periods with peak hours, customers seem to travel highest in the middle of the day."
   ]
  },
  {
   "cell_type": "markdown",
   "id": "6ed0155b",
   "metadata": {},
   "source": [
    "## 3.2 Stations Most Used During Commute Times"
   ]
  },
  {
   "cell_type": "code",
   "execution_count": 390,
   "id": "20adb395",
   "metadata": {},
   "outputs": [
    {
     "name": "stderr",
     "output_type": "stream",
     "text": [
      "Query complete after 0.00s: 100%|██████████| 1/1 [00:00<00:00, 920.81query/s] \n",
      "Downloading: 100%|██████████| 1721/1721 [00:01<00:00, 1502.36rows/s]\n"
     ]
    }
   ],
   "source": [
    "%%bigquery Time_Trips_Mor\n",
    "\n",
    "SELECT end_station_name, start_station_name,\n",
    "Count(trip_id) AS num_trips\n",
    "FROM   `bigquery-public-data.san_francisco.bikeshare_trips`\n",
    "WHERE  Format_date(\"%A\", start_date) NOT IN ( \"sat\", \"sun\" )\n",
    "       AND Format_timestamp(\"%H\", start_date) IN ( \"07\", \"08\", \"09\" )\n",
    "       AND subscriber_type = \"Subscriber\"\n",
    "GROUP  BY end_station_name, start_station_name\n",
    "ORDER  BY num_trips DESC ;"
   ]
  },
  {
   "cell_type": "code",
   "execution_count": 391,
   "id": "dac94929",
   "metadata": {},
   "outputs": [
    {
     "name": "stderr",
     "output_type": "stream",
     "text": [
      "Query complete after 0.00s: 100%|██████████| 1/1 [00:00<00:00, 857.38query/s] \n",
      "Downloading: 100%|██████████| 1830/1830 [00:01<00:00, 1413.87rows/s]\n"
     ]
    }
   ],
   "source": [
    "%%bigquery Time_Trips_Aft\n",
    "SELECT end_station_name, start_station_name,\n",
    "Count(trip_id) AS num_trips\n",
    "FROM   `bigquery-public-data.san_francisco.bikeshare_trips`\n",
    "WHERE  Format_date(\"%A\", start_date) NOT IN ( \"sat\", \"sun\" )\n",
    "       AND Format_timestamp(\"%H\", start_date) IN ( \"16\", \"17\", \"18\" )\n",
    "       AND subscriber_type = \"Subscriber\"\n",
    "GROUP  BY end_station_name, start_station_name\n",
    "ORDER  BY num_trips DESC;"
   ]
  },
  {
   "cell_type": "code",
   "execution_count": 392,
   "id": "59bab07d",
   "metadata": {},
   "outputs": [
    {
     "name": "stderr",
     "output_type": "stream",
     "text": [
      "Query complete after 0.00s: 100%|██████████| 1/1 [00:00<00:00, 1007.04query/s]\n",
      "Downloading: 100%|██████████| 74/74 [00:01<00:00, 59.63rows/s]\n"
     ]
    }
   ],
   "source": [
    "%%bigquery Station_Info\n",
    "SELECT name AS station_name,\n",
    "       landmark,\n",
    "       installation_date\n",
    "FROM   `bigquery-public-data.san_francisco.bikeshare_stations`; "
   ]
  },
  {
   "cell_type": "code",
   "execution_count": 393,
   "id": "494def94",
   "metadata": {},
   "outputs": [],
   "source": [
    "# Get Morning and Afternoon Origins and Destinations to get an idea where are people coming and going, expect morning origin to be afternoon destination and vice versa\n",
    "\n",
    "Dest_Sums_Mor = Time_Trips_Mor.groupby(['end_station_name']).sum().reset_index()\n",
    "Dest_Sums_Aft = Time_Trips_Aft.groupby(['end_station_name']).sum().reset_index()\n",
    "Origin_Sums_Mor = Time_Trips_Mor.groupby(['start_station_name']).sum().reset_index()\n",
    "Origin_Sums_Aft = Time_Trips_Aft.groupby(['start_station_name']).sum().reset_index()\n",
    "\n",
    "#change datetime\n",
    "list_date = []\n",
    "Station_Info['installation_date'] = pd.to_datetime(Station_Info['installation_date'])\n",
    "for i in Station_Info['installation_date']:\n",
    "    j = (datetime.datetime.strptime(\"2016-08-31\", '%Y-%m-%d') - i).days\n",
    "    list_date.append(j)\n",
    "Station_Info['Days In Use'] = list_date\n",
    "\n",
    "\n",
    "#Merge Station Info\n",
    "Merged_Dest_Sums_Mor = Station_Info.merge(Dest_Sums_Mor, how = \"inner\", left_on = 'station_name', right_on = 'end_station_name')\n",
    "Merged_Dest_Sums_Aft = Station_Info.merge(Dest_Sums_Aft, how = \"inner\", left_on = 'station_name', right_on = 'end_station_name')\n",
    "Merged_Origin_Sums_Mor = Station_Info.merge(Origin_Sums_Mor, how = \"inner\", left_on = 'station_name', right_on = 'start_station_name')\n",
    "Merged_Origin_Sums_Aft = Station_Info.merge(Origin_Sums_Aft, how = \"inner\", left_on = 'station_name', right_on = 'start_station_name')\n",
    "\n",
    "#Calculate Avg Trips\n",
    "Merged_Dest_Sums_Mor['Avg Trips per Morning'] = Merged_Dest_Sums_Mor['num_trips'] / Merged_Dest_Sums_Mor['Days In Use']\n",
    "Merged_Dest_Sums_Aft['Avg Trips per Afternoon'] = Merged_Dest_Sums_Aft['num_trips'] / Merged_Dest_Sums_Aft['Days In Use']\n",
    "Merged_Origin_Sums_Mor['Avg Trips per Morning'] = Merged_Origin_Sums_Mor['num_trips'] / Merged_Origin_Sums_Mor['Days In Use']\n",
    "Merged_Origin_Sums_Aft['Avg Trips per Afternoon'] = Merged_Origin_Sums_Aft['num_trips'] / Merged_Origin_Sums_Aft['Days In Use']\n",
    "\n",
    "#Drop Columns\n",
    "Merged_Dest_Sums_Mor = Merged_Dest_Sums_Mor.drop(columns = ['installation_date','Days In Use','num_trips', 'station_name'])\n",
    "Merged_Dest_Sums_Aft = Merged_Dest_Sums_Aft.drop(columns = ['installation_date','Days In Use','num_trips', 'station_name'])\n",
    "Merged_Origin_Sums_Mor = Merged_Origin_Sums_Mor.drop(columns = ['installation_date','Days In Use','num_trips', 'station_name'])\n",
    "Merged_Origin_Sums_Aft = Merged_Origin_Sums_Aft.drop(columns = ['installation_date','Days In Use','num_trips', 'station_name'])\n",
    "\n",
    "#Get Values"
   ]
  },
  {
   "cell_type": "code",
   "execution_count": 394,
   "id": "976a42d6",
   "metadata": {},
   "outputs": [
    {
     "data": {
      "text/html": [
       "<style type=\"text/css\">\n",
       "</style>\n",
       "<table id=\"T_29060_\">\n",
       "  <thead>\n",
       "    <tr>\n",
       "      <th class=\"blank level0\" >&nbsp;</th>\n",
       "      <th class=\"col_heading level0 col0\" >landmark</th>\n",
       "      <th class=\"col_heading level0 col1\" >end_station_name</th>\n",
       "      <th class=\"col_heading level0 col2\" >Avg Trips per Morning</th>\n",
       "    </tr>\n",
       "  </thead>\n",
       "  <tbody>\n",
       "    <tr>\n",
       "      <th id=\"T_29060_level0_row0\" class=\"row_heading level0 row0\" >51</th>\n",
       "      <td id=\"T_29060_row0_col0\" class=\"data row0 col0\" >San Francisco</td>\n",
       "      <td id=\"T_29060_row0_col1\" class=\"data row0 col1\" >San Francisco Caltrain (Townsend at 4th)</td>\n",
       "      <td id=\"T_29060_row0_col2\" class=\"data row0 col2\" >18.364130</td>\n",
       "    </tr>\n",
       "    <tr>\n",
       "      <th id=\"T_29060_level0_row1\" class=\"row_heading level0 row1\" >67</th>\n",
       "      <td id=\"T_29060_row1_col0\" class=\"data row1 col0\" >San Francisco</td>\n",
       "      <td id=\"T_29060_row1_col1\" class=\"data row1 col1\" >2nd at Townsend</td>\n",
       "      <td id=\"T_29060_row1_col2\" class=\"data row1 col2\" >15.579186</td>\n",
       "    </tr>\n",
       "    <tr>\n",
       "      <th id=\"T_29060_level0_row2\" class=\"row_heading level0 row2\" >31</th>\n",
       "      <td id=\"T_29060_row2_col0\" class=\"data row2 col0\" >San Francisco</td>\n",
       "      <td id=\"T_29060_row2_col1\" class=\"data row2 col1\" >Townsend at 7th</td>\n",
       "      <td id=\"T_29060_row2_col2\" class=\"data row2 col2\" >15.022624</td>\n",
       "    </tr>\n",
       "    <tr>\n",
       "      <th id=\"T_29060_level0_row3\" class=\"row_heading level0 row3\" >69</th>\n",
       "      <td id=\"T_29060_row3_col0\" class=\"data row3 col0\" >San Francisco</td>\n",
       "      <td id=\"T_29060_row3_col1\" class=\"data row3 col1\" >Market at Sansome</td>\n",
       "      <td id=\"T_29060_row3_col2\" class=\"data row3 col2\" >11.776770</td>\n",
       "    </tr>\n",
       "    <tr>\n",
       "      <th id=\"T_29060_level0_row4\" class=\"row_heading level0 row4\" >27</th>\n",
       "      <td id=\"T_29060_row4_col0\" class=\"data row4 col0\" >San Francisco</td>\n",
       "      <td id=\"T_29060_row4_col1\" class=\"data row4 col1\" >Embarcadero at Sansome</td>\n",
       "      <td id=\"T_29060_row4_col2\" class=\"data row4 col2\" >10.111212</td>\n",
       "    </tr>\n",
       "  </tbody>\n",
       "</table>\n"
      ],
      "text/plain": [
       "<pandas.io.formats.style.Styler at 0x7f66e1280a10>"
      ]
     },
     "execution_count": 394,
     "metadata": {},
     "output_type": "execute_result"
    }
   ],
   "source": [
    "#Morning Destinations:\n",
    "Merged_Dest_Sums_Mor.sort_values('Avg Trips per Morning', ascending = 0).head().style\n"
   ]
  },
  {
   "cell_type": "code",
   "execution_count": 395,
   "id": "992a17fe",
   "metadata": {},
   "outputs": [
    {
     "data": {
      "text/html": [
       "<style type=\"text/css\">\n",
       "</style>\n",
       "<table id=\"T_e954d_\">\n",
       "  <thead>\n",
       "    <tr>\n",
       "      <th class=\"blank level0\" >&nbsp;</th>\n",
       "      <th class=\"col_heading level0 col0\" >landmark</th>\n",
       "      <th class=\"col_heading level0 col1\" >end_station_name</th>\n",
       "      <th class=\"col_heading level0 col2\" >Avg Trips per Afternoon</th>\n",
       "    </tr>\n",
       "  </thead>\n",
       "  <tbody>\n",
       "    <tr>\n",
       "      <th id=\"T_e954d_level0_row0\" class=\"row_heading level0 row0\" >51</th>\n",
       "      <td id=\"T_e954d_row0_col0\" class=\"data row0 col0\" >San Francisco</td>\n",
       "      <td id=\"T_e954d_row0_col1\" class=\"data row0 col1\" >San Francisco Caltrain (Townsend at 4th)</td>\n",
       "      <td id=\"T_e954d_row0_col2\" class=\"data row0 col2\" >40.014493</td>\n",
       "    </tr>\n",
       "    <tr>\n",
       "      <th id=\"T_e954d_level0_row1\" class=\"row_heading level0 row1\" >37</th>\n",
       "      <td id=\"T_e954d_row1_col0\" class=\"data row1 col0\" >San Francisco</td>\n",
       "      <td id=\"T_e954d_row1_col1\" class=\"data row1 col1\" >Grant Avenue at Columbus Avenue</td>\n",
       "      <td id=\"T_e954d_row1_col2\" class=\"data row1 col2\" >29.548077</td>\n",
       "    </tr>\n",
       "    <tr>\n",
       "      <th id=\"T_e954d_level0_row2\" class=\"row_heading level0 row2\" >63</th>\n",
       "      <td id=\"T_e954d_row2_col0\" class=\"data row2 col0\" >San Francisco</td>\n",
       "      <td id=\"T_e954d_row2_col1\" class=\"data row2 col1\" >San Francisco Caltrain 2 (330 Townsend)</td>\n",
       "      <td id=\"T_e954d_row2_col2\" class=\"data row2 col2\" >28.013587</td>\n",
       "    </tr>\n",
       "    <tr>\n",
       "      <th id=\"T_e954d_level0_row3\" class=\"row_heading level0 row3\" >59</th>\n",
       "      <td id=\"T_e954d_row3_col0\" class=\"data row3 col0\" >San Francisco</td>\n",
       "      <td id=\"T_e954d_row3_col1\" class=\"data row3 col1\" >Harry Bridges Plaza (Ferry Building)</td>\n",
       "      <td id=\"T_e954d_row3_col2\" class=\"data row3 col2\" >15.615176</td>\n",
       "    </tr>\n",
       "    <tr>\n",
       "      <th id=\"T_e954d_level0_row4\" class=\"row_heading level0 row4\" >60</th>\n",
       "      <td id=\"T_e954d_row4_col0\" class=\"data row4 col0\" >San Francisco</td>\n",
       "      <td id=\"T_e954d_row4_col1\" class=\"data row4 col1\" >Temporary Transbay Terminal (Howard at Beale)</td>\n",
       "      <td id=\"T_e954d_row4_col2\" class=\"data row4 col2\" >13.354110</td>\n",
       "    </tr>\n",
       "  </tbody>\n",
       "</table>\n"
      ],
      "text/plain": [
       "<pandas.io.formats.style.Styler at 0x7f66e1280610>"
      ]
     },
     "execution_count": 395,
     "metadata": {},
     "output_type": "execute_result"
    }
   ],
   "source": [
    "#Afternoon Destinations:\n",
    "Merged_Dest_Sums_Aft.sort_values('Avg Trips per Afternoon', ascending = 0).head().style\n"
   ]
  },
  {
   "cell_type": "code",
   "execution_count": 396,
   "id": "44a5ee76",
   "metadata": {},
   "outputs": [
    {
     "data": {
      "text/html": [
       "<style type=\"text/css\">\n",
       "</style>\n",
       "<table id=\"T_ea7e2_\">\n",
       "  <thead>\n",
       "    <tr>\n",
       "      <th class=\"blank level0\" >&nbsp;</th>\n",
       "      <th class=\"col_heading level0 col0\" >landmark</th>\n",
       "      <th class=\"col_heading level0 col1\" >start_station_name</th>\n",
       "      <th class=\"col_heading level0 col2\" >Avg Trips per Morning</th>\n",
       "    </tr>\n",
       "  </thead>\n",
       "  <tbody>\n",
       "    <tr>\n",
       "      <th id=\"T_ea7e2_level0_row0\" class=\"row_heading level0 row0\" >36</th>\n",
       "      <td id=\"T_ea7e2_row0_col0\" class=\"data row0 col0\" >San Francisco</td>\n",
       "      <td id=\"T_ea7e2_row0_col1\" class=\"data row0 col1\" >Grant Avenue at Columbus Avenue</td>\n",
       "      <td id=\"T_ea7e2_row0_col2\" class=\"data row0 col2\" >98.644231</td>\n",
       "    </tr>\n",
       "    <tr>\n",
       "      <th id=\"T_ea7e2_level0_row1\" class=\"row_heading level0 row1\" >50</th>\n",
       "      <td id=\"T_ea7e2_row1_col0\" class=\"data row1 col0\" >San Francisco</td>\n",
       "      <td id=\"T_ea7e2_row1_col1\" class=\"data row1 col1\" >San Francisco Caltrain (Townsend at 4th)</td>\n",
       "      <td id=\"T_ea7e2_row1_col2\" class=\"data row1 col2\" >34.715580</td>\n",
       "    </tr>\n",
       "    <tr>\n",
       "      <th id=\"T_ea7e2_level0_row2\" class=\"row_heading level0 row2\" >62</th>\n",
       "      <td id=\"T_ea7e2_row2_col0\" class=\"data row2 col0\" >San Francisco</td>\n",
       "      <td id=\"T_ea7e2_row2_col1\" class=\"data row2 col1\" >San Francisco Caltrain 2 (330 Townsend)</td>\n",
       "      <td id=\"T_ea7e2_row2_col2\" class=\"data row2 col2\" >27.360507</td>\n",
       "    </tr>\n",
       "    <tr>\n",
       "      <th id=\"T_ea7e2_level0_row3\" class=\"row_heading level0 row3\" >58</th>\n",
       "      <td id=\"T_ea7e2_row3_col0\" class=\"data row3 col0\" >San Francisco</td>\n",
       "      <td id=\"T_ea7e2_row3_col1\" class=\"data row3 col1\" >Harry Bridges Plaza (Ferry Building)</td>\n",
       "      <td id=\"T_ea7e2_row3_col2\" class=\"data row3 col2\" >17.700090</td>\n",
       "    </tr>\n",
       "    <tr>\n",
       "      <th id=\"T_ea7e2_level0_row4\" class=\"row_heading level0 row4\" >59</th>\n",
       "      <td id=\"T_ea7e2_row4_col0\" class=\"data row4 col0\" >San Francisco</td>\n",
       "      <td id=\"T_ea7e2_row4_col1\" class=\"data row4 col1\" >Temporary Transbay Terminal (Howard at Beale)</td>\n",
       "      <td id=\"T_ea7e2_row4_col2\" class=\"data row4 col2\" >17.182475</td>\n",
       "    </tr>\n",
       "  </tbody>\n",
       "</table>\n"
      ],
      "text/plain": [
       "<pandas.io.formats.style.Styler at 0x7f66e11ba490>"
      ]
     },
     "execution_count": 396,
     "metadata": {},
     "output_type": "execute_result"
    }
   ],
   "source": [
    "#Morning Origins:\n",
    "\n",
    "Merged_Origin_Sums_Mor.sort_values('Avg Trips per Morning', ascending = 0).head().style\n"
   ]
  },
  {
   "cell_type": "code",
   "execution_count": 397,
   "id": "bc13eee1",
   "metadata": {},
   "outputs": [
    {
     "data": {
      "text/html": [
       "<style type=\"text/css\">\n",
       "</style>\n",
       "<table id=\"T_484f0_\">\n",
       "  <thead>\n",
       "    <tr>\n",
       "      <th class=\"blank level0\" >&nbsp;</th>\n",
       "      <th class=\"col_heading level0 col0\" >landmark</th>\n",
       "      <th class=\"col_heading level0 col1\" >start_station_name</th>\n",
       "      <th class=\"col_heading level0 col2\" >Avg Trips per Afternoon</th>\n",
       "    </tr>\n",
       "  </thead>\n",
       "  <tbody>\n",
       "    <tr>\n",
       "      <th id=\"T_484f0_level0_row0\" class=\"row_heading level0 row0\" >37</th>\n",
       "      <td id=\"T_484f0_row0_col0\" class=\"data row0 col0\" >San Francisco</td>\n",
       "      <td id=\"T_484f0_row0_col1\" class=\"data row0 col1\" >Grant Avenue at Columbus Avenue</td>\n",
       "      <td id=\"T_484f0_row0_col2\" class=\"data row0 col2\" >20.067308</td>\n",
       "    </tr>\n",
       "    <tr>\n",
       "      <th id=\"T_484f0_level0_row1\" class=\"row_heading level0 row1\" >31</th>\n",
       "      <td id=\"T_484f0_row1_col0\" class=\"data row1 col0\" >San Francisco</td>\n",
       "      <td id=\"T_484f0_row1_col1\" class=\"data row1 col1\" >Townsend at 7th</td>\n",
       "      <td id=\"T_484f0_row1_col2\" class=\"data row1 col2\" >12.623529</td>\n",
       "    </tr>\n",
       "    <tr>\n",
       "      <th id=\"T_484f0_level0_row2\" class=\"row_heading level0 row2\" >67</th>\n",
       "      <td id=\"T_484f0_row2_col0\" class=\"data row2 col0\" >San Francisco</td>\n",
       "      <td id=\"T_484f0_row2_col1\" class=\"data row2 col1\" >2nd at Townsend</td>\n",
       "      <td id=\"T_484f0_row2_col2\" class=\"data row2 col2\" >12.095928</td>\n",
       "    </tr>\n",
       "    <tr>\n",
       "      <th id=\"T_484f0_level0_row3\" class=\"row_heading level0 row3\" >51</th>\n",
       "      <td id=\"T_484f0_row3_col0\" class=\"data row3 col0\" >San Francisco</td>\n",
       "      <td id=\"T_484f0_row3_col1\" class=\"data row3 col1\" >San Francisco Caltrain (Townsend at 4th)</td>\n",
       "      <td id=\"T_484f0_row3_col2\" class=\"data row3 col2\" >12.086051</td>\n",
       "    </tr>\n",
       "    <tr>\n",
       "      <th id=\"T_484f0_level0_row4\" class=\"row_heading level0 row4\" >69</th>\n",
       "      <td id=\"T_484f0_row4_col0\" class=\"data row4 col0\" >San Francisco</td>\n",
       "      <td id=\"T_484f0_row4_col1\" class=\"data row4 col1\" >Market at Sansome</td>\n",
       "      <td id=\"T_484f0_row4_col2\" class=\"data row4 col2\" >9.797641</td>\n",
       "    </tr>\n",
       "  </tbody>\n",
       "</table>\n"
      ],
      "text/plain": [
       "<pandas.io.formats.style.Styler at 0x7f66e1cc3210>"
      ]
     },
     "execution_count": 397,
     "metadata": {},
     "output_type": "execute_result"
    }
   ],
   "source": [
    "#Afternoon Origins:\n",
    "\n",
    "Merged_Origin_Sums_Aft.sort_values('Avg Trips per Afternoon', ascending = 0).head().style"
   ]
  },
  {
   "cell_type": "markdown",
   "id": "b12295c3",
   "metadata": {},
   "source": [
    "## 3.3 Regions Used During Commute Times"
   ]
  },
  {
   "cell_type": "code",
   "execution_count": 398,
   "id": "047fda07",
   "metadata": {},
   "outputs": [
    {
     "name": "stdout",
     "output_type": "stream",
     "text": [
      "Morning Destination:\n"
     ]
    },
    {
     "data": {
      "text/html": [
       "<div>\n",
       "<style scoped>\n",
       "    .dataframe tbody tr th:only-of-type {\n",
       "        vertical-align: middle;\n",
       "    }\n",
       "\n",
       "    .dataframe tbody tr th {\n",
       "        vertical-align: top;\n",
       "    }\n",
       "\n",
       "    .dataframe thead th {\n",
       "        text-align: right;\n",
       "    }\n",
       "</style>\n",
       "<table border=\"1\" class=\"dataframe\">\n",
       "  <thead>\n",
       "    <tr style=\"text-align: right;\">\n",
       "      <th></th>\n",
       "      <th>Avg Trips per Morning</th>\n",
       "    </tr>\n",
       "    <tr>\n",
       "      <th>landmark</th>\n",
       "      <th></th>\n",
       "    </tr>\n",
       "  </thead>\n",
       "  <tbody>\n",
       "    <tr>\n",
       "      <th>Mountain View</th>\n",
       "      <td>7.510882</td>\n",
       "    </tr>\n",
       "    <tr>\n",
       "      <th>Palo Alto</th>\n",
       "      <td>1.846479</td>\n",
       "    </tr>\n",
       "    <tr>\n",
       "      <th>Redwood City</th>\n",
       "      <td>1.347444</td>\n",
       "    </tr>\n",
       "    <tr>\n",
       "      <th>San Francisco</th>\n",
       "      <td>239.211240</td>\n",
       "    </tr>\n",
       "    <tr>\n",
       "      <th>San Jose</th>\n",
       "      <td>10.670585</td>\n",
       "    </tr>\n",
       "  </tbody>\n",
       "</table>\n",
       "</div>"
      ],
      "text/plain": [
       "               Avg Trips per Morning\n",
       "landmark                            \n",
       "Mountain View               7.510882\n",
       "Palo Alto                   1.846479\n",
       "Redwood City                1.347444\n",
       "San Francisco             239.211240\n",
       "San Jose                   10.670585"
      ]
     },
     "execution_count": 398,
     "metadata": {},
     "output_type": "execute_result"
    }
   ],
   "source": [
    "print(\"Morning Destination:\")\n",
    "First = Merged_Dest_Sums_Mor.groupby(['landmark']).sum()\n",
    "First "
   ]
  },
  {
   "cell_type": "code",
   "execution_count": 399,
   "id": "cb561278",
   "metadata": {},
   "outputs": [
    {
     "name": "stdout",
     "output_type": "stream",
     "text": [
      "Afternoon Destination:\n"
     ]
    },
    {
     "data": {
      "text/html": [
       "<div>\n",
       "<style scoped>\n",
       "    .dataframe tbody tr th:only-of-type {\n",
       "        vertical-align: middle;\n",
       "    }\n",
       "\n",
       "    .dataframe tbody tr th {\n",
       "        vertical-align: top;\n",
       "    }\n",
       "\n",
       "    .dataframe thead th {\n",
       "        text-align: right;\n",
       "    }\n",
       "</style>\n",
       "<table border=\"1\" class=\"dataframe\">\n",
       "  <thead>\n",
       "    <tr style=\"text-align: right;\">\n",
       "      <th></th>\n",
       "      <th>Avg Trips per Afternoon</th>\n",
       "    </tr>\n",
       "    <tr>\n",
       "      <th>landmark</th>\n",
       "      <th></th>\n",
       "    </tr>\n",
       "  </thead>\n",
       "  <tbody>\n",
       "    <tr>\n",
       "      <th>Mountain View</th>\n",
       "      <td>6.228967</td>\n",
       "    </tr>\n",
       "    <tr>\n",
       "      <th>Palo Alto</th>\n",
       "      <td>1.824038</td>\n",
       "    </tr>\n",
       "    <tr>\n",
       "      <th>Redwood City</th>\n",
       "      <td>1.095780</td>\n",
       "    </tr>\n",
       "    <tr>\n",
       "      <th>San Francisco</th>\n",
       "      <td>243.693353</td>\n",
       "    </tr>\n",
       "    <tr>\n",
       "      <th>San Jose</th>\n",
       "      <td>13.342980</td>\n",
       "    </tr>\n",
       "  </tbody>\n",
       "</table>\n",
       "</div>"
      ],
      "text/plain": [
       "               Avg Trips per Afternoon\n",
       "landmark                              \n",
       "Mountain View                 6.228967\n",
       "Palo Alto                     1.824038\n",
       "Redwood City                  1.095780\n",
       "San Francisco               243.693353\n",
       "San Jose                     13.342980"
      ]
     },
     "execution_count": 399,
     "metadata": {},
     "output_type": "execute_result"
    }
   ],
   "source": [
    "print(\"Afternoon Destination:\")\n",
    "Second = Merged_Dest_Sums_Aft.groupby(['landmark']).sum()\n",
    "Second"
   ]
  },
  {
   "cell_type": "code",
   "execution_count": 339,
   "id": "615ada8e",
   "metadata": {},
   "outputs": [
    {
     "name": "stdout",
     "output_type": "stream",
     "text": [
      "Morning Origin:\n"
     ]
    },
    {
     "data": {
      "text/html": [
       "<div>\n",
       "<style scoped>\n",
       "    .dataframe tbody tr th:only-of-type {\n",
       "        vertical-align: middle;\n",
       "    }\n",
       "\n",
       "    .dataframe tbody tr th {\n",
       "        vertical-align: top;\n",
       "    }\n",
       "\n",
       "    .dataframe thead th {\n",
       "        text-align: right;\n",
       "    }\n",
       "</style>\n",
       "<table border=\"1\" class=\"dataframe\">\n",
       "  <thead>\n",
       "    <tr style=\"text-align: right;\">\n",
       "      <th></th>\n",
       "      <th>Avg Trips per Morning</th>\n",
       "    </tr>\n",
       "    <tr>\n",
       "      <th>landmark</th>\n",
       "      <th></th>\n",
       "    </tr>\n",
       "  </thead>\n",
       "  <tbody>\n",
       "    <tr>\n",
       "      <th>Mountain View</th>\n",
       "      <td>6.431667</td>\n",
       "    </tr>\n",
       "    <tr>\n",
       "      <th>Palo Alto</th>\n",
       "      <td>1.885065</td>\n",
       "    </tr>\n",
       "    <tr>\n",
       "      <th>Redwood City</th>\n",
       "      <td>1.306392</td>\n",
       "    </tr>\n",
       "    <tr>\n",
       "      <th>San Francisco</th>\n",
       "      <td>322.641253</td>\n",
       "    </tr>\n",
       "    <tr>\n",
       "      <th>San Jose</th>\n",
       "      <td>10.923059</td>\n",
       "    </tr>\n",
       "  </tbody>\n",
       "</table>\n",
       "</div>"
      ],
      "text/plain": [
       "               Avg Trips per Morning\n",
       "landmark                            \n",
       "Mountain View               6.431667\n",
       "Palo Alto                   1.885065\n",
       "Redwood City                1.306392\n",
       "San Francisco             322.641253\n",
       "San Jose                   10.923059"
      ]
     },
     "execution_count": 339,
     "metadata": {},
     "output_type": "execute_result"
    }
   ],
   "source": [
    "print(\"Morning Origin:\")\n",
    "Third = Merged_Origin_Sums_Mor.groupby(['landmark']).sum()\n",
    "Third"
   ]
  },
  {
   "cell_type": "code",
   "execution_count": 338,
   "id": "4b16bc15",
   "metadata": {},
   "outputs": [
    {
     "name": "stdout",
     "output_type": "stream",
     "text": [
      "Afternoon Origin:\n"
     ]
    },
    {
     "data": {
      "text/html": [
       "<div>\n",
       "<style scoped>\n",
       "    .dataframe tbody tr th:only-of-type {\n",
       "        vertical-align: middle;\n",
       "    }\n",
       "\n",
       "    .dataframe tbody tr th {\n",
       "        vertical-align: top;\n",
       "    }\n",
       "\n",
       "    .dataframe thead th {\n",
       "        text-align: right;\n",
       "    }\n",
       "</style>\n",
       "<table border=\"1\" class=\"dataframe\">\n",
       "  <thead>\n",
       "    <tr style=\"text-align: right;\">\n",
       "      <th></th>\n",
       "      <th>Avg Trips per Afternoon</th>\n",
       "    </tr>\n",
       "    <tr>\n",
       "      <th>landmark</th>\n",
       "      <th></th>\n",
       "    </tr>\n",
       "  </thead>\n",
       "  <tbody>\n",
       "    <tr>\n",
       "      <th>Mountain View</th>\n",
       "      <td>6.950999</td>\n",
       "    </tr>\n",
       "    <tr>\n",
       "      <th>Palo Alto</th>\n",
       "      <td>1.787156</td>\n",
       "    </tr>\n",
       "    <tr>\n",
       "      <th>Redwood City</th>\n",
       "      <td>1.142024</td>\n",
       "    </tr>\n",
       "    <tr>\n",
       "      <th>San Francisco</th>\n",
       "      <td>234.388091</td>\n",
       "    </tr>\n",
       "    <tr>\n",
       "      <th>San Jose</th>\n",
       "      <td>13.175243</td>\n",
       "    </tr>\n",
       "  </tbody>\n",
       "</table>\n",
       "</div>"
      ],
      "text/plain": [
       "               Avg Trips per Afternoon\n",
       "landmark                              \n",
       "Mountain View                 6.950999\n",
       "Palo Alto                     1.787156\n",
       "Redwood City                  1.142024\n",
       "San Francisco               234.388091\n",
       "San Jose                     13.175243"
      ]
     },
     "execution_count": 338,
     "metadata": {},
     "output_type": "execute_result"
    }
   ],
   "source": [
    "print(\"Afternoon Origin:\")\n",
    "Fourth = Merged_Origin_Sums_Aft.groupby(['landmark']).sum()\n",
    "Fourth"
   ]
  },
  {
   "cell_type": "code",
   "execution_count": 342,
   "id": "4bca70fd",
   "metadata": {},
   "outputs": [
    {
     "data": {
      "text/plain": [
       "[7.510881740713508,\n",
       " 1.846479150911077,\n",
       " 1.3474438811766323,\n",
       " 239.21123978064688,\n",
       " 10.670584655627081]"
      ]
     },
     "execution_count": 342,
     "metadata": {},
     "output_type": "execute_result"
    }
   ],
   "source": []
  },
  {
   "cell_type": "code",
   "execution_count": 386,
   "id": "39db3be7",
   "metadata": {},
   "outputs": [
    {
     "data": {
      "image/png": "[encoded data removed]",
      "text/plain": [
       "<Figure size 432x288 with 1 Axes>"
      ]
     },
     "metadata": {
      "needs_background": "light"
     },
     "output_type": "display_data"
    }
   ],
   "source": [
    "# create barchart\n",
    "barWidth =.25\n",
    "r1 = np.arange(5)\n",
    "r2 = [x + barWidth for x in r1]\n",
    "r3 = [x + barWidth for x in r2]\n",
    "r4 = [x + barWidth for x in r3]\n",
    "plt.bar(r1, First[\"Avg Trips per Morning\"], width = barWidth, label=\"Morning Destination\")\n",
    "plt.bar(r2, Second[\"Avg Trips per Afternoon\"], width = barWidth, label=\"Afternoon Destination\")\n",
    "plt.bar(r3, Third[\"Avg Trips per Morning\"], width = barWidth, label=\"Morning Origin\")\n",
    "plt.bar(r4, Fourth[\"Avg Trips per Afternoon\"], width = barWidth,  label=\"Afternoon Destination\")\n",
    "plt.title('Regions Average Trips per Day During Commuting Periods')\n",
    "plt.xlabel('Landmark')\n",
    "plt.ylabel('Avg Trips per Day')\n",
    "plt.xticks([r + barWidth for r in range(5)], ['Mountain View', 'Palo Alto',  'Redwood City', 'San Francisco','San Jose'], rotation = 45)\n",
    "plt.legend()\n",
    "plt.show()\n"
   ]
  },
  {
   "cell_type": "markdown",
   "id": "2153a061",
   "metadata": {},
   "source": [
    "## 3.4 Specific Routes"
   ]
  },
  {
   "cell_type": "code",
   "execution_count": 363,
   "id": "2f784d4f",
   "metadata": {},
   "outputs": [
    {
     "name": "stderr",
     "output_type": "stream",
     "text": [
      "Query complete after 0.00s: 100%|██████████| 1/1 [00:00<00:00, 824.68query/s] \n",
      "Downloading: 100%|██████████| 1721/1721 [00:01<00:00, 1589.26rows/s]\n"
     ]
    }
   ],
   "source": [
    "%%bigquery Time_Trips_Mor\n",
    "\n",
    "SELECT end_station_name, start_station_name,\n",
    "Count(trip_id) AS num_trips\n",
    "FROM   `bigquery-public-data.san_francisco.bikeshare_trips`\n",
    "WHERE  Format_date(\"%A\", start_date) NOT IN ( \"sat\", \"sun\" )\n",
    "       AND Format_timestamp(\"%H\", start_date) IN ( \"07\", \"08\", \"09\")\n",
    "       AND subscriber_type = \"Subscriber\"\n",
    "GROUP  BY end_station_name, start_station_name\n",
    "ORDER  BY num_trips DESC ;\n"
   ]
  },
  {
   "cell_type": "code",
   "execution_count": 364,
   "id": "c5471bd2",
   "metadata": {},
   "outputs": [
    {
     "data": {
      "text/html": [
       "<div>\n",
       "<style scoped>\n",
       "    .dataframe tbody tr th:only-of-type {\n",
       "        vertical-align: middle;\n",
       "    }\n",
       "\n",
       "    .dataframe tbody tr th {\n",
       "        vertical-align: top;\n",
       "    }\n",
       "\n",
       "    .dataframe thead th {\n",
       "        text-align: right;\n",
       "    }\n",
       "</style>\n",
       "<table border=\"1\" class=\"dataframe\">\n",
       "  <thead>\n",
       "    <tr style=\"text-align: right;\">\n",
       "      <th></th>\n",
       "      <th>end_station_name</th>\n",
       "      <th>start_station_name</th>\n",
       "      <th>num_trips</th>\n",
       "    </tr>\n",
       "  </thead>\n",
       "  <tbody>\n",
       "    <tr>\n",
       "      <th>0</th>\n",
       "      <td>2nd at Townsend</td>\n",
       "      <td>Harry Bridges Plaza (Ferry Building)</td>\n",
       "      <td>4487</td>\n",
       "    </tr>\n",
       "    <tr>\n",
       "      <th>1</th>\n",
       "      <td>2nd at Townsend</td>\n",
       "      <td>Steuart at Market</td>\n",
       "      <td>3730</td>\n",
       "    </tr>\n",
       "    <tr>\n",
       "      <th>2</th>\n",
       "      <td>Townsend at 7th</td>\n",
       "      <td>San Francisco Caltrain 2 (330 Townsend)</td>\n",
       "      <td>3488</td>\n",
       "    </tr>\n",
       "    <tr>\n",
       "      <th>3</th>\n",
       "      <td>Embarcadero at Folsom</td>\n",
       "      <td>San Francisco Caltrain (Townsend at 4th)</td>\n",
       "      <td>3348</td>\n",
       "    </tr>\n",
       "    <tr>\n",
       "      <th>4</th>\n",
       "      <td>Temporary Transbay Terminal (Howard at Beale)</td>\n",
       "      <td>San Francisco Caltrain (Townsend at 4th)</td>\n",
       "      <td>3095</td>\n",
       "    </tr>\n",
       "  </tbody>\n",
       "</table>\n",
       "</div>"
      ],
      "text/plain": [
       "                                end_station_name  \\\n",
       "0                                2nd at Townsend   \n",
       "1                                2nd at Townsend   \n",
       "2                                Townsend at 7th   \n",
       "3                          Embarcadero at Folsom   \n",
       "4  Temporary Transbay Terminal (Howard at Beale)   \n",
       "\n",
       "                         start_station_name  num_trips  \n",
       "0      Harry Bridges Plaza (Ferry Building)       4487  \n",
       "1                         Steuart at Market       3730  \n",
       "2   San Francisco Caltrain 2 (330 Townsend)       3488  \n",
       "3  San Francisco Caltrain (Townsend at 4th)       3348  \n",
       "4  San Francisco Caltrain (Townsend at 4th)       3095  "
      ]
     },
     "execution_count": 364,
     "metadata": {},
     "output_type": "execute_result"
    }
   ],
   "source": [
    "Time_Trips_Mor.head()"
   ]
  },
  {
   "cell_type": "code",
   "execution_count": 360,
   "id": "32026dda",
   "metadata": {},
   "outputs": [
    {
     "name": "stderr",
     "output_type": "stream",
     "text": [
      "Query complete after 0.00s: 100%|██████████| 1/1 [00:00<00:00, 788.11query/s] \n",
      "Downloading: 100%|██████████| 1830/1830 [00:01<00:00, 1770.77rows/s]\n"
     ]
    }
   ],
   "source": [
    "%%bigquery Time_Trips_Aft\n",
    "\n",
    "SELECT end_station_name, start_station_name,\n",
    "Count(trip_id) AS num_trips\n",
    "FROM   `bigquery-public-data.san_francisco.bikeshare_trips`\n",
    "WHERE  Format_date(\"%A\", start_date) NOT IN ( \"sat\", \"sun\" )\n",
    "       AND Format_timestamp(\"%H\", start_date) IN ( \"16\", \"17\", \"18\")\n",
    "       AND subscriber_type = \"Subscriber\"\n",
    "GROUP  BY end_station_name, start_station_name\n",
    "ORDER  BY num_trips DESC ;\n"
   ]
  },
  {
   "cell_type": "code",
   "execution_count": 361,
   "id": "108fbc03",
   "metadata": {},
   "outputs": [
    {
     "data": {
      "text/html": [
       "<div>\n",
       "<style scoped>\n",
       "    .dataframe tbody tr th:only-of-type {\n",
       "        vertical-align: middle;\n",
       "    }\n",
       "\n",
       "    .dataframe tbody tr th {\n",
       "        vertical-align: top;\n",
       "    }\n",
       "\n",
       "    .dataframe thead th {\n",
       "        text-align: right;\n",
       "    }\n",
       "</style>\n",
       "<table border=\"1\" class=\"dataframe\">\n",
       "  <thead>\n",
       "    <tr style=\"text-align: right;\">\n",
       "      <th></th>\n",
       "      <th>end_station_name</th>\n",
       "      <th>start_station_name</th>\n",
       "      <th>num_trips</th>\n",
       "    </tr>\n",
       "  </thead>\n",
       "  <tbody>\n",
       "    <tr>\n",
       "      <th>0</th>\n",
       "      <td>Harry Bridges Plaza (Ferry Building)</td>\n",
       "      <td>2nd at Townsend</td>\n",
       "      <td>4130</td>\n",
       "    </tr>\n",
       "    <tr>\n",
       "      <th>1</th>\n",
       "      <td>San Francisco Caltrain (Townsend at 4th)</td>\n",
       "      <td>Embarcadero at Folsom</td>\n",
       "      <td>3982</td>\n",
       "    </tr>\n",
       "    <tr>\n",
       "      <th>2</th>\n",
       "      <td>Steuart at Market</td>\n",
       "      <td>Embarcadero at Sansome</td>\n",
       "      <td>3770</td>\n",
       "    </tr>\n",
       "    <tr>\n",
       "      <th>3</th>\n",
       "      <td>San Francisco Caltrain (Townsend at 4th)</td>\n",
       "      <td>Steuart at Market</td>\n",
       "      <td>3346</td>\n",
       "    </tr>\n",
       "    <tr>\n",
       "      <th>4</th>\n",
       "      <td>San Francisco Caltrain (Townsend at 4th)</td>\n",
       "      <td>Temporary Transbay Terminal (Howard at Beale)</td>\n",
       "      <td>3280</td>\n",
       "    </tr>\n",
       "  </tbody>\n",
       "</table>\n",
       "</div>"
      ],
      "text/plain": [
       "                           end_station_name  \\\n",
       "0      Harry Bridges Plaza (Ferry Building)   \n",
       "1  San Francisco Caltrain (Townsend at 4th)   \n",
       "2                         Steuart at Market   \n",
       "3  San Francisco Caltrain (Townsend at 4th)   \n",
       "4  San Francisco Caltrain (Townsend at 4th)   \n",
       "\n",
       "                              start_station_name  num_trips  \n",
       "0                                2nd at Townsend       4130  \n",
       "1                          Embarcadero at Folsom       3982  \n",
       "2                         Embarcadero at Sansome       3770  \n",
       "3                              Steuart at Market       3346  \n",
       "4  Temporary Transbay Terminal (Howard at Beale)       3280  "
      ]
     },
     "execution_count": 361,
     "metadata": {},
     "output_type": "execute_result"
    }
   ],
   "source": [
    "Time_Trips_Aft.head()"
   ]
  },
  {
   "cell_type": "code",
   "execution_count": 376,
   "id": "ca9ff2c0",
   "metadata": {},
   "outputs": [],
   "source": [
    "#Merge Station Info\n",
    "Merged_Dual_Aft_2 = Station_Info.merge(Time_Trips_Aft, how = \"inner\", left_on = 'station_name', right_on = 'end_station_name')\n",
    "Merged_Dual_Aft = Merged_Dual_Aft_2.merge(Station_Info, how = \"inner\", left_on = 'station_name', right_on = 'station_name')\n",
    "Merged_Dual_Mor_2 = Station_Info.merge(Time_Trips_Mor, how = \"inner\", left_on = 'station_name', right_on = 'end_station_name')\n",
    "Merged_Dual_Mor = Merged_Dual_Mor_2.merge(Station_Info, how = \"inner\", left_on = 'station_name', right_on = 'station_name')\n",
    "\n",
    "#Find min time open route\n",
    "\n",
    "Merged_Dual_Aft['Days Route Use'] = Merged_Dual_Aft[['Days In Use_x','Days In Use_y']].min(axis=1)\n",
    "Merged_Dual_Mor['Days Route Use'] = Merged_Dual_Mor[['Days In Use_x','Days In Use_y']].min(axis=1)\n",
    "\n",
    "#Calculate Avg Trips\n",
    "Merged_Dual_Aft['Avg Trips per Afternoon'] = Merged_Dual_Aft['num_trips'] / Merged_Dual_Aft['Days Route Use']\n",
    "Merged_Dual_Mor['Avg Trips per Morning'] = Merged_Dual_Mor['num_trips'] / Merged_Dual_Mor['Days Route Use']\n",
    "\n",
    "#Drop Columns\n",
    "Merged_Dual_Aft = Merged_Dual_Aft[['start_station_name','end_station_name','Avg Trips per Afternoon']]\n",
    "Merged_Dual_Mor = Merged_Dual_Mor[['start_station_name','end_station_name','Avg Trips per Morning']]\n",
    "\n",
    "#sort Tables\n",
    "Merged_Dual_Aft"
   ]
  },
  {
   "cell_type": "code",
   "execution_count": 379,
   "id": "b72f0c90",
   "metadata": {},
   "outputs": [
    {
     "data": {
      "text/html": [
       "<style type=\"text/css\">\n",
       "</style>\n",
       "<table id=\"T_d3db4_\">\n",
       "  <thead>\n",
       "    <tr>\n",
       "      <th class=\"blank level0\" >&nbsp;</th>\n",
       "      <th class=\"col_heading level0 col0\" >start_station_name</th>\n",
       "      <th class=\"col_heading level0 col1\" >end_station_name</th>\n",
       "      <th class=\"col_heading level0 col2\" >Avg Trips per Afternoon</th>\n",
       "    </tr>\n",
       "  </thead>\n",
       "  <tbody>\n",
       "    <tr>\n",
       "      <th id=\"T_d3db4_level0_row0\" class=\"row_heading level0 row0\" >674</th>\n",
       "      <td id=\"T_d3db4_row0_col0\" class=\"data row0 col0\" >Market at Sansome</td>\n",
       "      <td id=\"T_d3db4_row0_col1\" class=\"data row0 col1\" >Grant Avenue at Columbus Avenue</td>\n",
       "      <td id=\"T_d3db4_row0_col2\" class=\"data row0 col2\" >4.288462</td>\n",
       "    </tr>\n",
       "    <tr>\n",
       "      <th id=\"T_d3db4_level0_row1\" class=\"row_heading level0 row1\" >1333</th>\n",
       "      <td id=\"T_d3db4_row1_col0\" class=\"data row1 col0\" >2nd at Townsend</td>\n",
       "      <td id=\"T_d3db4_row1_col1\" class=\"data row1 col1\" >Harry Bridges Plaza (Ferry Building)</td>\n",
       "      <td id=\"T_d3db4_row1_col2\" class=\"data row1 col2\" >3.730804</td>\n",
       "    </tr>\n",
       "    <tr>\n",
       "      <th id=\"T_d3db4_level0_row2\" class=\"row_heading level0 row2\" >1109</th>\n",
       "      <td id=\"T_d3db4_row2_col0\" class=\"data row2 col0\" >Embarcadero at Folsom</td>\n",
       "      <td id=\"T_d3db4_row2_col1\" class=\"data row2 col1\" >San Francisco Caltrain (Townsend at 4th)</td>\n",
       "      <td id=\"T_d3db4_row2_col2\" class=\"data row2 col2\" >3.606884</td>\n",
       "    </tr>\n",
       "    <tr>\n",
       "      <th id=\"T_d3db4_level0_row3\" class=\"row_heading level0 row3\" >1519</th>\n",
       "      <td id=\"T_d3db4_row3_col0\" class=\"data row3 col0\" >Embarcadero at Sansome</td>\n",
       "      <td id=\"T_d3db4_row3_col1\" class=\"data row3 col1\" >Steuart at Market</td>\n",
       "      <td id=\"T_d3db4_row3_col2\" class=\"data row3 col2\" >3.421053</td>\n",
       "    </tr>\n",
       "    <tr>\n",
       "      <th id=\"T_d3db4_level0_row4\" class=\"row_heading level0 row4\" >1110</th>\n",
       "      <td id=\"T_d3db4_row4_col0\" class=\"data row4 col0\" >Steuart at Market</td>\n",
       "      <td id=\"T_d3db4_row4_col1\" class=\"data row4 col1\" >San Francisco Caltrain (Townsend at 4th)</td>\n",
       "      <td id=\"T_d3db4_row4_col2\" class=\"data row4 col2\" >3.030797</td>\n",
       "    </tr>\n",
       "  </tbody>\n",
       "</table>\n"
      ],
      "text/plain": [
       "<pandas.io.formats.style.Styler at 0x7f66e160d5d0>"
      ]
     },
     "execution_count": 379,
     "metadata": {},
     "output_type": "execute_result"
    }
   ],
   "source": [
    "Merged_Dual_Aft.sort_values('Avg Trips per Afternoon', ascending = 0).head().style"
   ]
  },
  {
   "cell_type": "code",
   "execution_count": 380,
   "id": "e3090ea9",
   "metadata": {},
   "outputs": [
    {
     "data": {
      "text/html": [
       "<style type=\"text/css\">\n",
       "</style>\n",
       "<table id=\"T_a7be9_\">\n",
       "  <thead>\n",
       "    <tr>\n",
       "      <th class=\"blank level0\" >&nbsp;</th>\n",
       "      <th class=\"col_heading level0 col0\" >start_station_name</th>\n",
       "      <th class=\"col_heading level0 col1\" >end_station_name</th>\n",
       "      <th class=\"col_heading level0 col2\" >Avg Trips per Morning</th>\n",
       "    </tr>\n",
       "  </thead>\n",
       "  <tbody>\n",
       "    <tr>\n",
       "      <th id=\"T_a7be9_level0_row0\" class=\"row_heading level0 row0\" >1501</th>\n",
       "      <td id=\"T_a7be9_row0_col0\" class=\"data row0 col0\" >Harry Bridges Plaza (Ferry Building)</td>\n",
       "      <td id=\"T_a7be9_row0_col1\" class=\"data row0 col1\" >2nd at Townsend</td>\n",
       "      <td id=\"T_a7be9_row0_col2\" class=\"data row0 col2\" >4.060633</td>\n",
       "    </tr>\n",
       "    <tr>\n",
       "      <th id=\"T_a7be9_level0_row1\" class=\"row_heading level0 row1\" >1502</th>\n",
       "      <td id=\"T_a7be9_row1_col0\" class=\"data row1 col0\" >Steuart at Market</td>\n",
       "      <td id=\"T_a7be9_row1_col1\" class=\"data row1 col1\" >2nd at Townsend</td>\n",
       "      <td id=\"T_a7be9_row1_col2\" class=\"data row1 col2\" >3.375566</td>\n",
       "    </tr>\n",
       "    <tr>\n",
       "      <th id=\"T_a7be9_level0_row2\" class=\"row_heading level0 row2\" >486</th>\n",
       "      <td id=\"T_a7be9_row2_col0\" class=\"data row2 col0\" >San Francisco Caltrain 2 (330 Townsend)</td>\n",
       "      <td id=\"T_a7be9_row2_col1\" class=\"data row2 col1\" >Townsend at 7th</td>\n",
       "      <td id=\"T_a7be9_row2_col2\" class=\"data row2 col2\" >3.156561</td>\n",
       "    </tr>\n",
       "    <tr>\n",
       "      <th id=\"T_a7be9_level0_row3\" class=\"row_heading level0 row3\" >786</th>\n",
       "      <td id=\"T_a7be9_row3_col0\" class=\"data row3 col0\" >San Francisco Caltrain (Townsend at 4th)</td>\n",
       "      <td id=\"T_a7be9_row3_col1\" class=\"data row3 col1\" >Embarcadero at Folsom</td>\n",
       "      <td id=\"T_a7be9_row3_col2\" class=\"data row3 col2\" >3.024390</td>\n",
       "    </tr>\n",
       "    <tr>\n",
       "      <th id=\"T_a7be9_level0_row4\" class=\"row_heading level0 row4\" >620</th>\n",
       "      <td id=\"T_a7be9_row4_col0\" class=\"data row4 col0\" >Temporary Transbay Terminal (Howard at Beale)</td>\n",
       "      <td id=\"T_a7be9_row4_col1\" class=\"data row4 col1\" >Grant Avenue at Columbus Avenue</td>\n",
       "      <td id=\"T_a7be9_row4_col2\" class=\"data row4 col2\" >2.990385</td>\n",
       "    </tr>\n",
       "  </tbody>\n",
       "</table>\n"
      ],
      "text/plain": [
       "<pandas.io.formats.style.Styler at 0x7f66e125a310>"
      ]
     },
     "execution_count": 380,
     "metadata": {},
     "output_type": "execute_result"
    }
   ],
   "source": [
    "Merged_Dual_Mor.sort_values('Avg Trips per Morning', ascending = 0).head().style"
   ]
  },
  {
   "cell_type": "markdown",
   "id": "8460d549",
   "metadata": {},
   "source": [
    "## Weekends"
   ]
  },
  {
   "cell_type": "code",
   "execution_count": 401,
   "id": "e6c7a8d2",
   "metadata": {},
   "outputs": [
    {
     "name": "stderr",
     "output_type": "stream",
     "text": [
      "Query complete after 0.00s: 100%|██████████| 1/1 [00:00<00:00, 770.87query/s] \n",
      "Downloading: 100%|██████████| 7/7 [00:01<00:00,  5.45rows/s]\n"
     ]
    }
   ],
   "source": [
    "%%bigquery weekends\n",
    "\n",
    "SELECT Format_date(\"%A\", start_date) AS Day,\n",
    "Count(trip_id) AS num_trips\n",
    "FROM   `bigquery-public-data.san_francisco.bikeshare_trips`\n",
    "WHERE  subscriber_type = \"Subscriber\"\n",
    "GROUP  BY Day\n",
    "ORDER  BY num_trips DESC ;"
   ]
  },
  {
   "cell_type": "code",
   "execution_count": 383,
   "id": "944d27dc",
   "metadata": {},
   "outputs": [
    {
     "data": {
      "text/html": [
       "<div>\n",
       "<style scoped>\n",
       "    .dataframe tbody tr th:only-of-type {\n",
       "        vertical-align: middle;\n",
       "    }\n",
       "\n",
       "    .dataframe tbody tr th {\n",
       "        vertical-align: top;\n",
       "    }\n",
       "\n",
       "    .dataframe thead th {\n",
       "        text-align: right;\n",
       "    }\n",
       "</style>\n",
       "<table border=\"1\" class=\"dataframe\">\n",
       "  <thead>\n",
       "    <tr style=\"text-align: right;\">\n",
       "      <th></th>\n",
       "      <th>Day</th>\n",
       "      <th>num_trips</th>\n",
       "    </tr>\n",
       "  </thead>\n",
       "  <tbody>\n",
       "    <tr>\n",
       "      <th>0</th>\n",
       "      <td>Tuesday</td>\n",
       "      <td>169668</td>\n",
       "    </tr>\n",
       "    <tr>\n",
       "      <th>1</th>\n",
       "      <td>Wednesday</td>\n",
       "      <td>165530</td>\n",
       "    </tr>\n",
       "    <tr>\n",
       "      <th>2</th>\n",
       "      <td>Thursday</td>\n",
       "      <td>160296</td>\n",
       "    </tr>\n",
       "    <tr>\n",
       "      <th>3</th>\n",
       "      <td>Monday</td>\n",
       "      <td>154795</td>\n",
       "    </tr>\n",
       "    <tr>\n",
       "      <th>4</th>\n",
       "      <td>Friday</td>\n",
       "      <td>140048</td>\n",
       "    </tr>\n",
       "    <tr>\n",
       "      <th>5</th>\n",
       "      <td>Saturday</td>\n",
       "      <td>31035</td>\n",
       "    </tr>\n",
       "    <tr>\n",
       "      <th>6</th>\n",
       "      <td>Sunday</td>\n",
       "      <td>25467</td>\n",
       "    </tr>\n",
       "  </tbody>\n",
       "</table>\n",
       "</div>"
      ],
      "text/plain": [
       "         Day  num_trips\n",
       "0    Tuesday     169668\n",
       "1  Wednesday     165530\n",
       "2   Thursday     160296\n",
       "3     Monday     154795\n",
       "4     Friday     140048\n",
       "5   Saturday      31035\n",
       "6     Sunday      25467"
      ]
     },
     "execution_count": 383,
     "metadata": {},
     "output_type": "execute_result"
    }
   ],
   "source": [
    "weekends"
   ]
  },
  {
   "cell_type": "markdown",
   "id": "eb52597c",
   "metadata": {},
   "source": [
    "# Conclusion"
   ]
  },
  {
   "cell_type": "markdown",
   "id": "1fa71200",
   "metadata": {},
   "source": [
    "## Defining Commuters"
   ]
  },
  {
   "cell_type": "markdown",
   "id": "cde15a28",
   "metadata": {},
   "source": [
    "After carefully looking at the data there are many interesting insights that were picked up on and lend credence to some initial results and hypothesis as well as potential new opportunitoes with rider promotion. Off the bat, one of the big considerations that were taken when looking at this problem was, what defines a commuter trip? After long thoughts, a commuter trip is simply a ride from ones dueling to ones work. This doesn't help because the data has no commuter flag, but when we thing about what most commuters have in common? Schedules. Most commuters commute in the 7am-9am portion of the morning and the 4pm-6pm of the afternoon as well as not commuting on the weekends. That being said, although this hypothesis could be used as a point of investigation it was best to investigate and confirm that this was the case rather than assume so. In Part 3.1 went to graph the total number of trips grouped by hour of the day they started. As was evident, subscribers tended to have more of a pattern of riding in the hypothesized commute time and returning in the hypothesized commute time. Non-subscribers showed the opposite effect in which they did not have specified times that had large increases, rather it grew till midday and then began slowly going down. This was interesting for 2 reasons, first it lended evidence that Subscribers were more than likely commuters as well as that Subscribers were not as likely. It would also make sense as subscribers would have daily needs to warrant their subscription. To see if customers were less likely to be commuters, the top 5 origin and destination points were investigated (Question 4 in Part 2) and while subscribers had a almost perfect mirror image of Origin points in the Morning lining up with the Destination points in the later commute time, subscribers were less so. While subscribers took 383,692 (Part 2 Question 4) trips total to the top 5 Destinations and Origin points out of 548,427 trips (Part 1 Question 6) which was close to a 70%, customers hovered around a 45% (Part 2b Question 5b) While not incredibly low, the fact that customers accounted for less than 10% of rides during commute times as well as the lack of pattern goes to show customers as a less viable commuter. Lastly, in Part 3.5 its clear Saturdays and Sundays account for very little amount of rides around 6% of all rides. With all this we are able to define our commuters as the following: \n",
    "Due to data patterns and logic sourounding commutes, commuter trips will be defined as trips done by subscribers between 7:00am-9:59am and 4:00pm-6:59pm Monday through Friday. We cannot guarantee they are all commuters but for the scope of this project it is a adequate filter."
   ]
  },
  {
   "cell_type": "markdown",
   "id": "1a460b35",
   "metadata": {},
   "source": [
    "## Top 5 Most Popular Commutes"
   ]
  },
  {
   "cell_type": "markdown",
   "id": "f41b12c3",
   "metadata": {},
   "source": [
    "Once Commuter time was defined, finding the most popular commute was again up for definition. At first the most traveled routes were analyzed, but there seemed to be something missing. For that the analysis was then done on origin points as well as destination points. When it was clear that morning origin points coincided with afternoon destination points and vice versa in Part 2b Question 4. It was important to see if there points we're related somehow. After looking at the station dataset it was clear they were. The majority of the routes originated in San Francisco. It seemeed subscribers traveling either 7:00am-9:59am and 4:00pm-6:59pm Monday through Friday in San Francisco were pretty common. That being said it could get more specific. When looking at the distinction between morning and afternoon Part 2a Question 4, they were very similar in size, so even though minute details could be found it was best to delve in the actual stations. Once that was decided in Part 3.4 again the routes start to end were analyzed but this time with closer inspection. To be common means used often, so rather than measure by number of trips, it was important to measure by average trips in a day of that specified route. This meant finding the date of launch of each start and end station, seeing when the route was viable and finding the total days that route was viable (limited to the max date Part 1 Question 2 08/31/2016) Once this was done, routes were both seperated by morning and afternoon routes since it was clear that they were inversely related and a individual performing one route in the morning would most likely not be performing it in the afternoon. Once all this was said and done out of the 5 routes for both Morning and Afternoon these were the most popular from Part 3.4."
   ]
  },
  {
   "cell_type": "markdown",
   "id": "42b0fb35",
   "metadata": {},
   "source": [
    "- Subscribers traveling Monday through Friday (Tuesday being the best day)\n",
    "1. Subscriber from Market at Sansome -> Grant Avenue at Columbus Avenue, 4pm-6:59pm, 4.3 trips per day\n",
    "2. 2: Harry Bridges Plaza (Ferry Building) -> 2nd at Townsend, 7am-9:59 am, 4.1 trips per day\n",
    "3. 2nd at Townsend -> Harry Bridges Plaza (Ferry Building), 4pm-6:59pm, 3.7 trips per day\n",
    "4. Embarcadero at Folsom\tSan Francisco Caltrain (Townsend at 4th),  4pm-6:59pm, 3.6 trips per day\n",
    "5. Embarcadero at Sansome\tSteuart at Market,  4pm-6:59pm, 3.4 trips per day"
   ]
  },
  {
   "cell_type": "markdown",
   "id": "7577e657",
   "metadata": {},
   "source": [
    "## Recommended Promotions"
   ]
  },
  {
   "cell_type": "markdown",
   "id": "0cd6bc86",
   "metadata": {},
   "source": [
    "Due to the fact that we know commuters are returning in the afternoon  the same way they went in the morning as well as the commuting patterns we have seen, I would say there is definitely a big opportunity to promote the company.\n",
    "\n",
    "1. Corporate Promotions: Due to the fact that we know where the majority of our commuters come for work every morning, we also have access to the companies nearby them through a quick google search. I recommend that due to the success we've begun to have in these areas because of their most likely high denisty of jobs and similar target market we invest heavily into partnering with companies to offer these incentives to employees. Not only that but Corporations would most likely be more willing to do business with us once we show them the data of how we've consistenly been performing in their areas. \n",
    "\n",
    "2) Annual/Monthly memberships: Due to the majority of our clients being Subscribers and following commuter patterns, it would be wise to focus on long term client rentention. That is why offering Annual and Monthly memberships near top origin and destintion locations at their specified time frame (morning vs afternoon) as defined in Part 3.2 could optimize the viewership by commuters. Using targetted ads by location as well as time will make it so we have the best chance of garnering Subscribers.\n",
    "\n",
    "3) Same Bike Bonus: Due to commuters seeming to follow their route back home afterwork (Part 2b Question 4), it would be wise to offer some kind of offer/deal to help both commuters and us. Since we want our bikes to not stay in one place or overcrowd a station, we could offer a discount for clients if they return the same bike to the original station after they work. This would do one of two things, first it would ease the strain of having to move all the bikes around at the end of the day to fit the locations and it would create a sense of game and offer cheaper rides to users while economically helping us as well. \n",
    "\n",
    "These are all the recommendations I have at the moment, one thing to keep in mind is that although doing promotions in top areas is usually good, there may be more to investigate as it could be that some regions are starting to grow or some stations are already over saturated. That being said, the recommendations offered should definitely do a good job at increasing ridership and as we see the results of these programs more analysis and tweaks will be available."
   ]
  },
  {
   "cell_type": "code",
   "execution_count": null,
   "id": "17d68da8",
   "metadata": {},
   "outputs": [],
   "source": []
  }
 ],
 "metadata": {
  "environment": {
   "name": "tf2-gpu.2-3.m78",
   "type": "gcloud",
   "uri": "gcr.io/deeplearning-platform-release/tf2-gpu.2-3:m78"
  },
  "kernelspec": {
   "display_name": "Python 3",
   "language": "python",
   "name": "python3"
  },
  "language_info": {
   "codemirror_mode": {
    "name": "ipython",
    "version": 3
   },
   "file_extension": ".py",
   "mimetype": "text/x-python",
   "name": "python",
   "nbconvert_exporter": "python",
   "pygments_lexer": "ipython3",
   "version": "3.7.10"
  }
 },
 "nbformat": 4,
 "nbformat_minor": 5
}
