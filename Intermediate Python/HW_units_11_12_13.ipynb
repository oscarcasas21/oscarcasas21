{
 "cells": [
  {
   "cell_type": "markdown",
   "metadata": {},
   "source": [
    "## Week 12 Assignment - W200 Introduction to Data Science Programming, UC Berkeley MIDS\n",
    "\n",
    "Write code in this Jupyter Notebook to solve the following problems. This assignment addresses material covered in Unit 11. Please upload this **Notebook** with your solutions to your GitHub repository in your SUBMISSIONS/week_12 folder by 11:59PM PST the night before class. Do **NOT** push/upload the data file. If you turn-in anything on ISVC please do so under the Week 12 Assignment category. "
   ]
  },
  {
   "cell_type": "markdown",
   "metadata": {},
   "source": [
    "## Objectives\n",
    "\n",
    "- Explore and glean insights from a real dataset using pandas\n",
    "- Practice using pandas for exploratory analysis, information gathering, and discovery\n",
    "- Practice using matplotlib for data visualization"
   ]
  },
  {
   "cell_type": "markdown",
   "metadata": {},
   "source": [
    "## Dataset\n",
    "\n",
    "You are to analyze campaign contributions to the 2016 U.S. presidential primary races made in California. Use the csv file located here: https://drive.google.com/file/d/1Lgg-PwXQ6TQLDowd6XyBxZw5g1NGWPjB/view?usp=sharing. You should download and save this file in the same folder as this notebook is stored.  This file originally came from the U.S. Federal Election Commission (https://www.fec.gov/).\n",
    "\n",
    "**DO NOT PUSH THIS FILE TO YOUR GITHUB REPO!**\n",
    "\n",
    "- Best practice is to not have DATA files in your code repo. As shown below, the default load is outside of the folder this notebook is in. If you change the folder where the file is stored please update the first cell!\n",
    "- If you do accidentally push the file to your github repo - follow the directions here to fix it: https://docs.google.com/document/d/15Irgb5V5G7pKPWgAerH7FPMpKeQRunbNflaW-hR2hTA/edit?usp=sharing\n",
    "\n",
    "Documentation for this data can be found here: https://drive.google.com/file/d/11o_SByceenv0NgNMstM-dxC1jL7I9fHL/view?usp=sharing"
   ]
  },
  {
   "cell_type": "markdown",
   "metadata": {},
   "source": [
    "## General Guidelines:\n",
    "\n",
    "- This is a **real** dataset and so it may contain errors and other pecularities to work through\n",
    "- This dataset is ~218mb, which will take some time to load (and probably won't load in Google Sheets or Excel)\n",
    "- If you make assumptions, annotate them in your responses\n",
    "- While there is one code/markdown cell positioned after each question as a placeholder, some of your code/responses may require multiple cells\n",
    "- Double-click the markdown cells that say YOUR ANSWER HERE to enter your written answers. If you need more cells for your written answers, make them markdown cells (rather than code cells)"
   ]
  },
  {
   "cell_type": "markdown",
   "metadata": {},
   "source": [
    "## Setup\n",
    "\n",
    "Run the two cells below. \n",
    "\n",
    "The first cell will load the data into a pandas dataframe named `contrib`. Note that a custom date parser is defined to speed up loading. If Python were to guess the date format, it would take even longer to load.  \n",
    "\n",
    "The second cell subsets the dataframe to focus on just the primary period through May 2016. Otherwise, we would see general election donations which would make it harder to draw conclusions about the primaries."
   ]
  },
  {
   "cell_type": "code",
   "execution_count": 2,
   "metadata": {},
   "outputs": [
    {
     "name": "stderr",
     "output_type": "stream",
     "text": [
      "/Users/oscar/anaconda3/lib/python3.8/site-packages/IPython/core/interactiveshell.py:3165: DtypeWarning: Columns (6,11,12) have mixed types.Specify dtype option on import or set low_memory=False.\n",
      "  has_raised = await self.run_ast_nodes(code_ast.body, cell_name,\n",
      "<ipython-input-2-44fe46b618d3>:11: FutureWarning: The pandas.datetime class is deprecated and will be removed from pandas in a future version. Import from datetime module instead.\n",
      "  d = lambda x: pd.datetime.strptime(x, '%d-%b-%y')\n"
     ]
    },
    {
     "name": "stdout",
     "output_type": "stream",
     "text": [
      "(1125659, 18)\n"
     ]
    }
   ],
   "source": [
    "import pandas as pd\n",
    "import matplotlib.pyplot as plt\n",
    "import datetime\n",
    "\n",
    "# These commands below set some options for pandas and to have matplotlib show the charts in the notebook\n",
    "pd.set_option('display.max_rows', 1000)\n",
    "pd.options.display.float_format = '{:,.2f}'.format\n",
    "%matplotlib inline\n",
    "\n",
    "# Define a date parser to pass to read_csv\n",
    "d = lambda x: pd.datetime.strptime(x, '%d-%b-%y')\n",
    "\n",
    "# Load the data\n",
    "# We have this defaulted to the folder OUTSIDE of your repo - please change it as needed\n",
    "contrib = pd.read_csv('P00000001-CA.csv', index_col=False, parse_dates=['contb_receipt_dt'], date_parser=d)\n",
    "print(contrib.shape)\n",
    "\n",
    "# Note - for now, it is okay to ignore the warning about mixed types. "
   ]
  },
  {
   "cell_type": "code",
   "execution_count": 3,
   "metadata": {},
   "outputs": [
    {
     "name": "stdout",
     "output_type": "stream",
     "text": [
      "(654502, 18)\n"
     ]
    }
   ],
   "source": [
    "# Subset data to primary period \n",
    "contrib = contrib.copy()[contrib['contb_receipt_dt'] <= datetime.datetime(2016, 5, 31)]\n",
    "print(contrib.shape)"
   ]
  },
  {
   "cell_type": "markdown",
   "metadata": {},
   "source": [
    "## 1. Data  Exploration (20 points)\n",
    "\n",
    "**1a. First, take a preliminary look at the data.**\n",
    "- Print the *shape* of the data. What does this tell you about the number of variables and rows you have?\n",
    "- Print a list of column names. \n",
    "- Review the documentation for this data (link above). Do you have all of the columns you expect to have?\n",
    "- Sometimes variable names are not clear unless we read the documentation. In your own words, based on the documentation, what information does the `election_tp` variable contain?"
   ]
  },
  {
   "cell_type": "code",
   "execution_count": 4,
   "metadata": {
    "deletable": false,
    "nbgrader": {
     "checksum": "9f7a7938e43b14d3c7c49d6a278b0bb1",
     "grade": true,
     "grade_id": "cell-5d017805206f18b1",
     "locked": false,
     "points": 0,
     "schema_version": 1,
     "solution": true
    }
   },
   "outputs": [
    {
     "name": "stdout",
     "output_type": "stream",
     "text": [
      "(654502, 18)\n",
      "Index(['cmte_id', 'cand_id', 'cand_nm', 'contbr_nm', 'contbr_city',\n",
      "       'contbr_st', 'contbr_zip', 'contbr_employer', 'contbr_occupation',\n",
      "       'contb_receipt_amt', 'contb_receipt_dt', 'receipt_desc', 'memo_cd',\n",
      "       'memo_text', 'form_tp', 'file_num', 'tran_id', 'election_tp'],\n",
      "      dtype='object')\n"
     ]
    }
   ],
   "source": [
    "print(contrib.shape)\n",
    "print(contrib.columns)"
   ]
  },
  {
   "cell_type": "markdown",
   "metadata": {
    "deletable": false,
    "nbgrader": {
     "checksum": "e6a198453ec4b0171a064fef0bd7c678",
     "grade": true,
     "grade_id": "cell-3bc26919169bf4aa",
     "locked": false,
     "points": 5,
     "schema_version": 1,
     "solution": true
    }
   },
   "source": [
    "`1a I have all the column I expect and election_tp gives what type of election the contribution was made to (primary, general, runoff, etc...)`"
   ]
  },
  {
   "cell_type": "markdown",
   "metadata": {},
   "source": [
    "**1b. Print the first 5 rows from the dataset to manually check some of the data.** \n",
    "\n",
    "This is a good idea to ensure the data loaded and the columns parsed correctly!"
   ]
  },
  {
   "cell_type": "code",
   "execution_count": 5,
   "metadata": {
    "deletable": false,
    "nbgrader": {
     "checksum": "4fbf682f1c78b3614832c6f48ecd88c7",
     "grade": true,
     "grade_id": "cell-72bc97601b84f17d",
     "locked": false,
     "points": 5,
     "schema_version": 1,
     "solution": true
    }
   },
   "outputs": [
    {
     "data": {
      "text/html": [
       "<div>\n",
       "<style scoped>\n",
       "    .dataframe tbody tr th:only-of-type {\n",
       "        vertical-align: middle;\n",
       "    }\n",
       "\n",
       "    .dataframe tbody tr th {\n",
       "        vertical-align: top;\n",
       "    }\n",
       "\n",
       "    .dataframe thead th {\n",
       "        text-align: right;\n",
       "    }\n",
       "</style>\n",
       "<table border=\"1\" class=\"dataframe\">\n",
       "  <thead>\n",
       "    <tr style=\"text-align: right;\">\n",
       "      <th></th>\n",
       "      <th>cmte_id</th>\n",
       "      <th>cand_id</th>\n",
       "      <th>cand_nm</th>\n",
       "      <th>contbr_nm</th>\n",
       "      <th>contbr_city</th>\n",
       "      <th>contbr_st</th>\n",
       "      <th>contbr_zip</th>\n",
       "      <th>contbr_employer</th>\n",
       "      <th>contbr_occupation</th>\n",
       "      <th>contb_receipt_amt</th>\n",
       "      <th>contb_receipt_dt</th>\n",
       "      <th>receipt_desc</th>\n",
       "      <th>memo_cd</th>\n",
       "      <th>memo_text</th>\n",
       "      <th>form_tp</th>\n",
       "      <th>file_num</th>\n",
       "      <th>tran_id</th>\n",
       "      <th>election_tp</th>\n",
       "    </tr>\n",
       "  </thead>\n",
       "  <tbody>\n",
       "    <tr>\n",
       "      <th>0</th>\n",
       "      <td>C00575795</td>\n",
       "      <td>P00003392</td>\n",
       "      <td>Clinton, Hillary Rodham</td>\n",
       "      <td>AULL, ANNE</td>\n",
       "      <td>LARKSPUR</td>\n",
       "      <td>CA</td>\n",
       "      <td>949,391,913.00</td>\n",
       "      <td>NaN</td>\n",
       "      <td>RETIRED</td>\n",
       "      <td>50.00</td>\n",
       "      <td>2016-04-26</td>\n",
       "      <td>NaN</td>\n",
       "      <td>X</td>\n",
       "      <td>* HILLARY VICTORY FUND</td>\n",
       "      <td>SA18</td>\n",
       "      <td>1091718</td>\n",
       "      <td>C4768722</td>\n",
       "      <td>P2016</td>\n",
       "    </tr>\n",
       "    <tr>\n",
       "      <th>1</th>\n",
       "      <td>C00575795</td>\n",
       "      <td>P00003392</td>\n",
       "      <td>Clinton, Hillary Rodham</td>\n",
       "      <td>CARROLL, MARYJEAN</td>\n",
       "      <td>CAMBRIA</td>\n",
       "      <td>CA</td>\n",
       "      <td>934,284,638.00</td>\n",
       "      <td>NaN</td>\n",
       "      <td>RETIRED</td>\n",
       "      <td>200.00</td>\n",
       "      <td>2016-04-20</td>\n",
       "      <td>NaN</td>\n",
       "      <td>X</td>\n",
       "      <td>* HILLARY VICTORY FUND</td>\n",
       "      <td>SA18</td>\n",
       "      <td>1091718</td>\n",
       "      <td>C4747242</td>\n",
       "      <td>P2016</td>\n",
       "    </tr>\n",
       "    <tr>\n",
       "      <th>2</th>\n",
       "      <td>C00575795</td>\n",
       "      <td>P00003392</td>\n",
       "      <td>Clinton, Hillary Rodham</td>\n",
       "      <td>GANDARA, DESIREE</td>\n",
       "      <td>FONTANA</td>\n",
       "      <td>CA</td>\n",
       "      <td>923,371,507.00</td>\n",
       "      <td>NaN</td>\n",
       "      <td>RETIRED</td>\n",
       "      <td>5.00</td>\n",
       "      <td>2016-04-02</td>\n",
       "      <td>NaN</td>\n",
       "      <td>X</td>\n",
       "      <td>* HILLARY VICTORY FUND</td>\n",
       "      <td>SA18</td>\n",
       "      <td>1091718</td>\n",
       "      <td>C4666603</td>\n",
       "      <td>P2016</td>\n",
       "    </tr>\n",
       "    <tr>\n",
       "      <th>3</th>\n",
       "      <td>C00577130</td>\n",
       "      <td>P60007168</td>\n",
       "      <td>Sanders, Bernard</td>\n",
       "      <td>LEE, ALAN</td>\n",
       "      <td>CAMARILLO</td>\n",
       "      <td>CA</td>\n",
       "      <td>930,111,214.00</td>\n",
       "      <td>AT&amp;T GOVERNMENT SOLUTIONS</td>\n",
       "      <td>SOFTWARE ENGINEER</td>\n",
       "      <td>40.00</td>\n",
       "      <td>2016-03-04</td>\n",
       "      <td>NaN</td>\n",
       "      <td>NaN</td>\n",
       "      <td>* EARMARKED CONTRIBUTION: SEE BELOW</td>\n",
       "      <td>SA17A</td>\n",
       "      <td>1077404</td>\n",
       "      <td>VPF7BKWA097</td>\n",
       "      <td>P2016</td>\n",
       "    </tr>\n",
       "    <tr>\n",
       "      <th>4</th>\n",
       "      <td>C00577130</td>\n",
       "      <td>P60007168</td>\n",
       "      <td>Sanders, Bernard</td>\n",
       "      <td>LEONELLI, ODETTE</td>\n",
       "      <td>REDONDO BEACH</td>\n",
       "      <td>CA</td>\n",
       "      <td>902,784,310.00</td>\n",
       "      <td>VERICOR ENTERPRISES INC.</td>\n",
       "      <td>PHARMACIST</td>\n",
       "      <td>35.00</td>\n",
       "      <td>2016-03-05</td>\n",
       "      <td>NaN</td>\n",
       "      <td>NaN</td>\n",
       "      <td>* EARMARKED CONTRIBUTION: SEE BELOW</td>\n",
       "      <td>SA17A</td>\n",
       "      <td>1077404</td>\n",
       "      <td>VPF7BKX3MB3</td>\n",
       "      <td>P2016</td>\n",
       "    </tr>\n",
       "  </tbody>\n",
       "</table>\n",
       "</div>"
      ],
      "text/plain": [
       "     cmte_id    cand_id                  cand_nm          contbr_nm  \\\n",
       "0  C00575795  P00003392  Clinton, Hillary Rodham         AULL, ANNE   \n",
       "1  C00575795  P00003392  Clinton, Hillary Rodham  CARROLL, MARYJEAN   \n",
       "2  C00575795  P00003392  Clinton, Hillary Rodham   GANDARA, DESIREE   \n",
       "3  C00577130  P60007168         Sanders, Bernard          LEE, ALAN   \n",
       "4  C00577130  P60007168         Sanders, Bernard   LEONELLI, ODETTE   \n",
       "\n",
       "     contbr_city contbr_st     contbr_zip            contbr_employer  \\\n",
       "0       LARKSPUR        CA 949,391,913.00                        NaN   \n",
       "1        CAMBRIA        CA 934,284,638.00                        NaN   \n",
       "2        FONTANA        CA 923,371,507.00                        NaN   \n",
       "3      CAMARILLO        CA 930,111,214.00  AT&T GOVERNMENT SOLUTIONS   \n",
       "4  REDONDO BEACH        CA 902,784,310.00   VERICOR ENTERPRISES INC.   \n",
       "\n",
       "   contbr_occupation  contb_receipt_amt contb_receipt_dt receipt_desc memo_cd  \\\n",
       "0            RETIRED              50.00       2016-04-26          NaN       X   \n",
       "1            RETIRED             200.00       2016-04-20          NaN       X   \n",
       "2            RETIRED               5.00       2016-04-02          NaN       X   \n",
       "3  SOFTWARE ENGINEER              40.00       2016-03-04          NaN     NaN   \n",
       "4         PHARMACIST              35.00       2016-03-05          NaN     NaN   \n",
       "\n",
       "                             memo_text form_tp  file_num      tran_id  \\\n",
       "0               * HILLARY VICTORY FUND    SA18   1091718     C4768722   \n",
       "1               * HILLARY VICTORY FUND    SA18   1091718     C4747242   \n",
       "2               * HILLARY VICTORY FUND    SA18   1091718     C4666603   \n",
       "3  * EARMARKED CONTRIBUTION: SEE BELOW   SA17A   1077404  VPF7BKWA097   \n",
       "4  * EARMARKED CONTRIBUTION: SEE BELOW   SA17A   1077404  VPF7BKX3MB3   \n",
       "\n",
       "  election_tp  \n",
       "0       P2016  \n",
       "1       P2016  \n",
       "2       P2016  \n",
       "3       P2016  \n",
       "4       P2016  "
      ]
     },
     "execution_count": 5,
     "metadata": {},
     "output_type": "execute_result"
    }
   ],
   "source": [
    "contrib.head(5)"
   ]
  },
  {
   "cell_type": "markdown",
   "metadata": {},
   "source": [
    "**1c. Pick three variables from the dataset above and run some quick sanity checks.**\n",
    "\n",
    "When working with a new dataset, it is important to explore and sanity check your variables. For example, you may want to examine the maximum and minimum values, a frequency count, or something else. Use the three markdown cells below to explain if your **three** chosen variables \"pass\" your sanity checks or if you have concerns about the integrity of your data and why. "
   ]
  },
  {
   "cell_type": "code",
   "execution_count": 6,
   "metadata": {
    "deletable": false,
    "nbgrader": {
     "checksum": "0ec29a2cabd52709322d1cfd650babe7",
     "grade": true,
     "grade_id": "cell-23b51536d24c1645",
     "locked": false,
     "points": 0,
     "schema_version": 1,
     "solution": true
    }
   },
   "outputs": [
    {
     "name": "stdout",
     "output_type": "stream",
     "text": [
      "10800.0\n",
      "-10000.0\n",
      "654502\n"
     ]
    }
   ],
   "source": [
    "print(contrib['contb_receipt_amt'].max())\n",
    "print(contrib['contb_receipt_amt'].min())\n",
    "print(contrib['contb_receipt_amt'].count())"
   ]
  },
  {
   "cell_type": "code",
   "execution_count": 7,
   "metadata": {},
   "outputs": [
    {
     "name": "stdout",
     "output_type": "stream",
     "text": [
      "2016-05-31 00:00:00\n",
      "2013-11-05 00:00:00\n",
      "654502\n"
     ]
    }
   ],
   "source": [
    "print(contrib['contb_receipt_dt'].max())\n",
    "print(contrib['contb_receipt_dt'].min())\n",
    "print(contrib['contb_receipt_dt'].count())"
   ]
  },
  {
   "cell_type": "code",
   "execution_count": 8,
   "metadata": {},
   "outputs": [
    {
     "name": "stdout",
     "output_type": "stream",
     "text": [
      "Sanders, Bernard             371795\n",
      "Clinton, Hillary Rodham      163509\n",
      "Cruz, Rafael Edward 'Ted'     57136\n",
      "Carson, Benjamin S.           27342\n",
      "Rubio, Marco                  14089\n",
      "Fiorina, Carly                 4696\n",
      "Paul, Rand                     4256\n",
      "Bush, Jeb                      3114\n",
      "Kasich, John R.                2988\n",
      "Trump, Donald J.               2255\n",
      "Walker, Scott                   713\n",
      "Huckabee, Mike                  531\n",
      "O'Malley, Martin Joseph         397\n",
      "Lessig, Lawrence                372\n",
      "Graham, Lindsey O.              342\n",
      "Christie, Christopher J.        333\n",
      "Stein, Jill                     197\n",
      "Perry, James R. (Rick)          116\n",
      "Webb, James Henry Jr.           106\n",
      "Santorum, Richard J.             84\n",
      "Johnson, Gary                    77\n",
      "Jindal, Bobby                    31\n",
      "Pataki, George E.                20\n",
      "Gilmore, James S III              3\n",
      "Name: cand_nm, dtype: int64\n"
     ]
    }
   ],
   "source": [
    "print(contrib['cand_nm'].value_counts())"
   ]
  },
  {
   "cell_type": "markdown",
   "metadata": {
    "deletable": false,
    "nbgrader": {
     "checksum": "cfa64002e64474584dc1442b5a39b460",
     "grade": true,
     "grade_id": "cell-8a320c2ff7c24d98",
     "locked": false,
     "points": 0,
     "schema_version": 1,
     "solution": true
    }
   },
   "source": [
    "`1c cont_receipt_amt seems to fail as the max donation legally allowed is 2900 for one party member (which is how the data is structured) so having a 10800 contribution seems not legal or incorrect. The second issue is the fact that the min is negative meaning the candidates gave the donor money which is also not possible. This variable fails, The next is the dates and they seem to correct as none deviate from the 4 year election cycle. Lastly,the candidate names seem to all be correct as they are all politicians or confirmed running for a election in 2016`"
   ]
  },
  {
   "cell_type": "markdown",
   "metadata": {},
   "source": [
    "**1d. Plotting a histogram** \n",
    "\n",
    "Make a histogram of **one** of the variables you picked above. What are some insights that you can see from this histogram? \n",
    "Remember to include on your histogram:\n",
    "- Include a title\n",
    "- Include axis labels\n",
    "- The correct number of bins to see the breakout of values\n",
    "- Hint: For some variables the range of values is very large. To do a better exploration, make the initial histogram the full range and then you can make a smaller histogram 'zoomed' in on a discreet range."
   ]
  },
  {
   "cell_type": "code",
   "execution_count": 9,
   "metadata": {},
   "outputs": [
    {
     "data": {
      "text/plain": [
       "(array([2.0000e+00, 0.0000e+00, 0.0000e+00, 0.0000e+00, 0.0000e+00,\n",
       "        0.0000e+00, 0.0000e+00, 0.0000e+00, 0.0000e+00, 0.0000e+00,\n",
       "        0.0000e+00, 0.0000e+00, 0.0000e+00, 0.0000e+00, 0.0000e+00,\n",
       "        0.0000e+00, 0.0000e+00, 0.0000e+00, 0.0000e+00, 0.0000e+00,\n",
       "        0.0000e+00, 0.0000e+00, 0.0000e+00, 0.0000e+00, 0.0000e+00,\n",
       "        0.0000e+00, 0.0000e+00, 2.0000e+00, 0.0000e+00, 0.0000e+00,\n",
       "        1.0000e+00, 2.0000e+00, 3.0000e+00, 4.0000e+00, 3.4000e+01,\n",
       "        4.0000e+00, 0.0000e+00, 1.0000e+00, 0.0000e+00, 0.0000e+00,\n",
       "        6.0000e+00, 1.0000e+00, 3.0000e+00, 1.7000e+01, 5.8000e+01,\n",
       "        2.0000e+00, 4.0000e+00, 2.0000e+00, 9.0000e+00, 2.0000e+00,\n",
       "        1.3000e+01, 9.6000e+01, 5.5000e+01, 1.4300e+02, 2.7500e+02,\n",
       "        1.5070e+03, 1.1970e+03, 1.6910e+03, 1.5050e+03, 1.0770e+03,\n",
       "        1.1110e+03, 1.2980e+03, 2.0790e+03, 2.5460e+03, 3.1220e+03,\n",
       "        2.7170e+03, 2.1200e+03, 3.1710e+03, 3.8340e+03, 2.7740e+03,\n",
       "        3.7580e+03, 3.4820e+03, 4.8860e+03, 9.6510e+03, 5.7980e+03,\n",
       "        8.9660e+03, 8.5240e+03, 9.4710e+03, 8.9340e+03, 5.6160e+03,\n",
       "        5.5410e+03, 9.1650e+03, 1.2220e+04, 1.2980e+04, 7.4320e+03,\n",
       "        1.4698e+04, 2.1960e+04, 2.3231e+04, 2.8516e+04, 3.3933e+04,\n",
       "        4.0962e+04, 4.7985e+04, 3.1408e+04, 4.5938e+04, 4.6152e+04,\n",
       "        3.5590e+04, 4.0148e+04, 3.3846e+04, 2.4024e+04, 3.7199e+04]),\n",
       " array([16014.  , 16023.38, 16032.76, 16042.14, 16051.52, 16060.9 ,\n",
       "        16070.28, 16079.66, 16089.04, 16098.42, 16107.8 , 16117.18,\n",
       "        16126.56, 16135.94, 16145.32, 16154.7 , 16164.08, 16173.46,\n",
       "        16182.84, 16192.22, 16201.6 , 16210.98, 16220.36, 16229.74,\n",
       "        16239.12, 16248.5 , 16257.88, 16267.26, 16276.64, 16286.02,\n",
       "        16295.4 , 16304.78, 16314.16, 16323.54, 16332.92, 16342.3 ,\n",
       "        16351.68, 16361.06, 16370.44, 16379.82, 16389.2 , 16398.58,\n",
       "        16407.96, 16417.34, 16426.72, 16436.1 , 16445.48, 16454.86,\n",
       "        16464.24, 16473.62, 16483.  , 16492.38, 16501.76, 16511.14,\n",
       "        16520.52, 16529.9 , 16539.28, 16548.66, 16558.04, 16567.42,\n",
       "        16576.8 , 16586.18, 16595.56, 16604.94, 16614.32, 16623.7 ,\n",
       "        16633.08, 16642.46, 16651.84, 16661.22, 16670.6 , 16679.98,\n",
       "        16689.36, 16698.74, 16708.12, 16717.5 , 16726.88, 16736.26,\n",
       "        16745.64, 16755.02, 16764.4 , 16773.78, 16783.16, 16792.54,\n",
       "        16801.92, 16811.3 , 16820.68, 16830.06, 16839.44, 16848.82,\n",
       "        16858.2 , 16867.58, 16876.96, 16886.34, 16895.72, 16905.1 ,\n",
       "        16914.48, 16923.86, 16933.24, 16942.62, 16952.  ]),\n",
       " <BarContainer object of 100 artists>)"
      ]
     },
     "execution_count": 9,
     "metadata": {},
     "output_type": "execute_result"
    },
    {
     "data": {
      "image/png": "[encoded data removed]",
      "text/plain": [
       "<Figure size 432x288 with 1 Axes>"
      ]
     },
     "metadata": {
      "needs_background": "light"
     },
     "output_type": "display_data"
    }
   ],
   "source": [
    "plt.xlabel('Date')\n",
    "plt.ylabel('Count of Donations')\n",
    "plt.title('Number of Donations through Election Cycle Dates')\n",
    "plt.xticks(rotation = 45)\n",
    "plt.hist(contrib['contb_receipt_dt'],bins=100)"
   ]
  },
  {
   "cell_type": "markdown",
   "metadata": {},
   "source": [
    "`1d From this histogram we see that although donations start coming in early, it truly doesnt start ramping up until closer to the primary election`"
   ]
  },
  {
   "cell_type": "markdown",
   "metadata": {},
   "source": [
    "## 2. Exploring Campaign Contributions (30 points)\n",
    "\n",
    "Let's investigate the donations to the candidates.\n",
    "\n",
    "**2a. Present a table that shows the number of donations to each candidate sorted by number of donations.**\n",
    "\n",
    "- When presenting data as a table, it is often best to sort the data in a meaningful way. This makes it easier for your reader to examine what you've done and to glean insights.  From now on, all tables that you present in this assignment (and course) should be sorted.\n",
    "- Hint: Use the `groupby` method. Groupby is explained in Unit 13: async 13.3 & 13.5\n",
    "- Hint: Use the `sort_values` method to sort the data so that candidates with the largest number of donations appear on top.\n",
    "\n",
    "Which candidate received the largest number of contributions (variable 'contb_receipt_amt')?"
   ]
  },
  {
   "cell_type": "code",
   "execution_count": 10,
   "metadata": {
    "deletable": false,
    "nbgrader": {
     "checksum": "442b24601da06376c43cbe6ef5c5348a",
     "grade": true,
     "grade_id": "cell-6a453219105384dd",
     "locked": false,
     "points": 0,
     "schema_version": 1,
     "solution": true
    }
   },
   "outputs": [
    {
     "name": "stdout",
     "output_type": "stream",
     "text": [
      "                      cand_nm  contb_receipt_amt\n",
      "0            Sanders, Bernard             371795\n",
      "1     Clinton, Hillary Rodham             163509\n",
      "2   Cruz, Rafael Edward 'Ted'              57136\n",
      "3         Carson, Benjamin S.              27342\n",
      "4                Rubio, Marco              14089\n",
      "5              Fiorina, Carly               4696\n",
      "6                  Paul, Rand               4256\n",
      "7                   Bush, Jeb               3114\n",
      "8             Kasich, John R.               2988\n",
      "9            Trump, Donald J.               2255\n",
      "10              Walker, Scott                713\n",
      "11             Huckabee, Mike                531\n",
      "12    O'Malley, Martin Joseph                397\n",
      "13           Lessig, Lawrence                372\n",
      "14         Graham, Lindsey O.                342\n",
      "15   Christie, Christopher J.                333\n",
      "16                Stein, Jill                197\n",
      "17     Perry, James R. (Rick)                116\n",
      "18      Webb, James Henry Jr.                106\n",
      "19       Santorum, Richard J.                 84\n",
      "20              Johnson, Gary                 77\n",
      "21              Jindal, Bobby                 31\n",
      "22          Pataki, George E.                 20\n",
      "23       Gilmore, James S III                  3\n"
     ]
    }
   ],
   "source": [
    "df = contrib[['cand_nm','contb_receipt_amt']].groupby(['cand_nm']).count()\n",
    "df = df.sort_values(by=['contb_receipt_amt'], ascending = False).reset_index()\n",
    "print(df)"
   ]
  },
  {
   "cell_type": "markdown",
   "metadata": {
    "deletable": false,
    "nbgrader": {
     "checksum": "c5a1b7f30648cced7269ccb9b1532bd6",
     "grade": true,
     "grade_id": "cell-90c49bd6471a3dc9",
     "locked": false,
     "points": 0,
     "schema_version": 1,
     "solution": true
    }
   },
   "source": [
    "`2a Bernie Sanders ahd the largest number of contributions`"
   ]
  },
  {
   "cell_type": "markdown",
   "metadata": {},
   "source": [
    "**2b. Now, present a table that shows the total value of donations to each candidate. sorted by total value of the donations**\n",
    "\n",
    "Which candidate raised the most money in California?"
   ]
  },
  {
   "cell_type": "code",
   "execution_count": 11,
   "metadata": {},
   "outputs": [
    {
     "name": "stdout",
     "output_type": "stream",
     "text": [
      "                      cand_nm  contb_receipt_amt\n",
      "0     Clinton, Hillary Rodham      39,368,777.01\n",
      "1            Sanders, Bernard      18,773,871.31\n",
      "2   Cruz, Rafael Edward 'Ted'       6,286,460.34\n",
      "3                Rubio, Marco       4,846,483.72\n",
      "4                   Bush, Jeb       3,325,536.83\n",
      "5         Carson, Benjamin S.       2,952,109.00\n",
      "6             Kasich, John R.       1,553,823.54\n",
      "7              Fiorina, Carly       1,468,489.42\n",
      "8            Trump, Donald J.         893,356.89\n",
      "9                  Paul, Rand         797,624.29\n",
      "10              Walker, Scott         495,006.90\n",
      "11   Christie, Christopher J.         456,066.00\n",
      "12         Graham, Lindsey O.         408,595.00\n",
      "13    O'Malley, Martin Joseph         297,834.26\n",
      "14             Huckabee, Mike         230,890.60\n",
      "15     Perry, James R. (Rick)         208,400.00\n",
      "16           Lessig, Lawrence         186,144.50\n",
      "17      Webb, James Henry Jr.          76,568.16\n",
      "18              Johnson, Gary          41,187.60\n",
      "19       Santorum, Richard J.          36,304.88\n",
      "20          Pataki, George E.          30,450.00\n",
      "21                Stein, Jill          27,918.00\n",
      "22              Jindal, Bobby          23,231.26\n",
      "23       Gilmore, James S III           8,100.00\n"
     ]
    }
   ],
   "source": [
    "df_2 = contrib[['cand_nm','contb_receipt_amt']].groupby(['cand_nm']).sum()\n",
    "\n",
    "df_2 = df_2.sort_values(by=['contb_receipt_amt'], ascending = False).reset_index()\n",
    "print(df_2)"
   ]
  },
  {
   "cell_type": "markdown",
   "metadata": {
    "deletable": false,
    "nbgrader": {
     "checksum": "60d3e303837e9603de5b96e32af7d806",
     "grade": true,
     "grade_id": "cell-447dc63eff8ebc5f",
     "locked": false,
     "points": 0,
     "schema_version": 1,
     "solution": true
    }
   },
   "source": [
    "`2b Hillary Clinton raised the most money`"
   ]
  },
  {
   "cell_type": "markdown",
   "metadata": {},
   "source": [
    "**2c. Combine the tables (sorted by either a or b above).**\n",
    "\n",
    "- Looking at the two tables you presented above - if those tables are Series convert them to DataFrames.\n",
    "- Rename the variable (column) names to accurately describe what is presented.\n",
    "- Merge together your tables to show the *count* and the *value* of donations to each candidate in one table.\n",
    "- Hint: Use the `merge` method."
   ]
  },
  {
   "cell_type": "code",
   "execution_count": 12,
   "metadata": {},
   "outputs": [
    {
     "name": "stdout",
     "output_type": "stream",
     "text": [
      "                    Candidate  Number of Donations  Total Amount Donated\n",
      "0            Sanders, Bernard               371795         18,773,871.31\n",
      "1     Clinton, Hillary Rodham               163509         39,368,777.01\n",
      "2   Cruz, Rafael Edward 'Ted'                57136          6,286,460.34\n",
      "3         Carson, Benjamin S.                27342          2,952,109.00\n",
      "4                Rubio, Marco                14089          4,846,483.72\n",
      "5              Fiorina, Carly                 4696          1,468,489.42\n",
      "6                  Paul, Rand                 4256            797,624.29\n",
      "7                   Bush, Jeb                 3114          3,325,536.83\n",
      "8             Kasich, John R.                 2988          1,553,823.54\n",
      "9            Trump, Donald J.                 2255            893,356.89\n",
      "10              Walker, Scott                  713            495,006.90\n",
      "11             Huckabee, Mike                  531            230,890.60\n",
      "12    O'Malley, Martin Joseph                  397            297,834.26\n",
      "13           Lessig, Lawrence                  372            186,144.50\n",
      "14         Graham, Lindsey O.                  342            408,595.00\n",
      "15   Christie, Christopher J.                  333            456,066.00\n",
      "16                Stein, Jill                  197             27,918.00\n",
      "17     Perry, James R. (Rick)                  116            208,400.00\n",
      "18      Webb, James Henry Jr.                  106             76,568.16\n",
      "19       Santorum, Richard J.                   84             36,304.88\n",
      "20              Johnson, Gary                   77             41,187.60\n",
      "21              Jindal, Bobby                   31             23,231.26\n",
      "22          Pataki, George E.                   20             30,450.00\n",
      "23       Gilmore, James S III                    3              8,100.00\n"
     ]
    }
   ],
   "source": [
    "df.columns = ['Candidate', 'Number of Donations']\n",
    "df_2.columns = ['Candidate','Total Amount Donated']\n",
    "Merged = df.merge(df_2, how='inner', on='Candidate')\n",
    "print(Merged)"
   ]
  },
  {
   "cell_type": "markdown",
   "metadata": {},
   "source": [
    "**2d. Calculate and add a new variable to the table from 2c that shows the average \\$ per donation. Print this table sorted by the average donation**"
   ]
  },
  {
   "cell_type": "code",
   "execution_count": 13,
   "metadata": {},
   "outputs": [
    {
     "name": "stdout",
     "output_type": "stream",
     "text": [
      "Index(['Candidate', 'Number of Donations', 'Total Amount Donated'], dtype='object')\n",
      "                    Candidate  Number of Donations  Total Amount Donated  \\\n",
      "0            Sanders, Bernard               371795         18,773,871.31   \n",
      "1     Clinton, Hillary Rodham               163509         39,368,777.01   \n",
      "2   Cruz, Rafael Edward 'Ted'                57136          6,286,460.34   \n",
      "3         Carson, Benjamin S.                27342          2,952,109.00   \n",
      "4                Rubio, Marco                14089          4,846,483.72   \n",
      "5              Fiorina, Carly                 4696          1,468,489.42   \n",
      "6                  Paul, Rand                 4256            797,624.29   \n",
      "7                   Bush, Jeb                 3114          3,325,536.83   \n",
      "8             Kasich, John R.                 2988          1,553,823.54   \n",
      "9            Trump, Donald J.                 2255            893,356.89   \n",
      "10              Walker, Scott                  713            495,006.90   \n",
      "11             Huckabee, Mike                  531            230,890.60   \n",
      "12    O'Malley, Martin Joseph                  397            297,834.26   \n",
      "13           Lessig, Lawrence                  372            186,144.50   \n",
      "14         Graham, Lindsey O.                  342            408,595.00   \n",
      "15   Christie, Christopher J.                  333            456,066.00   \n",
      "16                Stein, Jill                  197             27,918.00   \n",
      "17     Perry, James R. (Rick)                  116            208,400.00   \n",
      "18      Webb, James Henry Jr.                  106             76,568.16   \n",
      "19       Santorum, Richard J.                   84             36,304.88   \n",
      "20              Johnson, Gary                   77             41,187.60   \n",
      "21              Jindal, Bobby                   31             23,231.26   \n",
      "22          Pataki, George E.                   20             30,450.00   \n",
      "23       Gilmore, James S III                    3              8,100.00   \n",
      "\n",
      "    Average Donation  \n",
      "0              50.50  \n",
      "1             240.77  \n",
      "2             110.03  \n",
      "3             107.97  \n",
      "4             343.99  \n",
      "5             312.71  \n",
      "6             187.41  \n",
      "7           1,067.93  \n",
      "8             520.02  \n",
      "9             396.17  \n",
      "10            694.26  \n",
      "11            434.82  \n",
      "12            750.21  \n",
      "13            500.39  \n",
      "14          1,194.72  \n",
      "15          1,369.57  \n",
      "16            141.72  \n",
      "17          1,796.55  \n",
      "18            722.34  \n",
      "19            432.20  \n",
      "20            534.90  \n",
      "21            749.40  \n",
      "22          1,522.50  \n",
      "23          2,700.00  \n"
     ]
    }
   ],
   "source": [
    "print(Merged.columns)\n",
    "Merged[\"Average Donation\"] = Merged[\"Total Amount Donated\"]/Merged[\"Number of Donations\"]\n",
    "Final = Merged.reset_index()\n",
    "del Final['index']\n",
    "print(Final)"
   ]
  },
  {
   "cell_type": "markdown",
   "metadata": {},
   "source": [
    "**2e. Plotting a Bar Chart**\n",
    "\n",
    "Make a single bar chart that shows two different bars per candidate with one bar as the total value of the donations and the other as average $ per donation. \n",
    "- Show the Candidates Name on the x-axis\n",
    "- Show the amount on the y-axis\n",
    "- Include a title\n",
    "- Include axis labels\n",
    "- Hint: Make the y-axis a log-scale to show both numbers! (matplotlib docs: https://matplotlib.org/3.1.1/api/_as_gen/matplotlib.pyplot.yscale.html )"
   ]
  },
  {
   "cell_type": "code",
   "execution_count": 14,
   "metadata": {},
   "outputs": [
    {
     "data": {
      "image/png": "[encoded data removed]",
      "text/plain": [
       "<Figure size 1440x216 with 1 Axes>"
      ]
     },
     "metadata": {
      "needs_background": "light"
     },
     "output_type": "display_data"
    }
   ],
   "source": [
    "fig = plt.figure(figsize=(20,3))\n",
    "ax = plt.subplot(111)\n",
    "width = 0.4\n",
    "colors = {\"Total Amount Donated\":\"red\", \"Average Donation\": 'blue'}\n",
    "labels = list(colors.keys())\n",
    "handles = [plt.Rectangle((0,0),1,1, color = colors[label]) for label in labels]\n",
    "Merged['Total Amount Donated'].plot(kind='bar', color='red', ax=ax, width=width, position=1)\n",
    "Merged['Average Donation'].plot(kind='bar', color='blue', ax=ax, width=width, position=0)\n",
    "ax.set_yscale('log')\n",
    "ax.set_ylabel('Dollars ($)')\n",
    "ax.set_xticklabels(Merged['Candidate'])\n",
    "ax.set_xlabel(\"Candidate\")\n",
    "plt.legend(handles,labels)\n",
    "plt.title('Donations By Candidate')\n",
    "plt.xticks(rotation = 45)\n",
    "\n",
    "plt.show()\n"
   ]
  },
  {
   "cell_type": "markdown",
   "metadata": {},
   "source": [
    "**2f. Comment on the results of your data analysis in a short paragraph.**\n",
    "\n",
    "- There are several interesting conclusions you can draw from the table you have created.\n",
    "- What have you learned about campaign contributions in California?\n",
    "- We are looking for data insights here rather than comments on the code!"
   ]
  },
  {
   "cell_type": "markdown",
   "metadata": {},
   "source": [
    "`2f The trend seems to show the less donations received the higher the average value of the donations, I have learnt that campaign contributions in California tend to favor the top candidates as they get the vast majority of the money, but people with less support get more donations per individual`"
   ]
  },
  {
   "cell_type": "markdown",
   "metadata": {},
   "source": [
    "## 3. Exploring Donor Occupations (30 points)\n",
    "\n",
    "Above in part 2, we saw that some simple data analysis can give us insights into the campaigns of our candidates. Now let's quickly look to see what *kind* of person is donating to each campaign using the `contbr_occupation` variable."
   ]
  },
  {
   "cell_type": "markdown",
   "metadata": {},
   "source": [
    "**3a. Show the top 5 occupations of individuals that contributed to Hillary Clinton.** \n",
    "\n",
    "- Subset your data to create a dataframe with only donations for Hillary Clinton.\n",
    "- Then use the `value_counts` and `head` methods to present the top 5 occupations (`contbr_occupation`) for her donors.\n",
    "- Note: we are just interested in the count of donations, not the value of those donations."
   ]
  },
  {
   "cell_type": "code",
   "execution_count": 15,
   "metadata": {
    "deletable": false,
    "nbgrader": {
     "checksum": "20a71229316bf24a2ce62c52f72d8142",
     "grade": true,
     "grade_id": "cell-963603c5ed346a99",
     "locked": false,
     "points": 0,
     "schema_version": 1,
     "solution": true
    }
   },
   "outputs": [
    {
     "data": {
      "text/plain": [
       "contbr_occupation\n",
       "RETIRED                  33450\n",
       "ATTORNEY                  7315\n",
       "INFORMATION REQUESTED     4742\n",
       "TEACHER                   3591\n",
       "HOMEMAKER                 3436\n",
       "dtype: int64"
      ]
     },
     "execution_count": 15,
     "metadata": {},
     "output_type": "execute_result"
    }
   ],
   "source": [
    "hillary = contrib[contrib['cand_nm']=='Clinton, Hillary Rodham']\n",
    "hillary.value_counts(\"contbr_occupation\").head()"
   ]
  },
  {
   "cell_type": "markdown",
   "metadata": {
    "deletable": false,
    "nbgrader": {
     "checksum": "426b589a9d6457f38381eb1c77678d4f",
     "grade": true,
     "grade_id": "cell-b6fc3f7c906c95a2",
     "locked": false,
     "points": 0,
     "schema_version": 1,
     "solution": true
    }
   },
   "source": [
    "**3b. Write a function called `get_donors`.**\n",
    "\n",
    "Imagine that you want to do the previous operation on several candidates.  To keep your work neat, you want to take the work you did on the Clinton-subset and wrap it in a function that you can apply to other subsets of the data.\n",
    "\n",
    "- The function should take a DataFrame as a parameter, and return a Series containing the counts for the top 5 occupations contained in that DataFrame."
   ]
  },
  {
   "cell_type": "code",
   "execution_count": 16,
   "metadata": {
    "deletable": false,
    "nbgrader": {
     "checksum": "81ebf2a2f96961b4464f6c35d2143427",
     "grade": true,
     "grade_id": "cell-bea2cf7a6fff8565",
     "locked": false,
     "points": 0,
     "schema_version": 1,
     "solution": true
    }
   },
   "outputs": [],
   "source": [
    "def get_donors(df):\n",
    "    \"\"\"This function takes a dataframe that contains a variable named contbr_occupation.\n",
    "    It outputs a Series containing the counts for the 5 most common values of that\n",
    "    variable.\"\"\"\n",
    "    return df.value_counts(\"contbr_occupation\").head()\n"
   ]
  },
  {
   "cell_type": "markdown",
   "metadata": {},
   "source": [
    "**3c. Now run the `get_donors` function on subsets of the dataframe corresponding to three candidates. Show each of the three candidates below.**\n",
    "\n",
    "- Hillary Clinton\n",
    "- Bernie Sanders\n",
    "- Donald Trump"
   ]
  },
  {
   "cell_type": "code",
   "execution_count": 17,
   "metadata": {
    "deletable": false,
    "nbgrader": {
     "checksum": "bffd2778d22127102347386bfb6f5b20",
     "grade": true,
     "grade_id": "cell-4ad1da24176f0450",
     "locked": false,
     "points": 0,
     "schema_version": 1,
     "solution": true
    }
   },
   "outputs": [
    {
     "data": {
      "text/plain": [
       "contbr_occupation\n",
       "NOT EMPLOYED         99179\n",
       "RETIRED              49347\n",
       "TEACHER              13764\n",
       "ATTORNEY             13272\n",
       "SOFTWARE ENGINEER     8861\n",
       "dtype: int64"
      ]
     },
     "execution_count": 17,
     "metadata": {},
     "output_type": "execute_result"
    }
   ],
   "source": [
    "get_donors(contrib[contrib['cand_nm'].isin(['Clinton, Hillary Rodham','Sanders, Bernard','Trump, Donald J.'])])\n"
   ]
  },
  {
   "cell_type": "markdown",
   "metadata": {},
   "source": [
    "**3d. Finally, use `groupby` to separate the entire dataset by candidate.**\n",
    "\n",
    "- Call .apply(get_donors) on your groupby object, which will apply the function you wrote to each subset of your data.\n",
    "- Look at your output and marvel at what pandas can do in just one line!"
   ]
  },
  {
   "cell_type": "code",
   "execution_count": 18,
   "metadata": {},
   "outputs": [
    {
     "name": "stdout",
     "output_type": "stream",
     "text": [
      "cand_nm                    contbr_occupation                     \n",
      "Bush, Jeb                  RETIRED                                     996\n",
      "                           HOMEMAKER                                   180\n",
      "                           ATTORNEY                                     92\n",
      "                           Q.A.                                         89\n",
      "                           PRESIDENT                                    84\n",
      "Carson, Benjamin S.        RETIRED                                   13692\n",
      "                           INFORMATION REQUESTED PER BEST EFFORTS     1614\n",
      "                           HOMEMAKER                                  1049\n",
      "                           PHYSICIAN                                   329\n",
      "                           R.N.                                        234\n",
      "Christie, Christopher J.   RETIRED                                      38\n",
      "                           NONE                                         22\n",
      "                           CONSULTANT                                   18\n",
      "                           CEO                                          16\n",
      "                           HOMEMAKER                                    15\n",
      "Clinton, Hillary Rodham    RETIRED                                   33450\n",
      "                           ATTORNEY                                   7315\n",
      "                           INFORMATION REQUESTED                      4742\n",
      "                           TEACHER                                    3591\n",
      "                           HOMEMAKER                                  3436\n",
      "Cruz, Rafael Edward 'Ted'  RETIRED                                   22956\n",
      "                           INFORMATION REQUESTED PER BEST EFFORTS     1651\n",
      "                           HOMEMAKER                                  1261\n",
      "                           ENGINEER                                   1080\n",
      "                           TEACHER                                     838\n",
      "Fiorina, Carly             RETIRED                                    1971\n",
      "                           HOMEMAKER                                   169\n",
      "                           ATTORNEY                                    140\n",
      "                           INFORMATION REQUESTED PER BEST EFFORTS       95\n",
      "                           INVESTOR                                     64\n",
      "Gilmore, James S III       COB                                           1\n",
      "                           FINANCIAL ADVISOR                             1\n",
      "                           INVESTMENT MANAGEMENT                         1\n",
      "Graham, Lindsey O.         RETIRED                                      78\n",
      "                           INFORMATION REQUESTED PER BEST EFFORTS       20\n",
      "                           PRINCIPAL                                    15\n",
      "                           EXECUTIVE                                    15\n",
      "                           PORTFOLIO MANAGER                            14\n",
      "Huckabee, Mike             RETIRED                                     206\n",
      "                           REQUESTED PER BEST EFFORTS                   36\n",
      "                           HOMEMAKER                                    22\n",
      "                           OWNER                                        13\n",
      "                           FUNERAL DIRECTOR                             12\n",
      "Jindal, Bobby              RETIRED                                       5\n",
      "                           ENGINEER                                      4\n",
      "                           PROFESSOR                                     3\n",
      "                           REALTOR                                       2\n",
      "                           PRESIDENT                                     2\n",
      "Johnson, Gary              RETIRED                                      18\n",
      "                           TWICE REQUESTED, NOT RECEIVED                14\n",
      "                           SOFTWARE ENGINEER                             5\n",
      "                           ELECTRONIC TECHNICIAN                         3\n",
      "                           HOTEL NIGHT AUDITOR                           2\n",
      "Kasich, John R.            RETIRED                                     725\n",
      "                           ATTORNEY                                    131\n",
      "                           CEO                                          77\n",
      "                           HOMEMAKER                                    67\n",
      "                           PRESIDENT                                    65\n",
      "Lessig, Lawrence           SOFTWARE ENGINEER                            56\n",
      "                           DEVELOPER                                    42\n",
      "                           RETIRED                                      26\n",
      "                           ATTORNEY                                     20\n",
      "                           ENGINEER                                     18\n",
      "O'Malley, Martin Joseph    RETIRED                                      52\n",
      "                           ATTORNEY                                     26\n",
      "                           LECTURER                                     23\n",
      "                           CONSULTANT                                   20\n",
      "                           PHYSICIAN                                    15\n",
      "Pataki, George E.          ATTORNEY                                      3\n",
      "                           HOMEMAKER                                     2\n",
      "                           INFORMATION REQUESTED                         2\n",
      "                           PRESIDENT                                     2\n",
      "                           BUSINESS MANAGER                              1\n",
      "Paul, Rand                 RETIRED                                     874\n",
      "                           ENGINEER                                    335\n",
      "                           INFORMATION REQUESTED                       193\n",
      "                           CONSULTANT                                   95\n",
      "                           HOMEMAKER                                    82\n",
      "Perry, James R. (Rick)     PRESIDENT                                    11\n",
      "                           HOMEMAKER                                    11\n",
      "                           ATTORNEY                                      7\n",
      "                           EXECUTIVE                                     7\n",
      "                           OWNER                                         5\n",
      "Rubio, Marco               RETIRED                                    5579\n",
      "                           HOMEMAKER                                   627\n",
      "                           INFORMATION REQUESTED PER BEST EFFORTS      491\n",
      "                           ATTORNEY                                    346\n",
      "                           PRESIDENT                                   197\n",
      "Sanders, Bernard           NOT EMPLOYED                              96371\n",
      "                           RETIRED                                   15048\n",
      "                           TEACHER                                   10167\n",
      "                           SOFTWARE ENGINEER                          7861\n",
      "                           ENGINEER                                   7094\n",
      "Santorum, Richard J.       RETIRED                                      44\n",
      "                           ENGINEER                                      5\n",
      "                           MACHINIST                                     4\n",
      "                           INFORMATION REQUESTED                         3\n",
      "                           CUSTOMER SERVICE                              3\n",
      "Stein, Jill                RETIRED                                      32\n",
      "                           RESEARCHER                                   25\n",
      "                           WRITER                                       20\n",
      "                           SOFTWARE ENGINEER                             9\n",
      "                           FORMAL FINANCIAL SERVICES EMPLOYEE            9\n",
      "Trump, Donald J.           RETIRED                                     849\n",
      "                           INFORMATION REQUESTED                        70\n",
      "                           CEO                                          57\n",
      "                           OWNER                                        51\n",
      "                           PRESIDENT                                    35\n",
      "Walker, Scott              RETIRED                                     232\n",
      "                           INFORMATION REQUESTED                        70\n",
      "                           PRESIDENT                                    37\n",
      "                           HOMEMAKER                                    34\n",
      "                           ATTORNEY                                     31\n",
      "Webb, James Henry Jr.      RETIRED                                      14\n",
      "                           ATTORNEY                                      8\n",
      "                           DEPUTY DISTRICT ATTORNEY                      7\n",
      "                           NOT EMPLOYED                                  5\n",
      "                           MATH EDUCATOR                                 5\n",
      "dtype: int64\n"
     ]
    }
   ],
   "source": [
    "subset = contrib.groupby(['cand_nm']).apply(get_donors)\n",
    "print(subset)"
   ]
  },
  {
   "cell_type": "markdown",
   "metadata": {
    "collapsed": true,
    "deletable": false,
    "nbgrader": {
     "checksum": "14c2855e3d59f0da6b1afd5cf0da2da8",
     "grade": true,
     "grade_id": "cell-fd840cdd19d2bd2a",
     "locked": false,
     "points": 0,
     "schema_version": 1,
     "solution": true
    }
   },
   "source": [
    "**3e. Comment on your data insights & findings in a short paragraph.**"
   ]
  },
  {
   "cell_type": "markdown",
   "metadata": {
    "deletable": false,
    "nbgrader": {
     "checksum": "43ce3d15cee7ab73f53fd8f054c9826c",
     "grade": true,
     "grade_id": "cell-dce8d3107c1463ca",
     "locked": false,
     "points": 0,
     "schema_version": 1,
     "solution": true
    }
   },
   "source": [
    "`3e It is interesting to see how most people who are funding the elections are either retied or unemployed specifically bernie who has 96% of all unemployed donations. It is amazing to see such clear deviations. `"
   ]
  },
  {
   "cell_type": "markdown",
   "metadata": {},
   "source": [
    "**3f. Think about your findings in section 3 vs. your findings in section 2 of this assignment.**\n",
    "\n",
    "Do you have any new data insights into the results you saw in section 2 now that you see the top occupations for each candidate?"
   ]
  },
  {
   "cell_type": "markdown",
   "metadata": {
    "deletable": false,
    "nbgrader": {
     "checksum": "a5f4e6df0f32e24c492a9589ec87fef6",
     "grade": true,
     "grade_id": "cell-9e3f68b21dac8e10",
     "locked": false,
     "points": 0,
     "schema_version": 1,
     "solution": true
    }
   },
   "source": [
    "`3f It makes sense that although Bernie sanders was getting a lot more donations, the amount donated was less since most his supporters were unemployed`"
   ]
  },
  {
   "cell_type": "markdown",
   "metadata": {},
   "source": [
    "\n",
    "## 4. Plotting Data (20 points)\n",
    "\n",
    "There is an important element that we have not yet explored in this dataset - time."
   ]
  },
  {
   "cell_type": "markdown",
   "metadata": {},
   "source": [
    "**4a. Present a single line chart with the following elements.**\n",
    "\n",
    "- Show the date on the x-axis\n",
    "- Show the contribution amount on the y-axis\n",
    "- Include a title\n",
    "- Include axis labels"
   ]
  },
  {
   "cell_type": "code",
   "execution_count": 42,
   "metadata": {
    "deletable": false,
    "nbgrader": {
     "checksum": "4f1a9e7ee0ded9d2b5af5777cb85e505",
     "grade": true,
     "grade_id": "cell-c14fbed9d72d54e3",
     "locked": false,
     "points": 0,
     "schema_version": 1,
     "solution": true
    }
   },
   "outputs": [
    {
     "data": {
      "image/png": "[encoded data removed]",
      "text/plain": [
       "<Figure size 432x288 with 1 Axes>"
      ]
     },
     "metadata": {
      "needs_background": "light"
     },
     "output_type": "display_data"
    }
   ],
   "source": [
    "\n",
    "x = contrib[['contb_receipt_dt','cand_nm']].groupby(['contb_receipt_dt']).count()\n",
    "plt.xlabel('Date')\n",
    "plt.ylabel('Count of Donations')\n",
    "plt.title('Number of Donations through Election Cycle Dates')\n",
    "plt.xticks(rotation = 45)\n",
    "plt.plot(x)\n",
    "plt.show()\n"
   ]
  },
  {
   "cell_type": "markdown",
   "metadata": {},
   "source": [
    "**4b. Make a better time-series line chart**\n",
    "\n",
    "This chart is messy and it is hard to gain insights from it.  Improve the chart from 4a so that your new chart shows a specific insight. In the spot provided, write the insight(s) that can be gained from this new time-series line chart."
   ]
  },
  {
   "cell_type": "code",
   "execution_count": 46,
   "metadata": {
    "deletable": false,
    "nbgrader": {
     "checksum": "6dc1481a003cdd752c5edfa9ac400879",
     "grade": true,
     "grade_id": "cell-f7a01ce9c5b10ac7",
     "locked": false,
     "points": 0,
     "schema_version": 1,
     "solution": true
    }
   },
   "outputs": [
    {
     "data": {
      "image/png": "[encoded data removed]",
      "text/plain": [
       "<Figure size 432x288 with 1 Axes>"
      ]
     },
     "metadata": {
      "needs_background": "light"
     },
     "output_type": "display_data"
    }
   ],
   "source": [
    "contrib_2 = contrib[contrib['contb_receipt_dt'] > '2015-04-01']\n",
    "plt.xlabel('Date')\n",
    "plt.ylabel('Count of Donations')\n",
    "plt.title('Number of Donations through Election Cycle Dates')\n",
    "plt.xticks(rotation = 45)\n",
    "plt.hist(contrib_2['contb_receipt_dt'],bins=30)\n",
    "plt.show()"
   ]
  },
  {
   "cell_type": "markdown",
   "metadata": {
    "deletable": false,
    "nbgrader": {
     "checksum": "010f5de5f6af4c7f830d1cf7a81bbc0f",
     "grade": true,
     "grade_id": "cell-5617179133b06d0c",
     "locked": false,
     "points": 0,
     "schema_version": 1,
     "solution": true
    }
   },
   "source": [
    "`4b The histogram limited to above 2015 is much better since it allows for better visualization and removes all the empty space before 2015. with the bars we can see how the donations peaked in early 2016 and slowly died down after which makes sense as that is when the biggest pushed for donations came, by lowering the number of bins it also gives better idea and reduces noise which was present in 4a`"
   ]
  },
  {
   "cell_type": "markdown",
   "metadata": {},
   "source": [
    "## If you have feedback for this homework, please submit it using the link below:\n",
    "\n",
    "http://goo.gl/forms/74yCiQTf6k"
   ]
  }
 ],
 "metadata": {
  "kernelspec": {
   "display_name": "Python 3",
   "language": "python",
   "name": "python3"
  },
  "language_info": {
   "codemirror_mode": {
    "name": "ipython",
    "version": 3
   },
   "file_extension": ".py",
   "mimetype": "text/x-python",
   "name": "python",
   "nbconvert_exporter": "python",
   "pygments_lexer": "ipython3",
   "version": "3.8.8"
  }
 },
 "nbformat": 4,
 "nbformat_minor": 2
}
