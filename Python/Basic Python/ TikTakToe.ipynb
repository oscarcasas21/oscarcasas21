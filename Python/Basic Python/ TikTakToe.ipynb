{
 "cells": [
  {
   "cell_type": "code",
   "execution_count": 1,
   "metadata": {
    "scrolled": true
   },
   "outputs": [
    {
     "name": "stdout",
     "output_type": "stream",
     "text": [
      " ___ ___ ___\n",
      "|___|___|___|\n",
      "|___|___|___|\n",
      "|___|___|___|\n"
     ]
    }
   ],
   "source": [
    "#SETUP BOARD\n",
    "\n",
    "Board = {'1': '_' , '2': '_' , '3': '_' ,\n",
    "         '4': '_' , '5': '_' , '6': '_' ,\n",
    "         '7': '_' , '8': '_' , '9': '_' }\n",
    "            \n",
    "def printBoard(tile):\n",
    "    print(' ___ ___ ___')\n",
    "    print(\"|_\"+ tile['1'] + '_|_' + tile['2'] + '_|_' + tile['3'] + \"_|\")\n",
    "    print(\"|_\"+ tile['4'] + '_|_' + tile['5'] + '_|_' + tile['6'] + \"_|\")\n",
    "    print(\"|_\"+ tile['7'] + '_|_' + tile['8'] + '_|_' + tile['9'] + \"_|\")\n",
    "    \n",
    "printBoard(Board)"
   ]
  },
  {
   "cell_type": "code",
   "execution_count": 2,
   "metadata": {},
   "outputs": [],
   "source": [
    "def tiktaktoe():\n",
    "    \n",
    "    player1 = \"X\"\n",
    "    player2 = \"O\"\n",
    "    total_moves = 0\n",
    "    \n",
    "    for i in range(10):\n",
    "        \n",
    "        if i == 0: \n",
    "            print('Player 1 Begin!')\n",
    "        \n",
    "        if total_moves == 9:                \n",
    "            print(\"It's a Tie!!\")\n",
    "        if Board['1'] == Board['2'] == Board['3'] == player1 or Board['1'] == Board['2'] == Board['3'] == player2: \n",
    "            printBoard(Board)\n",
    "            print(\"You Win!\")                                \n",
    "            break\n",
    "        elif Board['4'] == Board['5'] == Board['6'] == player1 or Board['4'] == Board['5'] == Board['6'] == player2: \n",
    "            printBoard(Board)                    \n",
    "            print(\"You Win!\")                                \n",
    "            break\n",
    "        elif Board['7'] == Board['8'] == Board['9'] == player1 or Board['7'] == Board['8'] == Board['9'] == player2: \n",
    "            printBoard(Board)\n",
    "            print(\"You Win!\")                                \n",
    "            break\n",
    "        elif Board['1'] == Board['4'] == Board['7'] == player1 or Board['1'] == Board['4'] == Board['7'] == player2: \n",
    "            printBoard(Board)\n",
    "            print(\"You Win!\")                                \n",
    "            break\n",
    "        elif Board['2'] == Board['5'] == Board['7'] == player1 or Board['2'] == Board['5'] == Board['7'] == player2: \n",
    "            printBoard(Board)\n",
    "            print(\"You Win!\")                                \n",
    "            break\n",
    "        elif Board['3'] == Board['6'] == Board['9'] == player1 or Board['3'] == Board['6'] == Board['9'] == player2: \n",
    "            printBoard(Board)\n",
    "            print(\"You Win!\")                                \n",
    "            break\n",
    "        elif Board['1'] == Board['5'] == Board['9'] == player1 or Board['1'] == Board['5'] == Board['9'] == player2: \n",
    "            printBoard(Board)\n",
    "            print(\"You Win!\")                                \n",
    "            break\n",
    "        elif Board['3'] == Board['5'] == Board['7'] == player1 or Board['3'] == Board['5'] == Board['7'] == player2: \n",
    "            printBoard(Board)\n",
    "            print(\"You Win!\")                                \n",
    "            break\n",
    "        printBoard(Board)\n",
    "        move = input()\n",
    "        #checking move is not redundant to fill and if it is to try again\n",
    "        if Board[move] == '_':\n",
    "            if total_moves % 2 == 0:\n",
    "                print('Player 2 Turn')\n",
    "                Board[move] = player1\n",
    "                total_moves += 1\n",
    "            else:\n",
    "                print('Player 1 Turn')\n",
    "                Board[move] = player2\n",
    "                total_moves += 1 \n",
    "        else:\n",
    "            print(\"Already full, try again\")\n",
    "            continue\n",
    "        \n",
    "        \n",
    "                \n",
    "  \n"
   ]
  },
  {
   "cell_type": "code",
   "execution_count": 3,
   "metadata": {},
   "outputs": [
    {
     "name": "stdout",
     "output_type": "stream",
     "text": [
      "Player 1 Begin!\n",
      " ___ ___ ___\n",
      "|___|___|___|\n",
      "|___|___|___|\n",
      "|___|___|___|\n",
      "1\n",
      "Player 2 Turn\n",
      " ___ ___ ___\n",
      "|_X_|___|___|\n",
      "|___|___|___|\n",
      "|___|___|___|\n",
      "2\n",
      "Player 1 Turn\n",
      " ___ ___ ___\n",
      "|_X_|_O_|___|\n",
      "|___|___|___|\n",
      "|___|___|___|\n",
      "4\n",
      "Player 2 Turn\n",
      " ___ ___ ___\n",
      "|_X_|_O_|___|\n",
      "|_X_|___|___|\n",
      "|___|___|___|\n",
      "5\n",
      "Player 1 Turn\n",
      " ___ ___ ___\n",
      "|_X_|_O_|___|\n",
      "|_X_|_O_|___|\n",
      "|___|___|___|\n",
      "6\n",
      "Player 2 Turn\n",
      " ___ ___ ___\n",
      "|_X_|_O_|___|\n",
      "|_X_|_O_|_X_|\n",
      "|___|___|___|\n",
      "8\n",
      "Player 1 Turn\n",
      " ___ ___ ___\n",
      "|_X_|_O_|___|\n",
      "|_X_|_O_|_X_|\n",
      "|___|_O_|___|\n",
      "7\n",
      "Player 2 Turn\n",
      " ___ ___ ___\n",
      "|_X_|_O_|___|\n",
      "|_X_|_O_|_X_|\n",
      "|_X_|_O_|___|\n",
      "You Win!\n"
     ]
    }
   ],
   "source": [
    "tiktaktoe()"
   ]
  }
 ],
 "metadata": {
  "kernelspec": {
   "display_name": "Python 3",
   "language": "python",
   "name": "python3"
  },
  "language_info": {
   "codemirror_mode": {
    "name": "ipython",
    "version": 3
   },
   "file_extension": ".py",
   "mimetype": "text/x-python",
   "name": "python",
   "nbconvert_exporter": "python",
   "pygments_lexer": "ipython3",
   "version": "3.8.8"
  }
 },
 "nbformat": 4,
 "nbformat_minor": 4
}
