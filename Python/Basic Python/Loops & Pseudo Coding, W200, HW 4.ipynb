{
 "cells": [
  {
   "cell_type": "markdown",
   "metadata": {},
   "source": [
    "## Week 4 Assignment - W200 Introduction to Data Science Programming, UC Berkeley MIDS"
   ]
  },
  {
   "cell_type": "markdown",
   "metadata": {},
   "source": [
    "Write code in this jupyter Notebook to solve the following problems. Please upload this **Notebook** with your solutions to your GitHub repository in your SUBMISSIONS/week_04 folder by 11:59PM PST the night before class."
   ]
  },
  {
   "cell_type": "markdown",
   "metadata": {},
   "source": [
    "## Objectives:\n",
    "\n",
    "- More practice with for & while loops, if statements and gathering user inputs\n",
    "- Demonstrate use of Python list comprehensions.\n",
    "- Understand the pseudo-coding and algorithm complexities"
   ]
  },
  {
   "cell_type": "markdown",
   "metadata": {},
   "source": [
    "## General Guidelines:\n",
    "\n",
    "- In each code block, do NOT delete the # Q4-x-x comment at the top of a cell (it is needed for the auto-grading!)\n",
    "- Limited user input validation and error checking is encouraged on this assignment. Each question below will indicate the type of input that you can expect. (for example, if the question states the input will be an integer, you can expect the user to input an integer and do not need to check to ensure it is an integer versus a float or a string)\n",
    "- Adding comments in your code is strongly suggested but won't be graded.\n",
    "- The examples given are samples of how we will test/grade your code. Please ensure your code outputs the same information.\n",
    "- If you are stuck on a problem or do not understand a question - please come to office hours or ask questions to the class Google group (please don't post your code though). If it is a coding problem send a private email to all of the instructors at: mids-python-instructors@googlegroups.com\n",
    "- You may use any libraries from the Python Standard Library for this assignment: https://docs.python.org/3/library/\n",
    "- We also have a tutor if you would like a 1 on 1 session!"
   ]
  },
  {
   "cell_type": "markdown",
   "metadata": {},
   "source": [
    "## Grading Rubric\n",
    "\n",
    "General grading rubric guidelines / philosophy:\n",
    "\n",
    "- The total possible points will be shown for each question\n",
    "- Please read each question carefully to understand the requirements\n",
    "- Points for each question are rewarded based on how well your code fulfills those requirements\n",
    "- All of the problems have an example given to help show what is needed and how to format the answer\n",
    "- For the rest of the questions, its up to you to determine the requirements and code them!\n",
    "\n",
    "More on grading:\n",
    "- If the question is blank / not attempted, no points will be given\n",
    "- Most points are given for code that runs (does not crash) and fulfills the requirements\n",
    "- Minor points are given for formatting the answer in accordance with the question"
   ]
  },
  {
   "cell_type": "markdown",
   "metadata": {},
   "source": [
    "## 4-1. Loops\n",
    "### 4-1-1. For Loops (10 points)\n",
    "\n",
    "Write a script that prompts the user for two words (two, one-word strings). Print all the **unique** letters that are common to both words, in alphabetical order, using **for** loops in your solution. A shown below case does not matter.\n",
    "\n",
    "For example:\n",
    "```\n",
    "Enter one word: Home\n",
    "Enter another word: Meter\n",
    "\n",
    "Letters in common: em\n",
    "```"
   ]
  },
  {
   "cell_type": "code",
   "execution_count": 27,
   "metadata": {},
   "outputs": [
    {
     "name": "stdout",
     "output_type": "stream",
     "text": [
      "Enter one word: Oscar Casas\n",
      "Enter another word: Casas\n",
      "Letters in common: sca\n"
     ]
    }
   ],
   "source": [
    "# Q4-1-1 Grading Tag:\n",
    "\n",
    "first = input(\"Enter one word: \")\n",
    "first = first.lower()\n",
    "second = input(\"Enter another word: \")\n",
    "second = second.lower()\n",
    "word_1 = []\n",
    "word_2 = []\n",
    "word_1[:] = first\n",
    "word_2[:] = second\n",
    "shared=\"\"\n",
    "i = 0\n",
    "j = 0\n",
    "\n",
    "for i in word_1:\n",
    "    for j in word_2:\n",
    "        if i in shared:\n",
    "            continue\n",
    "        elif i == j[0]:\n",
    "            shared= shared + str(j)\n",
    "print(\"Letters in common: \" + shared)\n",
    "        "
   ]
  },
  {
   "cell_type": "markdown",
   "metadata": {},
   "source": [
    "### 4-1-2. A Game of Chess (20 points: 5 points Pseudo-code / 15 points Chess)\n",
    "You place a pawn at the top left corner of an n-by-n chess board, labeled (0,0).  For each move, you have a choice: move the pawn down a single space, or move the pawn down one space and right one space.  That is, if the pawn is at position (i,j), you can move the pawn to (i+1,j) or (i+1, j+1).\n",
    "\n",
    "Ask the user for the size of a chessboard, n (**integer**).  Find the number of different paths **starting from (0,0)** that the pawn could take to reach each position on the chess board.  For example, there are two different paths the pawn can take to reach (2,1). Look at the diagrams below to convince yourself of this. You can see the four paths that you can take by move 2.\n",
    "```\n",
    "  Start -> Move 1 -> Move 2\n",
    "\n",
    "  (0,0) ->  (1,0) -> (2,1)\n",
    "  \n",
    "  (0,0) ->  (1,0) -> (2,0)\n",
    "  \n",
    "  (0,0) ->  (1,1) -> (2,1)\n",
    "  \n",
    "  (0,0) ->  (1,1) -> (2,2)\n",
    "```\n",
    "\n",
    "Print the board with the number of ways to reach each square labeled as shown below.\n",
    "\n",
    "For example:\n",
    "```\n",
    "Enter a board size: 4\n",
    "\n",
    "1 0 0 0\n",
    "1 1 0 0\n",
    "1 2 1 0\n",
    "1 3 3 1\n",
    "```\n",
    "\n",
    "#### Please create pseudocode for this problem in the first cell then implement your solution in the second cell. \n",
    "- If you need help creating pseudocode, read this article: https://www.geeksforgeeks.org/how-to-write-a-pseudo-code/ (code is java but principles are the same)"
   ]
  },
  {
   "cell_type": "code",
   "execution_count": null,
   "metadata": {
    "collapsed": true
   },
   "outputs": [],
   "source": [
    "# Pseudocode Here\n",
    "Import numpy module\n",
    "\n",
    "Ask user to imput board size\n",
    "\n",
    "Create row sequence\n",
    "\n",
    "for every value in the range of board size - 2\n",
    "Intwerim row = last row object\n",
    "second row creates new row off interim row values from the range of the length of interim row.\n",
    "\n",
    "for number i in the range of board size\n",
    "declare empty string\n",
    "    for number j in range of board size again\n",
    "        if the number j is less than length of row i-1\n",
    "            string is make equal to string + row item i,j\n",
    "            else string is added a 0\n",
    "            \n",
    "            print the string"
   ]
  },
  {
   "cell_type": "code",
   "execution_count": 37,
   "metadata": {},
   "outputs": [
    {
     "name": "stdout",
     "output_type": "stream",
     "text": [
      "Enter a board size: 5\n",
      "1 0 0 0 0 \n",
      "1 1 0 0 0 \n",
      "1 2 1 0 0 \n",
      "1 3 3 1 0 \n",
      "1 4 6 4 1 \n"
     ]
    }
   ],
   "source": [
    "# Q4-1-2 Grading Tag:\n",
    "\n",
    "# Implement Here\n",
    "#from math import factorial\n",
    "import numpy as np\n",
    "#\n",
    "n = int(input(\"Enter a board size: \"))\n",
    "\n",
    "row = [[],[1],[1,1]]\n",
    "\n",
    "for i in range(n-2):\n",
    "    var_1 = row[-1]\n",
    "    var_2 = [1] + [var_1[n] + var_1[n+1] for n in range(len(var_1)-1)] + [1]\n",
    "    row.append(var_2)\n",
    "#board = board + row\n",
    "row = row[1:]\n",
    "\n",
    "for i in range(n):\n",
    "    string = \"\"\n",
    "    for j in range(n):\n",
    "        if j <= (len(row[i])-1):\n",
    "            string = string + str(row[i][j]) + \" \"\n",
    "        else:\n",
    "            string = string + \"0\" + \" \"\n",
    "    print(string)\n"
   ]
  },
  {
   "cell_type": "markdown",
   "metadata": {},
   "source": [
    "## 4-2. Algorithms\n",
    "\n",
    "### 4-2-1. Fixing the Bisection Search (15 points)\n",
    "\n",
    "The bisection code below finds the square root of a number. Try inputting 16 into the code to confirm it works. Next, try inputting 0.25 into the bisection search algorithm below and confirm that it doesn't work. Then correct the algorithm so that it works for all positive numbers, including decimals such as 0.25."
   ]
  },
  {
   "cell_type": "code",
   "execution_count": 77,
   "metadata": {},
   "outputs": [
    {
     "name": "stdout",
     "output_type": "stream",
     "text": [
      "enter a number:1\n",
      "low = 0.0 high = 2.0\n",
      "low = 0.0 high = 1.0\n",
      "low = 0.5 high = 1.0\n",
      "low = 0.75 high = 1.0\n",
      "low = 0.875 high = 1.0\n",
      "low = 0.9375 high = 1.0\n",
      "low = 0.96875 high = 1.0\n",
      "low = 0.984375 high = 1.0\n",
      "low = 0.9921875 high = 1.0\n",
      "low = 0.99609375 high = 1.0\n",
      "low = 0.998046875 high = 1.0\n",
      "low = 0.9990234375 high = 1.0\n",
      "low = 0.99951171875 high = 1.0\n",
      "low = 0.999755859375 high = 1.0\n",
      "low = 0.9998779296875 high = 1.0\n",
      "low = 0.99993896484375 high = 1.0\n",
      "low = 0.999969482421875 high = 1.0\n",
      "number of guesses = 17\n",
      "0.9999923706054688 is close to square root of 1.0\n"
     ]
    }
   ],
   "source": [
    "# Q4-2-1 Grading Tag:\n",
    "## Please fix the code in this cell (that is don't make a new cell)\n",
    "## Bisection Search to Find a Square Root\n",
    "\n",
    "x = float(input(\"enter a number:\"))\n",
    "epsilon = 0.00001\n",
    "num_guesses = 0\n",
    "low = 0.0\n",
    "high = x+1;\n",
    "ans = (high + low)/2.0\n",
    "while high - low >= 2 * epsilon:\n",
    "    print(\"low =\",low,\"high =\", high)\n",
    "    num_guesses += 1\n",
    "    if ans ** 2 < x:\n",
    "        low = ans\n",
    "    else:\n",
    "        high = ans\n",
    "    ans = (high + low)/2.0\n",
    "print('number of guesses =', num_guesses)\n",
    "print(ans, 'is close to square root of', x)"
   ]
  },
  {
   "cell_type": "markdown",
   "metadata": {},
   "source": [
    "### 4-2-2. Bisection Search vs. Brute Force (5 points)\n",
    "\n",
    "Please answer the following questions as a short answer discussion not more than 1-2 paragraphs.  These methods are described in the async video lectures 4.5, 4.6 & 4.7.\n",
    "\n",
    "In your own words, why does the bisection search algorithm for finding square roots work faster on large numbers than the brute force algorithm? Write your answer below."
   ]
  },
  {
   "cell_type": "markdown",
   "metadata": {},
   "source": [
    "The reason it works faster is while the brute force has to increase in tiny steps, the bisection algorithm increases in magnitudes or decreases in magnitudes of 2 so a very large number can be found much quicker since 2^n will pass it way before .0001*n will. Once passed, the bisection search then resets its low and begins again but for large numbers this allows for quick findings in many less steps."
   ]
  },
  {
   "cell_type": "markdown",
   "metadata": {},
   "source": [
    "### 4-2-3. Bisection Search vs Newton's Method (5 points)\n",
    "\n",
    "In your own words, why does Newton's method for finding square roots outperform both the brute force and the bisection search algorithms? Write your answer below."
   ]
  },
  {
   "cell_type": "markdown",
   "metadata": {},
   "source": [
    "The newtons method is efficient because instead of multiplying by two or halving, it goes up by its own magnitude. The newtons method understand that the square root must be between x and the guess so by making the guess the average of x and the guess, it approaches its limit quickly. So for large numbers the ability to do the magnitude of itself is much better than just having high and low values that you multiply or divide by 2. "
   ]
  },
  {
   "cell_type": "markdown",
   "metadata": {},
   "source": [
    "### 4-2-4. Interpreting Instructions for an Algorithm (20 points)\n",
    "\n",
    "Implement this digit-by-digit algorithm to find the square root of x to a precision of epsilon.\n",
    "  1. Begin with a step size of 1 and guess of zero.\n",
    "  2. Increase the guess by the step size as long as doing so would not cause the guess^2 to exceed x. Repeat this step (step 2) until the next repetition will cause guess^2 to exceed x.\n",
    "  3. If the step size is greater than or equal to epsilon, then divide the step size by 10 and go back to step 2.\n",
    "\n",
    "Notice that once a digit has been found, it is not changed again.  Try using your code to find the square root of 10 to an epsilon of 10 decimal places.  This algorithm should not take over 30 seconds to run (if it does you have coded something incorrectly!). \n",
    "\n",
    "If you are getting an answer that is off by epsilon (for example 3.1622776602 instead of 3.1622776601), this might be caused by the floating point error. You can read more about that here: https://docs.python.org/3/tutorial/floatingpoint.html. To fix this problem, you can use the Decimal library here: https://docs.python.org/3/library/decimal.html#module-decimal\n",
    "\n",
    "Hint: It might be helpful to write out by hand an easier example like '4' to understand how the algorithm works.\n",
    "\n",
    "Example output:\n",
    "\n",
    "```\n",
    "Enter a number to find the square root: 10\n",
    "The square root of 10 is 3.1622776601.\n",
    "```"
   ]
  },
  {
   "cell_type": "code",
   "execution_count": 10,
   "metadata": {},
   "outputs": [
    {
     "name": "stdout",
     "output_type": "stream",
     "text": [
      "Enter a number to find the square root: 10\n",
      "The square root of 10.0 is 3.1622776601\n"
     ]
    }
   ],
   "source": [
    "# Q4-2-4 Grading Tag:\n",
    "from decimal import Decimal\n",
    "import math \n",
    "\n",
    "x = float(input('Enter a number to find the square root: '))\n",
    "\n",
    "step = 1\n",
    "epsilon = .0000000001\n",
    "ans =0.0\n",
    "\n",
    "while ans**2 != x:\n",
    "    if ans * ans <= x-epsilon:\n",
    "        ans = ans + step\n",
    "    elif ans * ans >= x-epsilon and ans * ans <= x+epsilon:\n",
    "        ans = math.floor(ans * 10000000000)/10000000000\n",
    "        print(f\"The square root of {x} is {ans}\")\n",
    "        break\n",
    "    else:\n",
    "        ans=ans - step\n",
    "        step = step/10"
   ]
  },
  {
   "cell_type": "markdown",
   "metadata": {},
   "source": [
    "## 4-3. List Comprehensions (25 points - 5 points each)\n",
    "\n",
    "Each list comprehension below can be done in just one line/statement and needs to output one list. \n",
    "\n",
    "A note on displaying lists in Python: sometimes Python displays lists like `[1,2,3]` and other times lists display as \n",
    "```\n",
    "[1,\n",
    " 2,\n",
    " 3]\n",
    "```\n",
    "Either way these lists contain the same values and information (and are the same answer for this problem)."
   ]
  },
  {
   "cell_type": "markdown",
   "metadata": {},
   "source": [
    "**4-3-1. Use a single comprehension** to make a list of the square numbers below 100 that give a remainder of 1 when divided by 3.\n",
    "\n",
    "Example output (these are the first two elements of the list - obviously not the full list!):\n",
    "```\n",
    "[1, 4, ... ]\n",
    "```"
   ]
  },
  {
   "cell_type": "code",
   "execution_count": 21,
   "metadata": {},
   "outputs": [
    {
     "name": "stdout",
     "output_type": "stream",
     "text": [
      "[1, 4, 16, 25, 49, 64, 100]\n"
     ]
    }
   ],
   "source": [
    "# Q4-3-1 Grading Tag:\n",
    "lst=[]\n",
    "for x in range(1,11):\n",
    "    if (x*x)%3 == 1:\n",
    "        lst.append(x*x)\n",
    "print(lst)"
   ]
  },
  {
   "cell_type": "markdown",
   "metadata": {},
   "source": [
    "**4-3-2.** A string is defined in the code snippet below. **Use a single comprehension** to make a list of the first letter of each word in the snippet.\n",
    "\n",
    "Example output (these are the first two elements of the list - obviously not the full list!):\n",
    "```\n",
    "['I', 'l', ... ]\n",
    "```"
   ]
  },
  {
   "cell_type": "code",
   "execution_count": 22,
   "metadata": {},
   "outputs": [
    {
     "name": "stdout",
     "output_type": "stream",
     "text": [
      "['I', 'l', 'm', 'l', 'a', 'q', 'm', 'a', 'a', 't', 'N', 'e', 'm', 'n', 't', 'm', 'n', 't', 's', 'n', 'm', 't', 'a', 'a', 't', 'b', 'F', 't', 't', 's', 'o', 'l', 'I', 'f']\n"
     ]
    }
   ],
   "source": [
    "# Q4-3-2 Grading Tag:\n",
    "text = \"I live my life a quarter mile at a time. \\\n",
    "Nothing else matters: not the mortgage, not the store, \\\n",
    "not my team and all their bullshit. \\\n",
    "For those ten seconds or less, I’m free.\".split(\" \")\n",
    "lst=[]\n",
    "for x in text:\n",
    "    lst.append(x[0])\n",
    "print(lst)\n",
    "# the slashes just mean that the string continues onto the next line\n",
    "# if you print the text, it will make no difference"
   ]
  },
  {
   "cell_type": "markdown",
   "metadata": {},
   "source": [
    "**4-3-3.** A Pythagorean triple is a set (x,y,z), with positive integers x ≤ y ≤ z such that $x^2+y^2=z^2$. **Use a single comprehension** to make a list of all Pythagorean triples such that all 3 numbers are below 25.\n",
    "\n",
    "Example output (these are the first two elements of the list - obviously not the full list!):\n",
    "```\n",
    "[(3, 4, 5), (5, 12, 13), ... ]\n",
    "```"
   ]
  },
  {
   "cell_type": "code",
   "execution_count": 28,
   "metadata": {},
   "outputs": [
    {
     "name": "stdout",
     "output_type": "stream",
     "text": [
      "[(3, 4, 5), (5, 12, 13), (6, 8, 10), (7, 24, 25), (8, 15, 17), (9, 12, 15), (12, 16, 20), (15, 20, 25)]\n"
     ]
    }
   ],
   "source": [
    "# Q4-3-3 Grading Tag:\n",
    "lst=[]\n",
    "for x in range(1,26):\n",
    "    for i in range(x,26):\n",
    "        for j in range(i,26):\n",
    "            if (x**2+i**2 == j**2):\n",
    "                lst.append((x,i,j))\n",
    "print(lst)"
   ]
  },
  {
   "cell_type": "markdown",
   "metadata": {},
   "source": [
    "**4-3-4.** Given a word, provided below, **use a single comprehension** to make a list of all strings that can be formed by deleting exactly one character from the word.\n",
    "\n",
    "Required output:\n",
    "```\n",
    "['elcomed', 'Wlcomed', 'Wecomed', 'Welomed', 'Welcmed', 'Welcoed', 'Welcomd', 'Welcome']\n",
    "```"
   ]
  },
  {
   "cell_type": "code",
   "execution_count": 29,
   "metadata": {},
   "outputs": [
    {
     "name": "stdout",
     "output_type": "stream",
     "text": [
      "['elcomed', 'Wlcomed', 'Wecomed', 'Welomed', 'Welcmed', 'Welcoed', 'Welcomd', 'Welcome']\n"
     ]
    }
   ],
   "source": [
    "# Q4-3-4 Grading Tag:\n",
    "word = \"Welcomed\"\n",
    "lst =[]\n",
    "for x in range(len(word)):\n",
    "    lst.append((word[:x] + word[x + 1:]))\n",
    "print(lst)"
   ]
  },
  {
   "cell_type": "markdown",
   "metadata": {},
   "source": [
    "**4-3-5.** Given a word, provided below, **use a single comprehension** to make a list of all strings that can be formed by replacing exactly one vowel in the word with a different vowel (a vowel is a,e,i,o,u).\n",
    "\n",
    "Required output:\n",
    "```\n",
    "['Baoted', 'Beoted', 'Bioted', 'Buoted', 'Boated', 'Boeted', 'Boited', 'Bouted', 'Bootad', 'Bootid', 'Bootod', 'Bootud']\n",
    "```"
   ]
  },
  {
   "cell_type": "code",
   "execution_count": 36,
   "metadata": {},
   "outputs": [
    {
     "name": "stdout",
     "output_type": "stream",
     "text": [
      "['Baoted', 'Beoted', 'Bioted', 'Buoted', 'Boated', 'Boeted', 'Boited', 'Bouted', 'Bootad', 'Bootid', 'Bootod', 'Bootud']\n"
     ]
    }
   ],
   "source": [
    "# Q4-3-5 Grading Tag:\n",
    "word = \"Booted\"\n",
    "lst=[]\n",
    "for x in range(len(word)):\n",
    "    if word[x] in ['a', 'e', 'i', 'o', 'u']:\n",
    "        for i in ['a', 'e', 'i', 'o', 'u']:\n",
    "            if word[x] != i:\n",
    "                lst.append((word[:x] + i + word[x+1:]))\n",
    "print(lst)\n"
   ]
  },
  {
   "cell_type": "markdown",
   "metadata": {},
   "source": [
    "## If you have feedback for this homework, please submit it using the link below:\n",
    "\n",
    "http://goo.gl/forms/74yCiQTf6k"
   ]
  }
 ],
 "metadata": {
  "kernelspec": {
   "display_name": "Python 3",
   "language": "python",
   "name": "python3"
  },
  "language_info": {
   "codemirror_mode": {
    "name": "ipython",
    "version": 3
   },
   "file_extension": ".py",
   "mimetype": "text/x-python",
   "name": "python",
   "nbconvert_exporter": "python",
   "pygments_lexer": "ipython3",
   "version": "3.8.8"
  }
 },
 "nbformat": 4,
 "nbformat_minor": 1
}
