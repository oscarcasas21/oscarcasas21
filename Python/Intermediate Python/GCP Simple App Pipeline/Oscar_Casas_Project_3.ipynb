{
 "cells": [
  {
   "cell_type": "markdown",
   "id": "b7868ea0",
   "metadata": {},
   "source": [
    "# Project 3 - MIDS 205 - Oscar Casas"
   ]
  },
  {
   "cell_type": "markdown",
   "id": "275b7c99",
   "metadata": {},
   "source": [
    "## The APP"
   ]
  },
  {
   "cell_type": "markdown",
   "id": "77ac6395",
   "metadata": {},
   "source": [
    "In this app I created a user interface to choose a fighter where one can do some events such as joining a guild and buying a sword. The interface sends the user data to a full streaming data pipeline to be stored in cloudera hadoop in parquet compressed files. I use Hive to create the temporary tables that I then couple with presto to query the data to generate business knowledge. "
   ]
  },
  {
   "cell_type": "markdown",
   "id": "184dd1df",
   "metadata": {},
   "source": [
    "This game has users log in and then has the possibility for users to buy different type of swords and also has users be able to join different type of guilds. Users can also log in and out of the game as needed."
   ]
  },
  {
   "cell_type": "markdown",
   "id": "f197df7d",
   "metadata": {},
   "source": [
    "## Files Submitted"
   ]
  },
  {
   "cell_type": "markdown",
   "id": "fbfad2a2",
   "metadata": {},
   "source": [
    "1) docker-compose.yml: is a config file for docker-compose. It allows to deploy, combine and configure multiple docker-container at the same time.\n",
    "\n",
    "2) game_api.py: code for game application which allows users to create events in the application such as purchase a sword and join a guild.\n",
    "\n",
    "3) Oscar_Casas_Project_3.ipynb: this notebook is the report on the project and should explain the process from start to finish on building a full data pipeline.\n",
    "\n",
    "4) write-stream.py & filter_writes.py: reads events from kafka, proceedes to filter the data and then transfer output to hadoop.\n",
    "\n",
    "5) generate.sh: generates random events as dictated in the file"
   ]
  },
  {
   "cell_type": "markdown",
   "id": "55c3dd1c",
   "metadata": {},
   "source": [
    "## Full Pipeline Process"
   ]
  },
  {
   "cell_type": "markdown",
   "id": "e9b2373d",
   "metadata": {},
   "source": [
    "### First Steps"
   ]
  },
  {
   "cell_type": "markdown",
   "id": "cd9c01b0",
   "metadata": {},
   "source": [
    "cd into the correct directory in gcp terminal\n",
    "> cd w205\n",
    "> cd project-3-oscarcasas\n",
    "\n",
    "spin up docker-compose\n",
    "> docker-compose up -d\n",
    "\n",
    "verify containers are running\n",
    "> docker-compose ps"
   ]
  },
  {
   "cell_type": "markdown",
   "id": "4b79cd43",
   "metadata": {},
   "source": [
    "### docker-compose.yml\n",
    "```\n",
    "---\n",
    "version: '2'\n",
    "services:\n",
    "  zookeeper:\n",
    "    image: confluentinc/cp-zookeeper:latest\n",
    "    environment:\n",
    "      ZOOKEEPER_CLIENT_PORT: 32181\n",
    "      ZOOKEEPER_TICK_TIME: 2000\n",
    "    expose:\n",
    "      - \"2181\"\n",
    "      - \"2888\"\n",
    "      - \"32181\"\n",
    "      - \"3888\"\n",
    "    extra_hosts:\n",
    "      - \"moby:127.0.0.1\"\n",
    "\n",
    "  kafka:\n",
    "    image: confluentinc/cp-kafka:latest\n",
    "    depends_on:\n",
    "      - zookeeper\n",
    "    environment:\n",
    "      KAFKA_BROKER_ID: 1\n",
    "      KAFKA_ZOOKEEPER_CONNECT: zookeeper:32181\n",
    "      KAFKA_ADVERTISED_LISTENERS: PLAINTEXT://kafka:29092\n",
    "      KAFKA_OFFSETS_TOPIC_REPLICATION_FACTOR: 1\n",
    "    expose:\n",
    "      - \"9092\"\n",
    "      - \"29092\"\n",
    "    extra_hosts:\n",
    "      - \"moby:127.0.0.1\"\n",
    "\n",
    "  cloudera:\n",
    "    image: midsw205/hadoop:0.0.2\n",
    "    hostname: cloudera\n",
    "    expose:\n",
    "      - \"8020\" # nn\n",
    "      - \"8888\" # hue\n",
    "      - \"9083\" # hive thrift\n",
    "      - \"10000\" # hive jdbc\n",
    "      - \"50070\" # nn http\n",
    "    ports:\n",
    "      - \"8888:8888\"\n",
    "    extra_hosts:\n",
    "      - \"moby:127.0.0.1\"\n",
    "\n",
    "  spark:\n",
    "    image: midsw205/spark-python:0.0.6\n",
    "    stdin_open: true\n",
    "    tty: true\n",
    "    volumes:\n",
    "      - ~/w205:/w205\n",
    "    expose:\n",
    "      - \"8888\"\n",
    "    #ports:\n",
    "    #  - \"8888:8888\"\n",
    "    depends_on:\n",
    "      - cloudera\n",
    "    environment:\n",
    "      HADOOP_NAMENODE: cloudera\n",
    "      HIVE_THRIFTSERVER: cloudera:9083\n",
    "    extra_hosts:\n",
    "      - \"moby:127.0.0.1\"\n",
    "    command: bash\n",
    "\n",
    "  presto:\n",
    "    image: midsw205/presto:0.0.1\n",
    "    hostname: presto\n",
    "    volumes:\n",
    "      - ~/w205:/w205\n",
    "    expose:\n",
    "      - \"8080\"\n",
    "    environment:\n",
    "      HIVE_THRIFTSERVER: cloudera:9083\n",
    "    extra_hosts:\n",
    "      - \"moby:127.0.0.1\"\n",
    "\n",
    "  mids:\n",
    "    image: midsw205/base:0.1.9\n",
    "    stdin_open: true\n",
    "    tty: true\n",
    "    volumes:\n",
    "      - ~/w205:/w205\n",
    "    expose:\n",
    "      - \"5000\"\n",
    "    ports:\n",
    "      - \"5000:5000\"\n",
    "    extra_hosts:\n",
    "      - \"moby:127.0.0.1\"\n",
    "```"
   ]
  },
  {
   "cell_type": "markdown",
   "id": "0765acea",
   "metadata": {},
   "source": [
    "### Create Kafka Topic and Run Flask"
   ]
  },
  {
   "cell_type": "markdown",
   "id": "d1ecdb48",
   "metadata": {},
   "source": [
    "Create topic events in kafka to consume the produced events\n",
    "> docker-compose exec kafka kafka-topics --create --topic events --partitions 1 --replication-factor 1 --if-not-exists --bootstrap-server kafka:29092\n",
    "\n",
    "Run Flask on game_api.py\n",
    "> docker-compose exec mids env FLASK_APP=/w205/project-3-oscarcasas21/game_api.py flask run --host 0.0.0.0\n",
    "\n",
    "Open a new terminal and monitor the events\n",
    "> docker-compose exec mids kafkacat -C -b kafka:29092 -t events -o beginning"
   ]
  },
  {
   "cell_type": "markdown",
   "id": "1ff017fa",
   "metadata": {},
   "source": [
    "## game_api.py"
   ]
  },
  {
   "cell_type": "markdown",
   "id": "e8975ba1",
   "metadata": {},
   "source": [
    "```\n",
    "#!/usr/bin/env python\n",
    "import json\n",
    "from kafka import KafkaProducer\n",
    "from flask import Flask, request\n",
    "\n",
    "app = Flask(__name__)\n",
    "producer = KafkaProducer(bootstrap_servers='kafka:29092')\n",
    "\n",
    "\n",
    "def log_to_kafka(topic, event):\n",
    "    event.update(request.headers)\n",
    "    producer.send(topic, json.dumps(event).encode())\n",
    "\n",
    "\n",
    "@app.route(\"/\")\n",
    "def default_response():\n",
    "    default_event = {'event_type': 'default'}\n",
    "    log_to_kafka('events', default_event)\n",
    "    return \"This is the default response!\\n\"\n",
    "\n",
    "@app.route(\"/purchase_sword/<type>\")\n",
    "def purchase_sword(type):\n",
    "    purchase_sword_event = {'event_type': 'purchase_sword','sword_type':type}\n",
    "    log_to_kafka('events', purchase_sword_event)\n",
    "    return \"Guild Joined! \"+ type +\"\\n\"\n",
    "\n",
    "@app.route(\"/join_guild/<type>\")\n",
    "def join_guild(type):\n",
    "    join_guild_event = {'event_type': 'join_guild','guild_type':type}\n",
    "    log_to_kafka('events', join_guild_event)\n",
    "    return \"Guild Joined! \"+ type +\"\\n\"\n",
    "\n",
    "@app.route(\"/login\", methods=['POST'])\n",
    "def login():\n",
    "    id = request.args.get('id',default=0,type=int)\n",
    "    login_event = {'event_type': 'login','id':id}\n",
    "    log_to_kafka('events', login_event)\n",
    "    return \"User logged in = \"+str(id)+\"\\n\"\n",
    "\n",
    "@app.route(\"/logout\", methods=['POST'])\n",
    "def logout():\n",
    "    id = request.args.get('id',default=0,type=int)\n",
    "    logout_event = {'event_type': 'logout','id':id}\n",
    "    log_to_kafka('events', logout_event)\n",
    "    return \"User logged out = \"+str(id)+\"\\n\"\n",
    "```"
   ]
  },
  {
   "cell_type": "markdown",
   "id": "7d093905",
   "metadata": {},
   "source": [
    "### Apache Bench Create Events"
   ]
  },
  {
   "cell_type": "markdown",
   "id": "c6c86e83",
   "metadata": {},
   "source": [
    "#### Apache Bench Simple"
   ]
  },
  {
   "cell_type": "markdown",
   "id": "66d835f6",
   "metadata": {},
   "source": [
    "The data consists of 3 events, purchase event, join guild event and create guild event. Below are the Apache Bench commands to explain how they work. Purchases needs the item being purchased and the type, such as purchases/sword/katana. Join and create guild however just needs the name of the guild."
   ]
  },
  {
   "cell_type": "markdown",
   "id": "046e4c5a",
   "metadata": {},
   "source": [
    "- docker-compose exec mids ab -n 10 -H \"Host: user1.comcast.com\" http://localhost:5000/\n",
    "\n",
    "- docker-compose exec mids ab -n 10 -H \"Host: user1.comcast.com\" http://localhost:5000/purchases/sword/katana\n",
    "\n",
    "- docker-compose exec mids ab -n 10 -H \"Host: user1.comcast.com\" http://localhost:5000/purchases/armour/iron\n",
    "        \n",
    "- docker-compose exec mids ab -n 10 -H \"Host: user1.comcast.com\" http://localhost:5000/join_guild/vikings\n",
    "        \n",
    "- docker-compose exec mids ab -n 10 -H \"Host: user2.att.com\" http://localhost:5000/\n",
    "\n",
    "- docker-compose exec mids ab -n 10 -H \"Host: user2.att.com\" http://localhost:5000/purchases/sword/longsword\n",
    "        \n",
    "- docker-compose exec mids ab -n 10 -H \"Host: user2.att.com\" http://localhost:5000/purchases/armour/iron\n",
    "            \n",
    "- docker-compose exec mids ab -n 10 -H \"Host: user2.att.com\" http://localhost:5000/join_guild/vikings\n",
    "        "
   ]
  },
  {
   "cell_type": "markdown",
   "id": "257f74f5",
   "metadata": {},
   "source": [
    "Create a random event generator with generate.sh below that loops until terminated."
   ]
  },
  {
   "cell_type": "markdown",
   "id": "92c9be2b",
   "metadata": {},
   "source": [
    "> ls -l generate.sh\n",
    "\n",
    "> chmod +x generate.sh\n",
    "\n",
    "> bash ./generate.sh"
   ]
  },
  {
   "cell_type": "markdown",
   "id": "541330da",
   "metadata": {},
   "source": [
    "## generate.sh"
   ]
  },
  {
   "cell_type": "markdown",
   "id": "635e2361",
   "metadata": {},
   "source": [
    "```\n",
    "#!/bin/sh\n",
    "NOOFUSERS=100\n",
    "ENDPOINTS=4\n",
    "NOOFBTYPE=3\n",
    "NOOFCTYPE=9\n",
    "\n",
    "GENERATEREQS=1000\n",
    "\n",
    "REQS=0\n",
    "until [ $REQS -gt $GENERATEREQS ]; do\n",
    "    ID=$(( ( RANDOM % $NOOFUSERS )  + 1 ))\n",
    "    EP=$(( ( RANDOM % $ENDPOINTS )  + 1 ))\n",
    "    BTYPE=$(( ( RANDOM % $NOOFBTYPE )  + 1 ))\n",
    "    CTYPE=$(( ( RANDOM % $NOOFCTYPE )  + 1 ))\n",
    "#    echo $ID $EP\n",
    "    case $EP in\n",
    "\t1)\n",
    "#    echo \"sword\"\n",
    "\t    case $BTYPE in\n",
    "\t\t1)\n",
    "\t\t    docker-compose exec mids curl \"http://localhost:5000/purchase_sword/katana\"\n",
    "\t\t    ;;\n",
    "\t\t2)\n",
    "\t\t    docker-compose exec mids curl \"http://localhost:5000/purchase_sword/long-sword\"\n",
    "\t\t    ;;\n",
    "\t\t3)\n",
    "\t\t    docker-compose exec mids curl \"http://localhost:5000/purchase_sword/saber\"\n",
    "\t\t    ;;\n",
    "\t    esac\n",
    "\t    ;;\n",
    "\n",
    "\t2)\n",
    "#   \t    echo \"affiliation\"\n",
    "\t    case $BTYPE in\n",
    "\t\t1)\n",
    "\t\t    docker-compose exec mids curl \"http://localhost:5000/join_guild/nights\"\n",
    "\t\t    ;;\n",
    "\t\t2)\n",
    "\t\t    docker-compose exec mids curl \"http://localhost:5000/join_guild/vikings\"\n",
    "\t\t    ;;\n",
    "\t\t3)\n",
    "\t\t    docker-compose exec mids curl \"http://localhost:5000/join_guild/samurai\"\n",
    "\t\t    ;;\n",
    "\t    esac\n",
    "\t    ;;\n",
    "\t3)\n",
    "\t    docker-compose exec mids curl -X POST \"http://localhost:5000/login?id=\"$ID\n",
    "\t    ;;\n",
    "\t4)\n",
    "\t    docker-compose exec mids curl -X POST \"http://localhost:5000/logout?id=\"$ID\n",
    "\t    ;;\n",
    "\n",
    "    esac\n",
    "    let REQS=REQS+1\n",
    "done\n",
    "```"
   ]
  },
  {
   "cell_type": "markdown",
   "id": "e72f441c",
   "metadata": {},
   "source": [
    "### Streaming Code"
   ]
  },
  {
   "cell_type": "markdown",
   "id": "f314d703",
   "metadata": {},
   "source": [
    "write_stream.py is then used to read the events from kafka, filter to specified data and write to hadoop. To do this the raw events are filtered by a function which defines the events and proceeds to choose whichever event is picked. The code writes the events in two different folders:\n",
    "\n",
    "/tmp/purchase_sword\n",
    "\n",
    "/tmp/join_guild\n",
    "\n",
    "> docker-compose exec spark spark-submit /w205/project-3-oscarcasas21/write_stream.py\n",
    "\n",
    "> docker-compose exec spark spark-submit /w205/project-3-oscarcasas21/filter_writes.py\n",
    "\n",
    "> docker-compose exec cloudera hadoop fs -ls /tmp/"
   ]
  },
  {
   "cell_type": "markdown",
   "id": "47f08628",
   "metadata": {},
   "source": [
    "##### Output\n",
    "```\n",
    "Found 5 items\n",
    "drwxrwxrwt   - mapred mapred              0 2016-04-06 02:26 /tmp/hadoop-yarn\n",
    "drwx-wx-wx   - hive   supergroup          0 2021-12-10 02:57 /tmp/hive\n",
    "drwxr-xr-x   - root   supergroup          0 2021-12-10 02:58 /tmp/join_guild\n",
    "drwxrwxrwt   - mapred hadoop              0 2016-04-06 02:28 /tmp/logs\n",
    "drwxr-xr-x   - root   supergroup          0 2021-12-10 02:58 /tmp/purchase_sword\n",
    "```"
   ]
  },
  {
   "cell_type": "markdown",
   "id": "5aedca04",
   "metadata": {},
   "source": [
    "Peak the actual folder in hadoop\n",
    "\n",
    "> docker-compose exec cloudera hadoop fs -ls /tmp/purchase_sword/\n",
    "\n",
    "#### Output\n",
    "\n",
    "```\n",
    "Found 2 items\n",
    "-rw-r--r--   1 root supergroup          0 2021-12-10 02:58 /tmp/purchase_sword/_SUCCESS\n",
    "-rw-r--r--   1 root supergroup       2834 2021-12-10 02:58 /tmp/purchase_sword/part-00000-419d3986-138c-4c78-ae01-4\n",
    "26b7aae0fbc-c000.snappy.parquet\n",
    "```"
   ]
  },
  {
   "cell_type": "markdown",
   "id": "0c8c2b73",
   "metadata": {},
   "source": [
    "## write_stream.py"
   ]
  },
  {
   "cell_type": "markdown",
   "id": "2a5fe44e",
   "metadata": {},
   "source": [
    "```\n",
    "#!/usr/bin/env python\n",
    "\"\"\"Extract events from kafka and write them to hdfs\n",
    "\"\"\"\n",
    "import json\n",
    "from pyspark.sql import SparkSession, Row\n",
    "from pyspark.sql.functions import udf\n",
    "\n",
    "\n",
    "@udf('boolean')\n",
    "def is_join(event_as_json):\n",
    "    event = json.loads(event_as_json)\n",
    "    if event['event_type'] == 'join_guild':\n",
    "        return True\n",
    "    return False\n",
    "\n",
    "def main():\n",
    "    \"\"\"main\n",
    "    \"\"\"\n",
    "    spark = SparkSession \\\n",
    "        .builder \\\n",
    "        .appName(\"ExtractEventsJob\") \\\n",
    "        .enableHiveSupport() \\\n",
    "        .getOrCreate()\n",
    "\n",
    "    raw_events = spark \\\n",
    "        .read \\\n",
    "        .format(\"kafka\") \\\n",
    "        .option(\"kafka.bootstrap.servers\", \"kafka:29092\") \\\n",
    "        .option(\"subscribe\", \"events\") \\\n",
    "        .option(\"startingOffsets\", \"earliest\") \\\n",
    "        .option(\"endingOffsets\", \"latest\") \\\n",
    "        .load()\n",
    "\n",
    "    join_events = raw_events \\\n",
    "        .select(raw_events.value.cast('string').alias('raw'),\n",
    "                raw_events.timestamp.cast('string')) \\\n",
    "        .filter(is_join('raw'))\n",
    "    \n",
    "    extracted_join_events = join_events \\\n",
    "        .rdd \\\n",
    "        .map(lambda r: Row(timestamp=r.timestamp, **json.loads(r.raw))) \\\n",
    "        .toDF()\n",
    "    extracted_join_events.printSchema()\n",
    "    extracted_join_events.show()\n",
    "\n",
    "    extracted_join_events.registerTempTable(\"extracted_join_events\")\n",
    "    \n",
    "    spark.sql(\"\"\"\n",
    "        create external table enrollment_join\n",
    "        stored as parquet\n",
    "        location '/tmp/join_guild'\n",
    "        as\n",
    "        select * from extracted_join_events\n",
    "    \"\"\")\n",
    "\n",
    "if __name__ == \"__main__\":\n",
    "    main()\n",
    "```"
   ]
  },
  {
   "cell_type": "markdown",
   "id": "aea1a94c",
   "metadata": {},
   "source": [
    "### Prepping Querying Data"
   ]
  },
  {
   "cell_type": "markdown",
   "id": "1eea2d28",
   "metadata": {},
   "source": [
    "Call the pyspark container to call the data in hdfs for querying\n",
    "\n",
    "> docker-compose exec spark pyspark\n",
    "\n"
   ]
  },
  {
   "cell_type": "markdown",
   "id": "bdd81413",
   "metadata": {},
   "source": [
    "This isn't necessary since it is already in the write_stream files but it is useful to know.\n",
    "\n",
    "#### Swords\n",
    "Create external table in parquet as parquet snappy format\n",
    "\n",
    "> df = spark.read.parquet('/tmp/purchase_sword')\n",
    "\n",
    "> df.registerTempTable('swords')\n",
    "\n",
    "> query = \"create external table purchase_swords stored as parquet location '/tmp/purchase_swords' as select * from swords\"\n",
    "\n",
    "> spark.sql(query)\n",
    "\n",
    "#### Join Guilds\n",
    "Create external table in parquet as parquet snappy format\n",
    "\n",
    "> df = spark.read.parquet('/tmp/join_guild')\n",
    "\n",
    "> df.registerTempTable('guilds')\n",
    "\n",
    "> query = \"create external table join_guild stored as parquet location '/tmp/join_guilds' as select * from guilds\"\n",
    "\n",
    "> spark.sql(query)\n"
   ]
  },
  {
   "cell_type": "markdown",
   "id": "74a45a6d",
   "metadata": {},
   "source": [
    "### Presto"
   ]
  },
  {
   "cell_type": "markdown",
   "id": "32e0d75e",
   "metadata": {},
   "source": [
    "The tables are then queried using presto.\n",
    "\n",
    "> docker-compose exec presto presto --server presto:8080 --catalog hive --schema default\n",
    "\n",
    "> show tables;\n",
    "\n",
    "#### Output\n",
    "\n",
    "```\n",
    "presto:default> show tables;\n",
    "        Table        \n",
    "---------------------\n",
    " enrollment_join     \n",
    " enrollment_purchase \n",
    "(2 rows)\n",
    "```\n",
    "\n",
    "> describe enrollment_join;\n",
    "\n",
    "#### Output\n",
    "\n",
    "```\n",
    "presto:default> describe enrollment_join;\n",
    "   Column   |  Type   | Comment \n",
    "------------+---------+---------\n",
    " accept     | varchar |         \n",
    " host       | varchar |         \n",
    " user-agent | varchar |         \n",
    " event_type | varchar |         \n",
    " guild_name | varchar |         \n",
    " timestamp  | varchar |         \n",
    "(6 rows)\n",
    "```\n",
    "\n",
    "> describe enrollment_purchase;\n",
    "\n",
    "#### Output\n",
    "\n",
    "```\n",
    "presto:default> describe enrollment_purchase;\n",
    "   Column   |  Type   | Comment \n",
    "------------+---------+---------\n",
    " accept     | varchar |         \n",
    " host       | varchar |         \n",
    " user-agent | varchar |         \n",
    " event_type | varchar |         \n",
    " sword_type | varchar |         \n",
    " timestamp  | varchar |         \n",
    "(6 rows)\n",
    "```\n"
   ]
  },
  {
   "cell_type": "markdown",
   "id": "de2936e9",
   "metadata": {},
   "source": [
    "### Queries"
   ]
  },
  {
   "cell_type": "markdown",
   "id": "70869ad8",
   "metadata": {},
   "source": [
    "#### Select All\n",
    "\n",
    "> select * from enrollment_purchase;\n",
    "\n",
    "#### Output Sword\n",
    "```\n",
    "presto:default> select * from enrollment_purchase;\n",
    " accept |      host      | user-agent  |   event_type   | sword_type |        timestamp        \n",
    "--------+----------------+-------------+----------------+------------+-------------------------\n",
    " */*    | localhost:5000 | curl/7.47.0 | purchase_sword | long-sword | 2021-12-10 02:52:46.225 \n",
    " */*    | localhost:5000 | curl/7.47.0 | purchase_sword | katana     | 2021-12-10 02:52:46.652 \n",
    " */*    | localhost:5000 | curl/7.47.0 | purchase_sword | katana     | 2021-12-10 02:52:47.073 \n",
    " */*    | localhost:5000 | curl/7.47.0 | purchase_sword | katana     | 2021-12-10 02:52:49.614 \n",
    " */*    | localhost:5000 | curl/7.47.0 | purchase_sword | saber      | 2021-12-10 02:52:50.469 \n",
    " */*    | localhost:5000 | curl/7.47.0 | purchase_sword | long-sword | 2021-12-10 02:52:51.321 \n",
    " */*    | localhost:5000 | curl/7.47.0 | purchase_sword | katana     | 2021-12-10 02:52:52.607 \n",
    " */*    | localhost:5000 | curl/7.47.0 | purchase_sword | katana     | 2021-12-10 02:52:53.034 \n",
    " */*    | localhost:5000 | curl/7.47.0 | purchase_sword | katana     | 2021-12-10 02:52:53.897 \n",
    " */*    | localhost:5000 | curl/7.47.0 | purchase_sword | saber      | 2021-12-10 02:52:56.014 \n",
    " */*    | localhost:5000 | curl/7.47.0 | purchase_sword | long-sword | 2021-12-10 02:52:57.707 \n",
    " */*    | localhost:5000 | curl/7.47.0 | purchase_sword | katana     | 2021-12-10 02:52:58.141 \n",
    " */*    | localhost:5000 | curl/7.47.0 | purchase_sword | long-sword | 2021-12-10 02:52:59.881 \n",
    " */*    | localhost:5000 | curl/7.47.0 | purchase_sword | long-sword | 2021-12-10 02:53:02.417 \n",
    " */*    | localhost:5000 | curl/7.47.0 | purchase_sword | long-sword | 2021-12-10 02:53:05.909 \n",
    " */*    | localhost:5000 | curl/7.47.0 | purchase_sword | katana     | 2021-12-10 02:53:07.639 \n",
    " */*    | localhost:5000 | curl/7.47.0 | purchase_sword | long-sword | 2021-12-10 02:53:12.27  \n",
    " */*    | localhost:5000 | curl/7.47.0 | purchase_sword | saber      | 2021-12-10 02:53:13.97  \n",
    " */*    | localhost:5000 | curl/7.47.0 | purchase_sword | long-sword | 2021-12-10 02:53:15.685 \n",
    " */*    | localhost:5000 | curl/7.47.0 | purchase_sword | katana     | 2021-12-10 02:53:19.07  \n",
    " */*    | localhost:5000 | curl/7.47.0 | purchase_sword | katana     | 2021-12-10 02:53:22.426 \n",
    " */*    | localhost:5000 | curl/7.47.0 | purchase_sword | long-sword | 2021-12-10 02:53:24.122 \n",
    " */*    | localhost:5000 | curl/7.47.0 | purchase_sword | saber      | 2021-12-10 02:53:24.559 \n",
    "\n",
    "```\n",
    "> select * from enrollment_join;\n",
    "\n",
    "#### Output Guild\n",
    "```\n",
    "presto:default> select * from enrollment_join;\n",
    " accept |      host      | user-agent  | event_type | guild_name |        timestamp        \n",
    "--------+----------------+-------------+------------+------------+-------------------------\n",
    " */*    | localhost:5000 | curl/7.47.0 | join_guild | samurai    | 2021-12-10 02:52:42.405 \n",
    " */*    | localhost:5000 | curl/7.47.0 | join_guild | vikings    | 2021-12-10 02:52:42.829 \n",
    " */*    | localhost:5000 | curl/7.47.0 | join_guild | nights     | 2021-12-10 02:52:44.098 \n",
    " */*    | localhost:5000 | curl/7.47.0 | join_guild | samurai    | 2021-12-10 02:52:44.522 \n",
    " */*    | localhost:5000 | curl/7.47.0 | join_guild | vikings    | 2021-12-10 02:52:47.486 \n",
    " */*    | localhost:5000 | curl/7.47.0 | join_guild | vikings    | 2021-12-10 02:52:54.312 \n",
    " */*    | localhost:5000 | curl/7.47.0 | join_guild | nights     | 2021-12-10 02:52:56.426 \n",
    " */*    | localhost:5000 | curl/7.47.0 | join_guild | vikings    | 2021-12-10 02:52:57.265 \n",
    " */*    | localhost:5000 | curl/7.47.0 | join_guild | samurai    | 2021-12-10 02:52:59.013 \n",
    " */*    | localhost:5000 | curl/7.47.0 | join_guild | nights     | 2021-12-10 02:53:00.298 \n",
    " */*    | localhost:5000 | curl/7.47.0 | join_guild | nights     | 2021-12-10 02:53:01.579 \n",
    " */*    | localhost:5000 | curl/7.47.0 | join_guild | samurai    | 2021-12-10 02:53:04.131 \n",
    " */*    | localhost:5000 | curl/7.47.0 | join_guild | nights     | 2021-12-10 02:53:04.573 \n",
    " */*    | localhost:5000 | curl/7.47.0 | join_guild | samurai    | 2021-12-10 02:53:05.474 \n",
    " */*    | localhost:5000 | curl/7.47.0 | join_guild | nights     | 2021-12-10 02:53:08.457 \n",
    " */*    | localhost:5000 | curl/7.47.0 | join_guild | nights     | 2021-12-10 02:53:11.003 \n",
    " */*    | localhost:5000 | curl/7.47.0 | join_guild | samurai    | 2021-12-10 02:53:11.858 \n",
    " */*    | localhost:5000 | curl/7.47.0 | join_guild | samurai    | 2021-12-10 02:53:13.553 \n",
    "\n",
    "```"
   ]
  },
  {
   "cell_type": "markdown",
   "id": "bb70c635",
   "metadata": {},
   "source": [
    "#### Select count of sword purchase events\n",
    "\n",
    "> select count(sword_type) from enrollment_purchase;\n",
    "\n",
    "\n",
    "##### Output: 115"
   ]
  },
  {
   "cell_type": "markdown",
   "id": "2c705f53",
   "metadata": {},
   "source": [
    "#### Select count of join guild events\n",
    "\n",
    "> select count(guild_name) from enrollment_join;\n",
    "\n",
    "##### Output: 110"
   ]
  },
  {
   "cell_type": "markdown",
   "id": "fcbc9ceb",
   "metadata": {},
   "source": [
    "#### Select swords count events by type\n",
    "\n",
    "> select sword_type, count(sword_type) from enrollment_join group by sword_type;\n",
    "\n",
    "#### Output\n",
    "\n",
    "```\n",
    "presto:default> select count(guild_name) from enrollment_join group by guild_name;\n",
    " _col0 \n",
    "-------\n",
    "    34 \n",
    "    36 \n",
    "    40 \n",
    "(3 rows)\n",
    "```"
   ]
  },
  {
   "cell_type": "markdown",
   "id": "78af58da",
   "metadata": {},
   "source": [
    "#### Select guild type count\n",
    "\n",
    "> select guild_name, count(guild_name) from enrollment_join group by guild_name;\n",
    "\n",
    "#### Output\n",
    "\n",
    "```\n",
    "presto:default> select guild_name,count(guild_name) from enrollment_join group by guild_name;\n",
    " guild_name | _col1 \n",
    "------------+-------\n",
    " samurai    |    34 \n",
    " vikings    |    36 \n",
    " nights     |    40 \n",
    "(3 rows)\n",
    "\n",
    "```"
   ]
  },
  {
   "cell_type": "markdown",
   "id": "7204b81c",
   "metadata": {},
   "source": [
    "### Panda usage\n",
    "\n",
    "To use in panda it is fairly straighforward open a python notebook and use the following code."
   ]
  },
  {
   "cell_type": "raw",
   "id": "ab2798b7",
   "metadata": {},
   "source": [
    "import pandas as pd\n",
    "from pyhive import presto\n",
    "connection = presto.connect(user='http://localhost:user1.', host='user1.comcast.com', port=5000)\n",
    "\n",
    "df = pd.read_sql_query(\"select guild_name,count(guild_name) from enrollment_join group by guild_name;\", connection)\n",
    "\n",
    "print(\n",
    "    df.head()\n",
    ")"
   ]
  },
  {
   "cell_type": "markdown",
   "id": "0f588dfc",
   "metadata": {},
   "source": [
    "## Business Intelligence Analysis"
   ]
  },
  {
   "cell_type": "markdown",
   "id": "755edfe4",
   "metadata": {},
   "source": [
    "After going through the entire pipeline, creating a event generator and analalyzing the data we have some initial data that is interesting from a business perspective. Due to the fact that we are focused on starting a game that logs users purchases and affiliations, it was interesting to follow how many events happened and what happened exactly. From our data we can understand that events are somewhat rnadomly distributed between affiliation and purchases since they have 110 and 115 events respectively. The type of events also showed similar results, where no type took a large demand of the events. For the game this is good because we want even teams with diverse abilities and players. Overall, the business intelligence analysis may be simple, but it is pivotal in understanding the strengths and weaknesses of the game."
   ]
  },
  {
   "cell_type": "markdown",
   "id": "2b4f311f",
   "metadata": {},
   "source": [
    "### Shutting Down"
   ]
  },
  {
   "cell_type": "markdown",
   "id": "75c6e7f5",
   "metadata": {},
   "source": [
    "> docker-compose down"
   ]
  }
 ],
 "metadata": {
  "environment": {
   "name": "tf2-gpu.2-3.m78",
   "type": "gcloud",
   "uri": "gcr.io/deeplearning-platform-release/tf2-gpu.2-3:m78"
  },
  "kernelspec": {
   "display_name": "Python 3",
   "language": "python",
   "name": "python3"
  },
  "language_info": {
   "codemirror_mode": {
    "name": "ipython",
    "version": 3
   },
   "file_extension": ".py",
   "mimetype": "text/x-python",
   "name": "python",
   "nbconvert_exporter": "python",
   "pygments_lexer": "ipython3",
   "version": "3.7.10"
  }
 },
 "nbformat": 4,
 "nbformat_minor": 5
}
