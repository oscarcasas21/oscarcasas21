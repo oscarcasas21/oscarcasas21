{
 "cells": [
  {
   "cell_type": "code",
   "execution_count": 330,
   "metadata": {},
   "outputs": [],
   "source": [
    "# 1. Import Libraries\n",
    "\n",
    "import pandas as pd\n",
    "import numpy as np\n",
    "import math\n",
    "from numpy import concatenate\n",
    "import datetime\n",
    "from datetime import timedelta\n",
    "import dateutil\n",
    "import dateutil.parser\n",
    "from matplotlib import pyplot\n",
    "import matplotlib.pyplot as plt \n",
    "%matplotlib inline\n",
    "from matplotlib.pylab import rcParams\n",
    "rcParams['figure.figsize']=20,10\n",
    "import requests\n",
    "import seaborn as sns\n",
    "import re\n",
    "import oauth2 as oauth\n",
    "from textblob import TextBlob\n",
    "import tweepy\n",
    "from tweepy import OAuthHandler\n",
    "from sklearn.preprocessing import RobustScaler, MinMaxScaler\n",
    "from sklearn.preprocessing import LabelEncoder\n",
    "from sklearn.metrics import mean_absolute_error, mean_squared_error \n",
    "from keras.layers import LSTM, Dense, Dropout \n",
    "from keras.models import Sequential"
   ]
  },
  {
   "cell_type": "markdown",
   "metadata": {},
   "source": [
    "# Set Connections"
   ]
  },
  {
   "cell_type": "code",
   "execution_count": 331,
   "metadata": {},
   "outputs": [],
   "source": [
    "# 2.Set Connecion\n",
    "\n",
    "\n",
    "consumer = oauth.Consumer(key=consumer_key, secret=consumer_secret)\n",
    "access_token_auth = oauth.Token(key=access_token, secret=access_token_secret)\n",
    "client = oauth.Client(consumer, access_token_auth)\n",
    "\n",
    "auth = tweepy.OAuthHandler(consumer_key, consumer_secret)\n",
    "auth.set_access_token(access_token , access_token_secret )\n",
    "api = tweepy.API(auth)"
   ]
  },
  {
   "cell_type": "code",
   "execution_count": 332,
   "metadata": {},
   "outputs": [],
   "source": [
    "def new_table(start_time = '2022-01-18T00:00:00.000Z'):\n",
    "    index = pd.date_range(start = dateutil.parser.isoparse(start_time).date(), end = datetime.datetime.now().date(), freq='D')\n",
    "    columns = ['Twitter_Sentiment', 'Tweets_Number', 'Tweets_Acceleration',  'Volume', 'Price', '3_Day_MA', '5_Day_MA', '8_Day_MA','Tweets_Polyfit','Sentiment_Polyfit', 'Volume_Polyfit', \"Price_Open\"]\n",
    "    df = pd.DataFrame(index=index, columns=columns)\n",
    "    df = df.fillna(0)\n",
    "    return df\n"
   ]
  },
  {
   "cell_type": "markdown",
   "metadata": {},
   "source": [
    "# Create Tweet Growth Analysis"
   ]
  },
  {
   "cell_type": "code",
   "execution_count": 333,
   "metadata": {},
   "outputs": [],
   "source": [
    "def tweet_number(dataset, start_time = '2022-01-18T00:00:00.000Z'):\n",
    "    client = tweepy.Client(bearer_token='')\n",
    "\n",
    "    # Replace with your own search query\n",
    "    query = 'dogecoin -is:retweet'\n",
    "    today = datetime.datetime.now()\n",
    "    start_date = dateutil.parser.isoparse(start_time)\n",
    "    delta = datetime.timedelta(days=29)\n",
    " \n",
    "    while start_date.date() <= today.date():\n",
    "        if start_date.date() + delta < today.date():\n",
    "            end_date = start_date + delta\n",
    "        else:\n",
    "            end_date = today\n",
    "        \n",
    "        counts = client.get_all_tweets_count(query=query, granularity='day',start_time = start_date, end_time = end_date)\n",
    "\n",
    "        for count in counts.data:\n",
    "            tweet_date = dateutil.parser.isoparse(count[\"start\"]).date()\n",
    "            dataset.loc[str(tweet_date), 'Tweets_Number'] = int(count[\"tweet_count\"])\n",
    "            print(str(tweet_date))\n",
    "        start_date += delta\n",
    "    return dataset\n"
   ]
  },
  {
   "cell_type": "markdown",
   "metadata": {},
   "source": [
    "# Create Tweet Sentiment"
   ]
  },
  {
   "cell_type": "code",
   "execution_count": 334,
   "metadata": {},
   "outputs": [],
   "source": [
    "# Function to extract tweets\n",
    "def get_tweets(Topic, end):\n",
    "    # Create Columns of interest\n",
    "    sentiment_df = pd.DataFrame(columns=[\"Tweet\", \"Date\"])\n",
    "    # Call Api\n",
    "    tweets = tweepy.Cursor(api.search_tweets, q=Topic, count = 100, lang = \"en\", until = end).items(10)\n",
    "    i=0\n",
    "    #add tweet and date to new dataset\n",
    "    for tweet in tweets:\n",
    "        sentiment_df.loc[i] = [tweet.text,(tweet.created_at).date()]\n",
    "        i = len(sentiment_df)\n",
    "    return(sentiment_df)"
   ]
  },
  {
   "cell_type": "code",
   "execution_count": 335,
   "metadata": {},
   "outputs": [],
   "source": [
    "def growth_multiplier(start_time = '2022-01-01T00:00:00.000Z'):\n",
    "    client = tweepy.Client(bearer_token='')\n",
    "\n",
    "    # Replace with your own search query\n",
    "    query = 'dogecoin -is:retweet'\n",
    "    today = datetime.datetime.now()\n",
    "    start_date = dateutil.parser.isoparse(start_time)\n",
    "\n",
    "    counts = client.get_all_tweets_count(query=query, granularity='hour',start_time = start_date, end_time = today)\n",
    "    tweets_times = pd.DataFrame(columns = ['Hour', 'Count'])\n",
    "    for count in counts.data:\n",
    "        count[\"start\"] = count[\"start\"]\n",
    "        tweet_hour = count[\"start\"][11:13]\n",
    "        tweets_times = tweets_times.append({'Hour': tweet_hour, 'Count': int(count[\"tweet_count\"])}, ignore_index=True)\n",
    "    tweets_times = tweets_times.groupby(\"Hour\").mean()\n",
    "    tweets_times = tweets_times.cumsum()\n",
    "    tweets_times[\"Multiplier\"] = tweets_times[\"Count\"][-1]/tweets_times[\"Count\"]\n",
    "    tweets_times[\"Multiplier_Date_Adjust\"] = tweets_times[\"Multiplier\"].shift(periods=-5, fill_value=1)\n",
    "    now = datetime.datetime.now()\n",
    "    hour = now.strftime('%H')\n",
    "    multiplier = tweets_times[\"Multiplier\"][hour]\n",
    "    multiplier_adj = tweets_times[\"Multiplier_Date_Adjust\"][hour]\n",
    "\n",
    "    return multiplier, multiplier_adj"
   ]
  },
  {
   "cell_type": "markdown",
   "metadata": {},
   "source": [
    "# Analyze the tweets"
   ]
  },
  {
   "cell_type": "code",
   "execution_count": 336,
   "metadata": {},
   "outputs": [],
   "source": [
    "# Function to Clean the Tweet.\n",
    "\n",
    "def clean(tweet):\n",
    "    return ' '.join(re.sub('(@[A-Za-z0-9]+)|([^0-9A-Za-z \\t])|(\\w+:\\/\\/\\S+)|([RT])', ' ', str(tweet).lower()).split())\n"
   ]
  },
  {
   "cell_type": "code",
   "execution_count": 337,
   "metadata": {},
   "outputs": [],
   "source": [
    "# Funciton to analyze Sentiment\n",
    "def sentiment_analysis(tweet):\n",
    "    analysis = TextBlob(tweet)\n",
    "    return analysis.sentiment.polarity"
   ]
  },
  {
   "cell_type": "code",
   "execution_count": 338,
   "metadata": {},
   "outputs": [],
   "source": [
    "#Put it all Together calls fucntion to get, clean and analyze sentiment\n",
    "def twitter_sentiment(dataset, Topic=\"Dogecoin -is:retweet\", end = \"2022-01-24\"):\n",
    "    df = get_tweets(Topic, end)\n",
    "    df['clean'] = df['Tweet'].apply(lambda x : clean(x))\n",
    "    df[\"Sentiment\"] = df[\"Tweet\"].apply(lambda x : sentiment_analysis(x))\n",
    "    Sentiment = df[[\"Sentiment\", \"Date\"]]\n",
    "    #Groupby tweets date by mean of sentiment\n",
    "    Daily_Sentiment = Sentiment.groupby(Sentiment['Date']).mean().reset_index()\n",
    "    #append to dataset\n",
    "    for i in range(len(Daily_Sentiment)):\n",
    "        dataset.loc[str(Daily_Sentiment[\"Date\"][i]), 'Twitter_Sentiment'] = Daily_Sentiment[\"Sentiment\"][i]\n",
    "    return dataset\n",
    "    "
   ]
  },
  {
   "cell_type": "markdown",
   "metadata": {},
   "source": [
    "# Crypto Price Data"
   ]
  },
  {
   "cell_type": "code",
   "execution_count": 339,
   "metadata": {},
   "outputs": [],
   "source": [
    "#Get Polygon API Data\n",
    "def get_crypto_prices(dataset, start, end):\n",
    "    api_key = ''\n",
    "    #Create url that takes in start and end dates\n",
    "    api_url = f'https://api.polygon.io/v2/aggs/ticker/X:DOGEUSD/range/1/day/{start}/{end}?unadjusted=true&sort=asc&apiKey={api_key}'\n",
    "    #get json format and wrangle price date and volume \n",
    "    raw = requests.get(api_url).json()\n",
    "    df = pd.DataFrame(raw['results'])[['t','c', 'v']]\n",
    "    df = df.rename(columns = {'t':'Date','c':'Price', 'v':'Volume'})\n",
    "    df[\"Date\"] = pd.to_datetime(df[\"Date\"], unit = 'ms')\n",
    "    #this is only important for live version since polygon only allows end date data \n",
    "    # so to run before 4:30 pm EST we need to substitute dogecoins price with previous close\n",
    "    #ideally get real time but fees cost 100$/m\n",
    "    last_day_update = df.iloc[-1]['Price']\n",
    "    #append\n",
    "    for i in range(len(df)):\n",
    "        dataset.loc[str(df[\"Date\"][i]), 'Volume'] = df[\"Volume\"][i]\n",
    "        dataset.loc[str(df[\"Date\"][i]), 'Price'] = df[\"Price\"][i]\n",
    "    return dataset, last_day_update"
   ]
  },
  {
   "cell_type": "markdown",
   "metadata": {},
   "source": [
    "# LSTM Scaling & Transforming Data"
   ]
  },
  {
   "cell_type": "code",
   "execution_count": 340,
   "metadata": {},
   "outputs": [],
   "source": [
    "#Create the preparation for the LSTM Model\n",
    "def LSTM_Prep(dataset):\n",
    "\n",
    "    #define training dataset this will later be partitioned into training and validation data\n",
    "    training_dataset = dataset.copy()\n",
    "    #remove dateindex for model creation, while previous days price should have an impact not the date\n",
    "    datetime_column = training_dataset.index\n",
    "    training_dataset = training_dataset.reset_index(drop=True).copy()\n",
    "\n",
    "    #filtering variables and tables\n",
    "    FEATURES = ['Twitter_Sentiment', 'Tweets_Number', 'Tweets_Acceleration', \n",
    "    'Volume', '3_Day_MA', '5_Day_MA', '8_Day_MA','Tweets_Polyfit',\n",
    "    'Sentiment_Polyfit', 'Volume_Polyfit', \"Price_Open\", \"Percent_Change\"]\n",
    "\n",
    "    data = pd.DataFrame(training_dataset)\n",
    "    data_filtered = training_dataset.copy()\n",
    "    data_filtered_ext = data_filtered[FEATURES]\n",
    "\n",
    "    #rather than model price, we will be predicting change in price\n",
    "    data_filtered_ext['Prediction'] = data_filtered_ext[\"Percent_Change\"]\n",
    "\n",
    "    #change data shape\n",
    "    nrows = data_filtered.shape[0]\n",
    "    np_data_unscaled = np.array(training_dataset)\n",
    "    np_data = np.reshape(np_data_unscaled, (nrows, -1))\n",
    "    \n",
    "    #normalizer creater\n",
    "    scaler = MinMaxScaler()\n",
    "    np_data_scaled = scaler.fit_transform(np_data_unscaled)\n",
    "\n",
    "    #normalizer creater for prediction\n",
    "    scaler_pred = MinMaxScaler()\n",
    "    df_Close = pd.DataFrame(data_filtered_ext['Prediction'])\n",
    "    np_Close_scaled = scaler_pred.fit_transform(df_Close)\n",
    "\n",
    "    sequence_length = 50\n",
    "\n",
    "    #create partition function\n",
    "    def partition(sequence_length, data):\n",
    "        x, y = [], []\n",
    "        data_len = data.shape[0]\n",
    "        for i in range(sequence_length, data_len):\n",
    "            x.append(data[i-sequence_length:i,:]) \n",
    "            y.append(data[i, index_Close])\n",
    "        \n",
    "        x = np.array(x)\n",
    "        y = np.array(y)\n",
    "        return x, y\n",
    "\n",
    "    #get prediction data index\n",
    "    index_Close = data.columns.get_loc(\"Percent_Change\")\n",
    "\n",
    "    # Train Model on 80% of the data\n",
    "    train_data_len = math.ceil(np_data_scaled.shape[0] * .8)\n",
    "\n",
    "    # Split data in 80%\n",
    "    train_data = np_data_scaled[0:train_data_len, :]\n",
    "    test_data = np_data_scaled[train_data_len - sequence_length:, :]\n",
    "\n",
    "    # Create testing and training data\n",
    "    x_train, y_train = partition(sequence_length, train_data)\n",
    "    x_test, y_test = partition(sequence_length, test_data)\n",
    "\n",
    "    return x_train, y_train, x_test, y_test, datetime_column, scaler, scaler_pred, train_data_len, data_filtered"
   ]
  },
  {
   "cell_type": "code",
   "execution_count": 341,
   "metadata": {},
   "outputs": [],
   "source": [
    "def LSTM_Model(x_train):\n",
    "    #call model\n",
    "    model = Sequential()\n",
    "\n",
    "    # Model n_neurons = input shape with x_train.shape[2] variables\n",
    "    n_neurons = x_train.shape[1] * x_train.shape[2]\n",
    "    model.add(LSTM(n_neurons, return_sequences=True, input_shape=(x_train.shape[1], x_train.shape[2]))) \n",
    "    model.add(LSTM(n_neurons, return_sequences=False))\n",
    "    #add dense to each layer\n",
    "    model.add(Dense(10))\n",
    "    model.add(Dense(1))\n",
    "\n",
    "\n",
    "    # Compile\n",
    "    model.compile(optimizer='adam', loss='mse')\n",
    "    return model"
   ]
  },
  {
   "cell_type": "code",
   "execution_count": 342,
   "metadata": {},
   "outputs": [],
   "source": [
    "#Define model training\n",
    "def LSTM_Train(x_train, y_train, x_test, y_test, model):\n",
    "    #investigate loses to see if need more or less\n",
    "    epochs = 20\n",
    "    batch_size = 16\n",
    "    history = model.fit(x_train, y_train, batch_size=batch_size, \n",
    "                        epochs=epochs,validation_data=(x_test, y_test)\n",
    "                    )\n",
    "    return history, epochs"
   ]
  },
  {
   "cell_type": "code",
   "execution_count": 343,
   "metadata": {},
   "outputs": [],
   "source": [
    "# Plot training & validation loss values\n",
    "def LSTM_history(history, epochs):\n",
    "    fig, ax = plt.subplots(figsize=(20, 10), sharex=True)\n",
    "    plt.plot(history.history[\"loss\"])\n",
    "    plt.title(\"Model loss\")\n",
    "    plt.ylabel(\"Loss\")\n",
    "    plt.xlabel(\"Epoch\")\n",
    "    ax.xaxis.set_major_locator(plt.MaxNLocator(epochs))\n",
    "    plt.legend([\"Train\", \"Test\"], loc=\"upper left\")\n",
    "    plt.grid()\n",
    "    plt.show()"
   ]
  },
  {
   "cell_type": "code",
   "execution_count": 344,
   "metadata": {},
   "outputs": [],
   "source": [
    "def LSTM_Test(x_test, y_test, scaler_pred, model):\n",
    "    # Get the predicted values\n",
    "    y_pred_scaled = model.predict(x_test)\n",
    "\n",
    "    # Unscale the predicted values\n",
    "    y_pred = scaler_pred.inverse_transform(y_pred_scaled)\n",
    "    y_test_unscaled = scaler_pred.inverse_transform(y_test.reshape(-1, 1))\n",
    "\n",
    "\n",
    "    # Mean Absolute Error (MAE)\n",
    "    MAE = mean_absolute_error(y_test_unscaled, y_pred)\n",
    "    print(f'Median Absolute Error (MAE): {np.round(MAE, 2)}')\n",
    "\n",
    "    # Mean Absolute Percentage Error (MAPE)\n",
    "    MAPE = np.mean((np.abs(np.subtract(y_test_unscaled, y_pred)/ y_test_unscaled))) * 100\n",
    "    print(f'Mean Absolute Percentage Error (MAPE): {np.round(MAPE, 2)} %')\n",
    "\n",
    "    # Median Absolute Percentage Error (MDAPE)\n",
    "    MDAPE = np.median((np.abs(np.subtract(y_test_unscaled, y_pred)/ y_test_unscaled)) ) * 100\n",
    "    print(f'Median Absolute Percentage Error (MDAPE): {np.round(MDAPE, 2)} %')\n",
    "    return y_pred"
   ]
  },
  {
   "cell_type": "code",
   "execution_count": 345,
   "metadata": {},
   "outputs": [],
   "source": [
    "def Plot_Model(y_pred, datetime_column, train_data_len, data_filtered):\n",
    "    # How many days to display model\n",
    "    display_start_date = pd.Timestamp('today') - timedelta(days=365)\n",
    "\n",
    "    # Fix Datetime colums\n",
    "    data_filtered_sub = data_filtered.copy()\n",
    "    data_filtered_sub['Date'] = datetime_column\n",
    "    data_filtered_sub[\"Date\"] = pd.to_datetime(data_filtered_sub[\"Date\"], format = '%Y-%m-%d')\n",
    "\n",
    "    # Define Predictions and Actuals (Switch change of percentage to change of price)\n",
    "    train = data_filtered_sub[:train_data_len + 1]\n",
    "    valid = data_filtered_sub[train_data_len:]\n",
    "    valid.insert(1, \"Prediction\", y_pred.ravel(), True)\n",
    "    valid.insert(1, \"Difference\", (valid[\"Price\"]* (valid[\"Prediction\"])), True)\n",
    "    valid.insert(1, \"Predicted_Price\", (valid[\"Price\"]* (1 + valid[\"Prediction\"])), True)\n",
    "\n",
    "    # limit timeframe\n",
    "    valid = valid[valid['Date'] > display_start_date]\n",
    "    train = train[train['Date'] > display_start_date]\n",
    "    valid.to_csv(\"Prediction.csv\")\n",
    "\n",
    "    # plot\n",
    "    fig, ax1 = plt.subplots(figsize=(22, 10), sharex=True)\n",
    "    xt = train['Date']; yt = train[[\"Price\"]]\n",
    "    xv = valid['Date']; yv = valid[[\"Price\", \"Predicted_Price\"]]\n",
    "    plt.title(\"Predictions vs Actual Values\", fontsize=20)\n",
    "    plt.ylabel(\"Doge\", fontsize=18)\n",
    "    plt.plot(xt, yt, color=\"#039dfc\", linewidth=2.0)\n",
    "    plt.plot(xv, yv[\"Predicted_Price\"], color=\"#E91D9E\", linewidth=2.0)\n",
    "    plt.plot(xv, yv[\"Price\"], color=\"black\", linewidth=2.0)\n",
    "    plt.legend([\"Train\", \"Test Predictions\", \"Actual Values\"], loc=\"upper left\")\n",
    "\n",
    "    # # Create seperate bar plot with differences\n",
    "    x = valid['Date']\n",
    "    y = valid[\"Difference\"]\n",
    "\n",
    "    plt.bar(x, y, width=0.8, color=\"blue\")\n",
    "    plt.grid()\n",
    "    plt.show()"
   ]
  },
  {
   "cell_type": "code",
   "execution_count": 346,
   "metadata": {},
   "outputs": [],
   "source": [
    "def Predict_Tomorrow(dataset, scaler, model, scaler_pred):\n",
    "    #set sequence length\n",
    "    sequence_length = 50\n",
    "    df_temp = dataset[-sequence_length:]\n",
    "    new_df = df_temp\n",
    "\n",
    "    N = sequence_length\n",
    "\n",
    "    # Get todays closing price value and scale the data\n",
    "\n",
    "    last_N_days = new_df[-sequence_length:].values\n",
    "    last_N_days_scaled = scaler.transform(last_N_days)\n",
    "\n",
    "    # Append last N days\n",
    "    X_test_new = []\n",
    "    X_test_new.append(last_N_days_scaled)\n",
    "\n",
    "    # Reshape\n",
    "    pred_price_scaled = model.predict(np.array(X_test_new))\n",
    "    pred_price_unscaled = scaler_pred.inverse_transform(pred_price_scaled.reshape(-1, 1))\n",
    "\n",
    "    # PPrint Price and predicted\n",
    "    price_today = np.round(new_df['Price'][-1], 5)\n",
    "    predicted_price = price_today * (1 + np.round(pred_price_unscaled.ravel()[0], 5))\n",
    "    change_percent = np.round(100 - (price_today * 100)/predicted_price, 2)\n",
    "\n",
    "    plus = '+'; minus = ''\n",
    "    print(f'The price for \"Dogecoin\" at {datetime.date.today()} was {price_today}')\n",
    "    print(f'The predicted close price is {predicted_price} ({plus if change_percent > 0 else minus}{change_percent}%)')"
   ]
  },
  {
   "cell_type": "code",
   "execution_count": 347,
   "metadata": {},
   "outputs": [],
   "source": [
    "def main():\n",
    "    #set dates\n",
    "    start = \"2022-01-19\"\n",
    "    end = \"2022-01-25\"\n",
    "    #read in old data to limit requests to api\n",
    "    df =  pd.read_csv(\"Check.csv\", index_col=\"Date\")\n",
    "    #create new columns with needed variables\n",
    "    dataset = []\n",
    "    dataset = new_table(start_time = f'{start}T00:00:00.000Z')\n",
    "    dataset = tweet_number(dataset, start_time = f'{start}T00:00:00.000Z')\n",
    "    dataset = twitter_sentiment(dataset, Topic=\"Dogecoin -is:retweet\", end = end)\n",
    "    dataset, last_day_update = get_crypto_prices(dataset , start, end)\n",
    "    #create multiplier for last day for volume and Tweet Number based on different timezones\n",
    "    multiplier, multiplier_adj = growth_multiplier(start_time = '2022-01-01T00:00:00.000Z')\n",
    "    dataset.at[str(dataset.index[-1]), \"Tweets_Number\"] = dataset.iloc[-1]['Tweets_Number']* multiplier_adj\n",
    "    dataset.at[str(dataset.index[-1]), \"Volume\"] = dataset.iloc[-1]['Tweets_Number']* multiplier\n",
    "    #fix end of date pricing\n",
    "    \n",
    "    #Limit Requests\n",
    "    dataset[\"Twitter_Sentiment\"] = 1\n",
    "    #Fix datetimes between old and new rows\n",
    "    df.index = pd.to_datetime(df.index)\n",
    "    df = df.append(dataset)\n",
    "    dataset = df\n",
    "    #fix previous day price to make sure if ran before business close to update price to new one available\n",
    "    if dataset.iloc[-2]['Price'] == dataset.iloc[-3]['Price']:\n",
    "        dataset.at[str(dataset.index[-2]), \"Price\"] = last_day_update\n",
    "    dataset.at[str(dataset.index[-1]), \"Price\"] = dataset.iloc[-2]['Price']\n",
    "    #create moving averages\n",
    "    dataset['3_Day_MA'] = dataset['Price'].rolling(3).mean()\n",
    "    dataset['5_Day_MA'] = dataset['Price'].rolling(5).mean()\n",
    "    dataset['8_Day_MA'] = dataset['Price'].rolling(8).mean()\n",
    "    #create tweet acceleration,polyfits and price opens\n",
    "    for i in range(len(dataset)-1):\n",
    "        dataset.at[str(dataset.index[i+1]), 'Tweets_Acceleration'] = ((dataset.iloc[i+1]['Tweets_Number']-dataset.iloc[i]['Tweets_Number'])/dataset.iloc[i]['Tweets_Number'])\n",
    "        dataset.at[str(dataset.index[i+1]), \"Price_Open\"] = (float(dataset.iloc[i]['Price'])+.001)\n",
    "        if i >= 2:\n",
    "            dataset.at[str(dataset.index[i+1]), \"Percent_Change\"] = (dataset.iloc[i]['Price']-dataset.iloc[i]['Price_Open'])/dataset.iloc[i]['Price_Open']\n",
    "        if i >= 7:\n",
    "            poly_fit_number = np.poly1d(np.polyfit(np.arange(7), dataset[\"Tweets_Number\"][i-7:i].to_numpy(), 2))\n",
    "            poly_fit_sent = np.poly1d(np.polyfit(np.arange(7),dataset[\"Twitter_Sentiment\"][i-7:i].to_numpy(), 2))\n",
    "            poly_fit_volume = np.poly1d(np.polyfit(np.arange(7), dataset[\"Volume\"][i-7:i].to_numpy(), 2))\n",
    "            dataset.loc[str(dataset.index[i+1]), \"Tweets_Polyfit\"] = np.polyval(poly_fit_number, 7)\n",
    "            dataset.loc[str(dataset.index[i+1]), \"Sentiment_Polyfit\"] = np.polyval(poly_fit_sent, 7)\n",
    "            dataset.loc[str(dataset.index[i+1]), \"Volume_Polyfit\"] = np.polyval(poly_fit_volume, 7)\n",
    "    #fix datetime isses in dataset\n",
    "    dataset.index.name = \"Date\"\n",
    "    dataset.reset_index(drop = False, inplace = True)\n",
    "    dataset[\"Date\"] = dataset[\"Date\"].astype(str)\n",
    "    dataset.set_index(\"Date\", inplace= True)\n",
    "    dataset = dataset.fillna(0)\n",
    "    #send dataset to file\n",
    "    dataset.to_csv(\"Check.csv\")\n",
    "    #prep LSTM and define model\n",
    "    x_train, y_train, x_test, y_test, datetime_column, scaler, scaler_pred, train_data_len, data_filtered = LSTM_Prep(dataset)\n",
    "    model = LSTM_Model(x_train)\n",
    "    history, epochs = LSTM_Train(x_train, y_train, x_test, y_test, model)\n",
    "    #LSTM_history(history, epochs)\n",
    "    #predict model\n",
    "    y_pred = LSTM_Test(x_test, y_test, scaler_pred, model)\n",
    "    Plot_Model(y_pred, datetime_column, train_data_len, data_filtered)\n",
    "    Predict_Tomorrow(dataset, scaler, model, scaler_pred)\n",
    "    return "
   ]
  },
  {
   "cell_type": "code",
   "execution_count": 348,
   "metadata": {},
   "outputs": [
    {
     "name": "stdout",
     "output_type": "stream",
     "text": [
      "2022-01-19\n",
      "2022-01-20\n",
      "2022-01-21\n",
      "2022-01-22\n",
      "2022-01-23\n",
      "2022-01-24\n",
      "2022-01-25\n",
      "Epoch 1/20\n",
      "17/17 [==============================] - 12s 492ms/step - loss: 0.3484 - val_loss: 0.0065\n",
      "Epoch 2/20\n",
      "17/17 [==============================] - 7s 412ms/step - loss: 0.0055 - val_loss: 6.5630e-04\n",
      "Epoch 3/20\n",
      "17/17 [==============================] - 7s 429ms/step - loss: 0.0045 - val_loss: 9.9194e-04\n",
      "Epoch 4/20\n",
      "17/17 [==============================] - 8s 453ms/step - loss: 0.0042 - val_loss: 1.4633e-04\n",
      "Epoch 5/20\n",
      "17/17 [==============================] - 7s 441ms/step - loss: 0.0044 - val_loss: 2.9696e-04\n",
      "Epoch 6/20\n",
      "17/17 [==============================] - 8s 477ms/step - loss: 0.0045 - val_loss: 5.2355e-04\n",
      "Epoch 7/20\n",
      "17/17 [==============================] - 7s 438ms/step - loss: 0.0043 - val_loss: 5.4457e-04\n",
      "Epoch 8/20\n",
      "17/17 [==============================] - 6s 382ms/step - loss: 0.0042 - val_loss: 0.0013\n",
      "Epoch 9/20\n",
      "17/17 [==============================] - 7s 421ms/step - loss: 0.0043 - val_loss: 4.5881e-04\n",
      "Epoch 10/20\n",
      "17/17 [==============================] - 7s 427ms/step - loss: 0.0040 - val_loss: 1.5104e-04\n",
      "Epoch 11/20\n",
      "17/17 [==============================] - 7s 412ms/step - loss: 0.0040 - val_loss: 2.6926e-04\n",
      "Epoch 12/20\n",
      "17/17 [==============================] - 8s 470ms/step - loss: 0.0039 - val_loss: 1.6686e-04\n",
      "Epoch 13/20\n",
      "17/17 [==============================] - 9s 514ms/step - loss: 0.0040 - val_loss: 2.2433e-04\n",
      "Epoch 14/20\n",
      "17/17 [==============================] - 8s 486ms/step - loss: 0.0040 - val_loss: 1.4167e-04\n",
      "Epoch 15/20\n",
      "17/17 [==============================] - 9s 513ms/step - loss: 0.0039 - val_loss: 0.0010\n",
      "Epoch 16/20\n",
      "17/17 [==============================] - 7s 433ms/step - loss: 0.0047 - val_loss: 1.9748e-04\n",
      "Epoch 17/20\n",
      "17/17 [==============================] - 8s 455ms/step - loss: 0.0040 - val_loss: 0.0033\n",
      "Epoch 18/20\n",
      "17/17 [==============================] - 7s 428ms/step - loss: 0.0095 - val_loss: 0.0034\n",
      "Epoch 19/20\n",
      "17/17 [==============================] - 8s 480ms/step - loss: 0.0051 - val_loss: 2.3136e-04\n",
      "Epoch 20/20\n",
      "17/17 [==============================] - 8s 483ms/step - loss: 0.0041 - val_loss: 1.6481e-04\n"
     ]
    },
    {
     "data": {
      "image/png": "[encoded data removed]",
      "text/plain": [
       "<Figure size 1440x720 with 1 Axes>"
      ]
     },
     "metadata": {
      "needs_background": "light"
     },
     "output_type": "display_data"
    },
    {
     "name": "stdout",
     "output_type": "stream",
     "text": [
      "Median Absolute Error (MAE): 0.04\n",
      "Mean Absolute Percentage Error (MAPE): 610.58 %\n",
      "Median Absolute Percentage Error (MDAPE): 146.36 %\n"
     ]
    },
    {
     "data": {
      "image/png": "[encoded data removed]",
      "text/plain": [
       "<Figure size 1584x720 with 1 Axes>"
      ]
     },
     "metadata": {
      "needs_background": "light"
     },
     "output_type": "display_data"
    },
    {
     "name": "stdout",
     "output_type": "stream",
     "text": [
      "The close price for \"Dogecoin\" at 2022-01-25 was 0.1374\n",
      "The predicted close price is 0.13394301603734493 (-2.58%)\n"
     ]
    }
   ],
   "source": [
    "main()"
   ]
  }
 ],
 "metadata": {
  "kernelspec": {
   "display_name": "Python 3",
   "language": "python",
   "name": "python3"
  },
  "language_info": {
   "codemirror_mode": {
    "name": "ipython",
    "version": 3
   },
   "file_extension": ".py",
   "mimetype": "text/x-python",
   "name": "python",
   "nbconvert_exporter": "python",
   "pygments_lexer": "ipython3",
   "version": "3.9.7"
  }
 },
 "nbformat": 4,
 "nbformat_minor": 2
}
